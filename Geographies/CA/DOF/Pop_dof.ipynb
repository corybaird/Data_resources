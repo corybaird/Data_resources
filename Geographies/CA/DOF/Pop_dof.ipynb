{
 "cells": [
  {
   "cell_type": "code",
   "execution_count": 1,
   "metadata": {},
   "outputs": [],
   "source": [
    "import pandas as pd\n",
    "import os\n",
    "idx = pd.IndexSlice"
   ]
  },
  {
   "cell_type": "code",
   "execution_count": 8,
   "metadata": {},
   "outputs": [
    {
     "data": {
      "text/plain": [
       "['E5', 'E4', 'Closed_E8_Full_Decade_Final_v2.xlsx']"
      ]
     },
     "execution_count": 8,
     "metadata": {},
     "output_type": "execute_result"
    }
   ],
   "source": [
    "files = [x for x in os.listdir('Input/') if not x.startswith('~') and not x.startswith('.')]\n",
    "files"
   ]
  },
  {
   "cell_type": "markdown",
   "metadata": {},
   "source": [
    "- https://www.dof.ca.gov/Forecasting/Demographics/Estimates/E-8/2000-10/documents/Closed_E8_Full_Decade_Final_v2.xlsx\n",
    "- https://www.dof.ca.gov/Forecasting/Demographics/Estimates/E-8/2000-10/"
   ]
  },
  {
   "cell_type": "markdown",
   "metadata": {},
   "source": [
    "# 1. E-5: Population & Housing\n",
    "- [Website](https://www.dof.ca.gov/Forecasting/Demographics/Estimates/e-5/)\n",
    "- [Dataset: E-5 Population and Housing Estimates - Organized by Geography](https://www.dof.ca.gov/Forecasting/Demographics/Estimates/e-5/documents/E-5-2021_by_Geo_Internet.xlsx)\n",
    "\n",
    "## 1.A Import"
   ]
  },
  {
   "cell_type": "code",
   "execution_count": 9,
   "metadata": {},
   "outputs": [
    {
     "data": {
      "text/plain": [
       "['E-5-2021_by_Geo_Internet.xlsx']"
      ]
     },
     "execution_count": 9,
     "metadata": {},
     "output_type": "execute_result"
    }
   ],
   "source": [
    "os.listdir('Input/E5')"
   ]
  },
  {
   "cell_type": "code",
   "execution_count": 7,
   "metadata": {},
   "outputs": [
    {
     "data": {
      "text/html": [
       "<div>\n",
       "<style scoped>\n",
       "    .dataframe tbody tr th:only-of-type {\n",
       "        vertical-align: middle;\n",
       "    }\n",
       "\n",
       "    .dataframe tbody tr th {\n",
       "        vertical-align: top;\n",
       "    }\n",
       "\n",
       "    .dataframe thead tr th {\n",
       "        text-align: left;\n",
       "    }\n",
       "</style>\n",
       "<table border=\"1\" class=\"dataframe\">\n",
       "  <thead>\n",
       "    <tr>\n",
       "      <th></th>\n",
       "      <th>Unnamed: 0_level_0</th>\n",
       "      <th>Unnamed: 1_level_0</th>\n",
       "      <th>Unnamed: 2_level_0</th>\n",
       "      <th>Unnamed: 3_level_0</th>\n",
       "      <th colspan=\"4\" halign=\"left\">POPULATION</th>\n",
       "      <th colspan=\"7\" halign=\"left\">HOUSING UNITS</th>\n",
       "    </tr>\n",
       "    <tr>\n",
       "      <th></th>\n",
       "      <th>County</th>\n",
       "      <th>City</th>\n",
       "      <th>Date</th>\n",
       "      <th>Total</th>\n",
       "      <th>Household</th>\n",
       "      <th>Group Quarters</th>\n",
       "      <th>Total2</th>\n",
       "      <th>Single Detached</th>\n",
       "      <th>Single Attached</th>\n",
       "      <th>Two to Four</th>\n",
       "      <th>Five Plus</th>\n",
       "      <th>Mobile Homes</th>\n",
       "      <th>Occupied</th>\n",
       "      <th>Vacancy Rate</th>\n",
       "      <th>Persons per Household</th>\n",
       "    </tr>\n",
       "  </thead>\n",
       "  <tbody>\n",
       "    <tr>\n",
       "      <th>0</th>\n",
       "      <td>California</td>\n",
       "      <td>State Total</td>\n",
       "      <td>2010-04-01</td>\n",
       "      <td>37253956</td>\n",
       "      <td>36412191</td>\n",
       "      <td>841765</td>\n",
       "      <td>13670304</td>\n",
       "      <td>7959078</td>\n",
       "      <td>966440</td>\n",
       "      <td>1110620</td>\n",
       "      <td>3076519</td>\n",
       "      <td>557647</td>\n",
       "      <td>12568167</td>\n",
       "      <td>0.080623</td>\n",
       "      <td>2.897176</td>\n",
       "    </tr>\n",
       "    <tr>\n",
       "      <th>1</th>\n",
       "      <td>California</td>\n",
       "      <td>State Total</td>\n",
       "      <td>2011-01-01</td>\n",
       "      <td>37561624</td>\n",
       "      <td>36724643</td>\n",
       "      <td>836981</td>\n",
       "      <td>13704840</td>\n",
       "      <td>7976300</td>\n",
       "      <td>967711</td>\n",
       "      <td>1112447</td>\n",
       "      <td>3090252</td>\n",
       "      <td>558130</td>\n",
       "      <td>12601818</td>\n",
       "      <td>0.080484</td>\n",
       "      <td>2.914234</td>\n",
       "    </tr>\n",
       "    <tr>\n",
       "      <th>2</th>\n",
       "      <td>California</td>\n",
       "      <td>State Total</td>\n",
       "      <td>2012-01-01</td>\n",
       "      <td>37924661</td>\n",
       "      <td>37086745</td>\n",
       "      <td>837916</td>\n",
       "      <td>13740400</td>\n",
       "      <td>7993130</td>\n",
       "      <td>969232</td>\n",
       "      <td>1114374</td>\n",
       "      <td>3104901</td>\n",
       "      <td>558763</td>\n",
       "      <td>12640818</td>\n",
       "      <td>0.080025</td>\n",
       "      <td>2.933888</td>\n",
       "    </tr>\n",
       "  </tbody>\n",
       "</table>\n",
       "</div>"
      ],
      "text/plain": [
       "  Unnamed: 0_level_0 Unnamed: 1_level_0 Unnamed: 2_level_0 Unnamed: 3_level_0  \\\n",
       "              County               City               Date              Total   \n",
       "0         California        State Total         2010-04-01           37253956   \n",
       "1        California         State Total         2011-01-01           37561624   \n",
       "2        California         State Total         2012-01-01           37924661   \n",
       "\n",
       "  POPULATION                                            HOUSING UNITS  \\\n",
       "   Household Group Quarters    Total2 Single Detached Single Attached   \n",
       "0   36412191         841765  13670304         7959078          966440   \n",
       "1   36724643         836981  13704840         7976300          967711   \n",
       "2   37086745         837916  13740400         7993130          969232   \n",
       "\n",
       "                                                             \\\n",
       "  Two to Four Five Plus Mobile Homes  Occupied Vacancy Rate   \n",
       "0     1110620   3076519       557647  12568167     0.080623   \n",
       "1     1112447   3090252       558130  12601818     0.080484   \n",
       "2     1114374   3104901       558763  12640818     0.080025   \n",
       "\n",
       "                         \n",
       "  Persons per Household  \n",
       "0              2.897176  \n",
       "1              2.914234  \n",
       "2              2.933888  "
      ]
     },
     "execution_count": 7,
     "metadata": {},
     "output_type": "execute_result"
    }
   ],
   "source": [
    "df = pd.read_excel('Input/E5/E-5-2021_by_Geo_Internet.xlsx',\n",
    "              header= [1,2],\n",
    "             sheet_name=1,\n",
    "             parse_dates=True,\n",
    "                  )\n",
    "df.head(3)"
   ]
  },
  {
   "cell_type": "markdown",
   "metadata": {},
   "source": [
    "# 2. E4: Historical Population Estimates for Cities, Counties, and the State"
   ]
  },
  {
   "cell_type": "markdown",
   "metadata": {},
   "source": [
    "## 2.1 Import"
   ]
  },
  {
   "cell_type": "code",
   "execution_count": 12,
   "metadata": {},
   "outputs": [
    {
     "data": {
      "text/plain": [
       "['E-4_90-00_Rpt.xlsx',\n",
       " 'E-4_2021InternetVersion.xlsx',\n",
       " 'E4_2000-2010_Report_Final_EOC_000.xlsx']"
      ]
     },
     "execution_count": 12,
     "metadata": {},
     "output_type": "execute_result"
    }
   ],
   "source": [
    "path = 'Input/E4/'\n",
    "files = os.listdir(path)\n",
    "files"
   ]
  },
  {
   "cell_type": "code",
   "execution_count": 17,
   "metadata": {},
   "outputs": [
    {
     "data": {
      "text/html": [
       "<div>\n",
       "<style scoped>\n",
       "    .dataframe tbody tr th:only-of-type {\n",
       "        vertical-align: middle;\n",
       "    }\n",
       "\n",
       "    .dataframe tbody tr th {\n",
       "        vertical-align: top;\n",
       "    }\n",
       "\n",
       "    .dataframe thead th {\n",
       "        text-align: right;\n",
       "    }\n",
       "</style>\n",
       "<table border=\"1\" class=\"dataframe\">\n",
       "  <thead>\n",
       "    <tr style=\"text-align: right;\">\n",
       "      <th></th>\n",
       "      <th>COUNTY/CITY</th>\n",
       "      <th>4/1/2010</th>\n",
       "      <th>1/1/2011</th>\n",
       "      <th>1/1/2012</th>\n",
       "      <th>1/1/2013</th>\n",
       "      <th>1/1/2014</th>\n",
       "      <th>1/1/2015</th>\n",
       "      <th>1/1/2016</th>\n",
       "      <th>1/1/2017</th>\n",
       "      <th>1/1/2018</th>\n",
       "      <th>...</th>\n",
       "      <th>Column16362</th>\n",
       "      <th>Column16363</th>\n",
       "      <th>Column16364</th>\n",
       "      <th>Column16365</th>\n",
       "      <th>Column16366</th>\n",
       "      <th>Column16367</th>\n",
       "      <th>Column16368</th>\n",
       "      <th>Column16369</th>\n",
       "      <th>Column16370</th>\n",
       "      <th>Column16371</th>\n",
       "    </tr>\n",
       "  </thead>\n",
       "  <tbody>\n",
       "    <tr>\n",
       "      <th>0</th>\n",
       "      <td>California</td>\n",
       "      <td>NaN</td>\n",
       "      <td>NaN</td>\n",
       "      <td>NaN</td>\n",
       "      <td>NaN</td>\n",
       "      <td>NaN</td>\n",
       "      <td>NaN</td>\n",
       "      <td>NaN</td>\n",
       "      <td>NaN</td>\n",
       "      <td>NaN</td>\n",
       "      <td>...</td>\n",
       "      <td>NaN</td>\n",
       "      <td>NaN</td>\n",
       "      <td>NaN</td>\n",
       "      <td>NaN</td>\n",
       "      <td>NaN</td>\n",
       "      <td>NaN</td>\n",
       "      <td>NaN</td>\n",
       "      <td>NaN</td>\n",
       "      <td>NaN</td>\n",
       "      <td>NaN</td>\n",
       "    </tr>\n",
       "    <tr>\n",
       "      <th>1</th>\n",
       "      <td>Incorporated Total</td>\n",
       "      <td>30764188.0</td>\n",
       "      <td>31087646.0</td>\n",
       "      <td>31506150.0</td>\n",
       "      <td>31857506.0</td>\n",
       "      <td>32109257.0</td>\n",
       "      <td>32380265.0</td>\n",
       "      <td>32603823.0</td>\n",
       "      <td>32830286.0</td>\n",
       "      <td>32993851.0</td>\n",
       "      <td>...</td>\n",
       "      <td>NaN</td>\n",
       "      <td>NaN</td>\n",
       "      <td>NaN</td>\n",
       "      <td>NaN</td>\n",
       "      <td>NaN</td>\n",
       "      <td>NaN</td>\n",
       "      <td>NaN</td>\n",
       "      <td>NaN</td>\n",
       "      <td>NaN</td>\n",
       "      <td>NaN</td>\n",
       "    </tr>\n",
       "    <tr>\n",
       "      <th>2</th>\n",
       "      <td>Balance Of State Total</td>\n",
       "      <td>6489768.0</td>\n",
       "      <td>6473978.0</td>\n",
       "      <td>6418511.0</td>\n",
       "      <td>6412358.0</td>\n",
       "      <td>6447474.0</td>\n",
       "      <td>6485267.0</td>\n",
       "      <td>6499764.0</td>\n",
       "      <td>6522112.0</td>\n",
       "      <td>6525684.0</td>\n",
       "      <td>...</td>\n",
       "      <td>NaN</td>\n",
       "      <td>NaN</td>\n",
       "      <td>NaN</td>\n",
       "      <td>NaN</td>\n",
       "      <td>NaN</td>\n",
       "      <td>NaN</td>\n",
       "      <td>NaN</td>\n",
       "      <td>NaN</td>\n",
       "      <td>NaN</td>\n",
       "      <td>NaN</td>\n",
       "    </tr>\n",
       "  </tbody>\n",
       "</table>\n",
       "<p>3 rows × 16384 columns</p>\n",
       "</div>"
      ],
      "text/plain": [
       "              COUNTY/CITY    4/1/2010    1/1/2011    1/1/2012    1/1/2013  \\\n",
       "0              California         NaN         NaN         NaN         NaN   \n",
       "1      Incorporated Total  30764188.0  31087646.0  31506150.0  31857506.0   \n",
       "2  Balance Of State Total   6489768.0   6473978.0   6418511.0   6412358.0   \n",
       "\n",
       "     1/1/2014    1/1/2015    1/1/2016    1/1/2017    1/1/2018  ...  \\\n",
       "0         NaN         NaN         NaN         NaN         NaN  ...   \n",
       "1  32109257.0  32380265.0  32603823.0  32830286.0  32993851.0  ...   \n",
       "2   6447474.0   6485267.0   6499764.0   6522112.0   6525684.0  ...   \n",
       "\n",
       "   Column16362  Column16363  Column16364  Column16365  Column16366  \\\n",
       "0          NaN          NaN          NaN          NaN          NaN   \n",
       "1          NaN          NaN          NaN          NaN          NaN   \n",
       "2          NaN          NaN          NaN          NaN          NaN   \n",
       "\n",
       "   Column16367  Column16368  Column16369  Column16370  Column16371  \n",
       "0          NaN          NaN          NaN          NaN          NaN  \n",
       "1          NaN          NaN          NaN          NaN          NaN  \n",
       "2          NaN          NaN          NaN          NaN          NaN  \n",
       "\n",
       "[3 rows x 16384 columns]"
      ]
     },
     "execution_count": 17,
     "metadata": {},
     "output_type": "execute_result"
    }
   ],
   "source": [
    "df = pd.read_excel(path + files[1],\n",
    "              header= [1],\n",
    "             sheet_name='Table 2 City County', #Table 1 County State\n",
    "             #parse_dates=True,\n",
    "                  )\n",
    "df.head(3)"
   ]
  },
  {
   "cell_type": "code",
   "execution_count": null,
   "metadata": {},
   "outputs": [],
   "source": []
  }
 ],
 "metadata": {
  "kernelspec": {
   "display_name": "Python 3",
   "language": "python",
   "name": "python3"
  },
  "language_info": {
   "codemirror_mode": {
    "name": "ipython",
    "version": 3
   },
   "file_extension": ".py",
   "mimetype": "text/x-python",
   "name": "python",
   "nbconvert_exporter": "python",
   "pygments_lexer": "ipython3",
   "version": "3.8.5"
  }
 },
 "nbformat": 4,
 "nbformat_minor": 4
}
