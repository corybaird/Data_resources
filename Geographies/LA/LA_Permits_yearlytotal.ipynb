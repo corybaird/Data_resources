{
 "cells": [
  {
   "cell_type": "code",
   "execution_count": 1,
   "id": "covered-being",
   "metadata": {},
   "outputs": [],
   "source": [
    "from sodapy import Socrata\n",
    "import pandas as pd\n",
    "import json"
   ]
  },
  {
   "cell_type": "markdown",
   "id": "respected-belize",
   "metadata": {},
   "source": [
    "# City of Los Angeles Building Permits\n",
    "-[Link](https://dev.socrata.com/foundry/data.lacity.org/nbyu-2ha9)"
   ]
  },
  {
   "cell_type": "markdown",
   "id": "collaborative-harvard",
   "metadata": {},
   "source": [
    "## A.1 API key"
   ]
  },
  {
   "cell_type": "code",
   "execution_count": 2,
   "id": "systematic-costs",
   "metadata": {},
   "outputs": [],
   "source": [
    "api_file = open('api_key.txt')\n",
    "api_code = \"\".join(api_file.readlines())"
   ]
  },
  {
   "cell_type": "markdown",
   "id": "crude-accreditation",
   "metadata": {},
   "source": [
    "## A.2 Download client"
   ]
  },
  {
   "cell_type": "code",
   "execution_count": 3,
   "id": "voluntary-hurricane",
   "metadata": {},
   "outputs": [],
   "source": [
    "client = Socrata('data.lacity.org', api_code)"
   ]
  },
  {
   "cell_type": "markdown",
   "id": "coral-minutes",
   "metadata": {},
   "source": [
    "## B. Meta data"
   ]
  },
  {
   "cell_type": "code",
   "execution_count": 43,
   "id": "agreed-thought",
   "metadata": {},
   "outputs": [
    {
     "data": {
      "text/plain": [
       "['Assessor Book', 'Assessor Page', 'Assessor Parcel', 'Tract', 'Block']"
      ]
     },
     "execution_count": 43,
     "metadata": {},
     "output_type": "execute_result"
    }
   ],
   "source": [
    "metadata = client.get_metadata('nbyu-2ha9')\n",
    "[x['name'] for x in metadata['columns']][:5]"
   ]
  },
  {
   "cell_type": "code",
   "execution_count": 44,
   "id": "herbal-memorabilia",
   "metadata": {},
   "outputs": [
    {
     "data": {
      "text/plain": [
       "{'id': 422923858,\n",
       " 'name': 'Status Date',\n",
       " 'dataTypeName': 'calendar_date',\n",
       " 'description': 'Permit status date.',\n",
       " 'fieldName': 'status_date',\n",
       " 'position': 10,\n",
       " 'renderTypeName': 'calendar_date',\n",
       " 'tableColumnId': 31067931,\n",
       " 'width': 223,\n",
       " 'format': {'view': 'date_time', 'align': 'left'}}"
      ]
     },
     "execution_count": 44,
     "metadata": {},
     "output_type": "execute_result"
    }
   ],
   "source": [
    "meta_amount = [x for x in metadata['columns'] if x['name'] == 'Status Date'][0]\n",
    "meta_amount"
   ]
  },
  {
   "cell_type": "markdown",
   "id": "choice-relaxation",
   "metadata": {},
   "source": [
    "# 1. Download data\n",
    "## 1.1 Get raw "
   ]
  },
  {
   "cell_type": "code",
   "execution_count": 29,
   "id": "desirable-volleyball",
   "metadata": {},
   "outputs": [],
   "source": [
    "results = client.get('nbyu-2ha9',\n",
    "                     limit =200000,\n",
    "                     where = f\"permit_type='Bldg-New'\"\n",
    "                    )\n",
    "#results"
   ]
  },
  {
   "cell_type": "markdown",
   "id": "opposed-participation",
   "metadata": {},
   "source": [
    "## 1.2 Convert to dataframe"
   ]
  },
  {
   "cell_type": "code",
   "execution_count": 32,
   "id": "curious-cheat",
   "metadata": {},
   "outputs": [
    {
     "data": {
      "text/html": [
       "<div>\n",
       "<style scoped>\n",
       "    .dataframe tbody tr th:only-of-type {\n",
       "        vertical-align: middle;\n",
       "    }\n",
       "\n",
       "    .dataframe tbody tr th {\n",
       "        vertical-align: top;\n",
       "    }\n",
       "\n",
       "    .dataframe thead th {\n",
       "        text-align: right;\n",
       "    }\n",
       "</style>\n",
       "<table border=\"1\" class=\"dataframe\">\n",
       "  <thead>\n",
       "    <tr style=\"text-align: right;\">\n",
       "      <th></th>\n",
       "      <th>zip_code</th>\n",
       "      <th>address_end</th>\n",
       "      <th>floor_area_l_a_building_code_definition</th>\n",
       "      <th>work_description</th>\n",
       "      <th>reference_old_permit</th>\n",
       "      <th>census_tract</th>\n",
       "      <th>permit_category</th>\n",
       "      <th>latest_status</th>\n",
       "      <th>initiating_office</th>\n",
       "      <th>assessor_parcel</th>\n",
       "      <th>...</th>\n",
       "      <th>principal_last_name</th>\n",
       "      <th>contractor_address</th>\n",
       "      <th>address_fraction_start</th>\n",
       "      <th>address_fraction_end</th>\n",
       "      <th>block</th>\n",
       "      <th>applicant_business_name</th>\n",
       "      <th>applicant_address_2</th>\n",
       "      <th>occupancy</th>\n",
       "      <th>project_number</th>\n",
       "      <th>suffix_direction</th>\n",
       "    </tr>\n",
       "    <tr>\n",
       "      <th>issue_date</th>\n",
       "      <th></th>\n",
       "      <th></th>\n",
       "      <th></th>\n",
       "      <th></th>\n",
       "      <th></th>\n",
       "      <th></th>\n",
       "      <th></th>\n",
       "      <th></th>\n",
       "      <th></th>\n",
       "      <th></th>\n",
       "      <th></th>\n",
       "      <th></th>\n",
       "      <th></th>\n",
       "      <th></th>\n",
       "      <th></th>\n",
       "      <th></th>\n",
       "      <th></th>\n",
       "      <th></th>\n",
       "      <th></th>\n",
       "      <th></th>\n",
       "      <th></th>\n",
       "    </tr>\n",
       "  </thead>\n",
       "  <tbody>\n",
       "    <tr>\n",
       "      <th>2013-01-02</th>\n",
       "      <td>90045</td>\n",
       "      <td>7270</td>\n",
       "      <td>463937</td>\n",
       "      <td>CONSTRUCT NEW MIXED-USE OF RETAILS AND 4-STORY...</td>\n",
       "      <td>13LA11079</td>\n",
       "      <td>2766.04</td>\n",
       "      <td>Plan Check</td>\n",
       "      <td>CofO Issued</td>\n",
       "      <td>METRO</td>\n",
       "      <td>042</td>\n",
       "      <td>...</td>\n",
       "      <td>BERNARDS</td>\n",
       "      <td>555 FIRST STREET</td>\n",
       "      <td>NaN</td>\n",
       "      <td>NaN</td>\n",
       "      <td>NaN</td>\n",
       "      <td>VTBS</td>\n",
       "      <td>NaN</td>\n",
       "      <td>NaN</td>\n",
       "      <td>NaN</td>\n",
       "      <td>NaN</td>\n",
       "    </tr>\n",
       "    <tr>\n",
       "      <th>2013-01-02</th>\n",
       "      <td>90048</td>\n",
       "      <td>132</td>\n",
       "      <td>4501</td>\n",
       "      <td>New SFD with attached garage &lt;Fire sprinklers ...</td>\n",
       "      <td>13VN50614</td>\n",
       "      <td>2146.00</td>\n",
       "      <td>Plan Check</td>\n",
       "      <td>CofO Issued</td>\n",
       "      <td>VAN NUYS</td>\n",
       "      <td>020</td>\n",
       "      <td>...</td>\n",
       "      <td>NaN</td>\n",
       "      <td>NaN</td>\n",
       "      <td>NaN</td>\n",
       "      <td>NaN</td>\n",
       "      <td>NaN</td>\n",
       "      <td>NaN</td>\n",
       "      <td>NaN</td>\n",
       "      <td>NaN</td>\n",
       "      <td>NaN</td>\n",
       "      <td>NaN</td>\n",
       "    </tr>\n",
       "  </tbody>\n",
       "</table>\n",
       "<p>2 rows × 52 columns</p>\n",
       "</div>"
      ],
      "text/plain": [
       "           zip_code address_end floor_area_l_a_building_code_definition  \\\n",
       "issue_date                                                                \n",
       "2013-01-02    90045        7270                                  463937   \n",
       "2013-01-02    90048         132                                    4501   \n",
       "\n",
       "                                             work_description  \\\n",
       "issue_date                                                      \n",
       "2013-01-02  CONSTRUCT NEW MIXED-USE OF RETAILS AND 4-STORY...   \n",
       "2013-01-02  New SFD with attached garage <Fire sprinklers ...   \n",
       "\n",
       "           reference_old_permit census_tract permit_category latest_status  \\\n",
       "issue_date                                                                   \n",
       "2013-01-02            13LA11079      2766.04      Plan Check   CofO Issued   \n",
       "2013-01-02            13VN50614      2146.00      Plan Check   CofO Issued   \n",
       "\n",
       "           initiating_office assessor_parcel  ... principal_last_name  \\\n",
       "issue_date                                    ...                       \n",
       "2013-01-02             METRO             042  ...            BERNARDS   \n",
       "2013-01-02          VAN NUYS             020  ...                 NaN   \n",
       "\n",
       "           contractor_address address_fraction_start address_fraction_end  \\\n",
       "issue_date                                                                  \n",
       "2013-01-02   555 FIRST STREET                    NaN                  NaN   \n",
       "2013-01-02                NaN                    NaN                  NaN   \n",
       "\n",
       "           block applicant_business_name applicant_address_2 occupancy  \\\n",
       "issue_date                                                               \n",
       "2013-01-02   NaN                    VTBS                 NaN       NaN   \n",
       "2013-01-02   NaN                     NaN                 NaN       NaN   \n",
       "\n",
       "           project_number suffix_direction  \n",
       "issue_date                                  \n",
       "2013-01-02            NaN              NaN  \n",
       "2013-01-02            NaN              NaN  \n",
       "\n",
       "[2 rows x 52 columns]"
      ]
     },
     "execution_count": 32,
     "metadata": {},
     "output_type": "execute_result"
    }
   ],
   "source": [
    "df = pd.DataFrame(results)\n",
    "# Datetime\n",
    "df.issue_date = pd.to_datetime(df.issue_date)\n",
    "# Set index\n",
    "df.set_index('issue_date', inplace=True)\n",
    "# Sort index\n",
    "df = df.sort_index()\n",
    "df.head(2)"
   ]
  },
  {
   "cell_type": "markdown",
   "id": "metallic-breed",
   "metadata": {},
   "source": [
    "### 1.2.1 Show dtypes"
   ]
  },
  {
   "cell_type": "code",
   "execution_count": 33,
   "id": "dramatic-pastor",
   "metadata": {},
   "outputs": [
    {
     "data": {
      "text/plain": [
       "33745"
      ]
     },
     "execution_count": 33,
     "metadata": {},
     "output_type": "execute_result"
    }
   ],
   "source": [
    "len(df)"
   ]
  },
  {
   "cell_type": "code",
   "execution_count": 34,
   "id": "brave-watson",
   "metadata": {},
   "outputs": [
    {
     "data": {
      "text/plain": [
       "zip_code                                   object\n",
       "address_end                                object\n",
       "floor_area_l_a_building_code_definition    object\n",
       "work_description                           object\n",
       "reference_old_permit                       object\n",
       "dtype: object"
      ]
     },
     "execution_count": 34,
     "metadata": {},
     "output_type": "execute_result"
    }
   ],
   "source": [
    "df.dtypes[:5]"
   ]
  },
  {
   "cell_type": "markdown",
   "id": "premium-survivor",
   "metadata": {},
   "source": [
    "## 1.3 Show data for dates\n",
    "\n",
    "- What is status_date?"
   ]
  },
  {
   "cell_type": "code",
   "execution_count": 37,
   "id": "swiss-claim",
   "metadata": {},
   "outputs": [
    {
     "data": {
      "text/html": [
       "<div>\n",
       "<style scoped>\n",
       "    .dataframe tbody tr th:only-of-type {\n",
       "        vertical-align: middle;\n",
       "    }\n",
       "\n",
       "    .dataframe tbody tr th {\n",
       "        vertical-align: top;\n",
       "    }\n",
       "\n",
       "    .dataframe thead th {\n",
       "        text-align: right;\n",
       "    }\n",
       "</style>\n",
       "<table border=\"1\" class=\"dataframe\">\n",
       "  <thead>\n",
       "    <tr style=\"text-align: right;\">\n",
       "      <th></th>\n",
       "      <th>permit_type</th>\n",
       "      <th>work_description</th>\n",
       "      <th>applicant_last_name</th>\n",
       "      <th>license_expiration_date</th>\n",
       "      <th>status_date</th>\n",
       "    </tr>\n",
       "    <tr>\n",
       "      <th>issue_date</th>\n",
       "      <th></th>\n",
       "      <th></th>\n",
       "      <th></th>\n",
       "      <th></th>\n",
       "      <th></th>\n",
       "    </tr>\n",
       "  </thead>\n",
       "  <tbody>\n",
       "    <tr>\n",
       "      <th>2013-01-02</th>\n",
       "      <td>Bldg-New</td>\n",
       "      <td>CONSTRUCT NEW MIXED-USE OF RETAILS AND 4-STORY...</td>\n",
       "      <td>LEUS</td>\n",
       "      <td>2013-03-31T00:00:00.000</td>\n",
       "      <td>2015-07-14T00:00:00.000</td>\n",
       "    </tr>\n",
       "    <tr>\n",
       "      <th>2013-01-02</th>\n",
       "      <td>Bldg-New</td>\n",
       "      <td>New SFD with attached garage &lt;Fire sprinklers ...</td>\n",
       "      <td>GARCIA</td>\n",
       "      <td>NaN</td>\n",
       "      <td>2013-10-10T00:00:00.000</td>\n",
       "    </tr>\n",
       "    <tr>\n",
       "      <th>2013-01-02</th>\n",
       "      <td>Bldg-New</td>\n",
       "      <td>CONSTRUCT A 4-STORY,  (8 UNIT) APARTMENT BUILD...</td>\n",
       "      <td>NaN</td>\n",
       "      <td>2014-01-01T00:00:00.000</td>\n",
       "      <td>2014-02-25T00:00:00.000</td>\n",
       "    </tr>\n",
       "  </tbody>\n",
       "</table>\n",
       "</div>"
      ],
      "text/plain": [
       "           permit_type                                   work_description  \\\n",
       "issue_date                                                                  \n",
       "2013-01-02    Bldg-New  CONSTRUCT NEW MIXED-USE OF RETAILS AND 4-STORY...   \n",
       "2013-01-02    Bldg-New  New SFD with attached garage <Fire sprinklers ...   \n",
       "2013-01-02    Bldg-New  CONSTRUCT A 4-STORY,  (8 UNIT) APARTMENT BUILD...   \n",
       "\n",
       "           applicant_last_name  license_expiration_date  \\\n",
       "issue_date                                                \n",
       "2013-01-02                LEUS  2013-03-31T00:00:00.000   \n",
       "2013-01-02              GARCIA                      NaN   \n",
       "2013-01-02                 NaN  2014-01-01T00:00:00.000   \n",
       "\n",
       "                        status_date  \n",
       "issue_date                           \n",
       "2013-01-02  2015-07-14T00:00:00.000  \n",
       "2013-01-02  2013-10-10T00:00:00.000  \n",
       "2013-01-02  2014-02-25T00:00:00.000  "
      ]
     },
     "execution_count": 37,
     "metadata": {},
     "output_type": "execute_result"
    }
   ],
   "source": [
    "df.loc[:, ['permit_type',\n",
    "           'work_description',\n",
    "           'applicant_last_name', \n",
    "           'license_expiration_date', \n",
    "           'status_date']].head(3)"
   ]
  },
  {
   "cell_type": "markdown",
   "id": "toxic-bleeding",
   "metadata": {},
   "source": [
    "## 1.4 Show permit approval by year"
   ]
  },
  {
   "cell_type": "code",
   "execution_count": 36,
   "id": "brief-saturn",
   "metadata": {},
   "outputs": [
    {
     "data": {
      "text/html": [
       "<div>\n",
       "<style scoped>\n",
       "    .dataframe tbody tr th:only-of-type {\n",
       "        vertical-align: middle;\n",
       "    }\n",
       "\n",
       "    .dataframe tbody tr th {\n",
       "        vertical-align: top;\n",
       "    }\n",
       "\n",
       "    .dataframe thead th {\n",
       "        text-align: right;\n",
       "    }\n",
       "</style>\n",
       "<table border=\"1\" class=\"dataframe\">\n",
       "  <thead>\n",
       "    <tr style=\"text-align: right;\">\n",
       "      <th>permit_sub_type</th>\n",
       "      <th>1 or 2 Family Dwelling</th>\n",
       "      <th>Apartment</th>\n",
       "      <th>Commercial</th>\n",
       "    </tr>\n",
       "    <tr>\n",
       "      <th>issue_date</th>\n",
       "      <th></th>\n",
       "      <th></th>\n",
       "      <th></th>\n",
       "    </tr>\n",
       "  </thead>\n",
       "  <tbody>\n",
       "    <tr>\n",
       "      <th>2013-12-31</th>\n",
       "      <td>2058</td>\n",
       "      <td>183</td>\n",
       "      <td>260</td>\n",
       "    </tr>\n",
       "    <tr>\n",
       "      <th>2014-12-31</th>\n",
       "      <td>2667</td>\n",
       "      <td>254</td>\n",
       "      <td>319</td>\n",
       "    </tr>\n",
       "    <tr>\n",
       "      <th>2015-12-31</th>\n",
       "      <td>3094</td>\n",
       "      <td>225</td>\n",
       "      <td>278</td>\n",
       "    </tr>\n",
       "    <tr>\n",
       "      <th>2016-12-31</th>\n",
       "      <td>3139</td>\n",
       "      <td>269</td>\n",
       "      <td>260</td>\n",
       "    </tr>\n",
       "    <tr>\n",
       "      <th>2017-12-31</th>\n",
       "      <td>3724</td>\n",
       "      <td>255</td>\n",
       "      <td>346</td>\n",
       "    </tr>\n",
       "    <tr>\n",
       "      <th>2018-12-31</th>\n",
       "      <td>4004</td>\n",
       "      <td>311</td>\n",
       "      <td>336</td>\n",
       "    </tr>\n",
       "    <tr>\n",
       "      <th>2019-12-31</th>\n",
       "      <td>3927</td>\n",
       "      <td>277</td>\n",
       "      <td>337</td>\n",
       "    </tr>\n",
       "    <tr>\n",
       "      <th>2020-12-31</th>\n",
       "      <td>2680</td>\n",
       "      <td>176</td>\n",
       "      <td>249</td>\n",
       "    </tr>\n",
       "    <tr>\n",
       "      <th>2021-12-31</th>\n",
       "      <td>3173</td>\n",
       "      <td>209</td>\n",
       "      <td>181</td>\n",
       "    </tr>\n",
       "    <tr>\n",
       "      <th>2022-12-31</th>\n",
       "      <td>506</td>\n",
       "      <td>19</td>\n",
       "      <td>29</td>\n",
       "    </tr>\n",
       "  </tbody>\n",
       "</table>\n",
       "</div>"
      ],
      "text/plain": [
       "permit_sub_type  1 or 2 Family Dwelling  Apartment  Commercial\n",
       "issue_date                                                    \n",
       "2013-12-31                         2058        183         260\n",
       "2014-12-31                         2667        254         319\n",
       "2015-12-31                         3094        225         278\n",
       "2016-12-31                         3139        269         260\n",
       "2017-12-31                         3724        255         346\n",
       "2018-12-31                         4004        311         336\n",
       "2019-12-31                         3927        277         337\n",
       "2020-12-31                         2680        176         249\n",
       "2021-12-31                         3173        209         181\n",
       "2022-12-31                          506         19          29"
      ]
     },
     "execution_count": 36,
     "metadata": {},
     "output_type": "execute_result"
    }
   ],
   "source": [
    "grouper = df.groupby([pd.Grouper(freq='A'), 'permit_sub_type'])\n",
    "grouper['permit_sub_type'].count().unstack()"
   ]
  },
  {
   "cell_type": "code",
   "execution_count": null,
   "id": "capable-validity",
   "metadata": {},
   "outputs": [],
   "source": []
  }
 ],
 "metadata": {
  "kernelspec": {
   "display_name": "Python 3",
   "language": "python",
   "name": "python3"
  },
  "language_info": {
   "codemirror_mode": {
    "name": "ipython",
    "version": 3
   },
   "file_extension": ".py",
   "mimetype": "text/x-python",
   "name": "python",
   "nbconvert_exporter": "python",
   "pygments_lexer": "ipython3",
   "version": "3.8.5"
  }
 },
 "nbformat": 4,
 "nbformat_minor": 5
}
