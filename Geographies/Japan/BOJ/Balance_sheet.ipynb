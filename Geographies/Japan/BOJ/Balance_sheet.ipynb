{
 "cells": [
  {
   "cell_type": "markdown",
   "metadata": {},
   "source": [
    "# Bank of Japan accounts\n",
    "\n",
    "- https://www.boj.or.jp/en/statistics/boj/other/acmai/release/2020/ac200710.htm/"
   ]
  },
  {
   "cell_type": "code",
   "execution_count": 1,
   "metadata": {},
   "outputs": [],
   "source": [
    "import pandas as pd\n",
    "import matplotlib.pyplot as plt\n",
    "import os\n",
    "from bs4 import BeautifulSoup\n",
    "import requests\n",
    "import numpy as np\n",
    "import re"
   ]
  },
  {
   "cell_type": "code",
   "execution_count": 2,
   "metadata": {},
   "outputs": [],
   "source": [
    "url ='https://www.boj.or.jp/en/statistics/boj/other/acmai/release/2020/ac200710.htm/'"
   ]
  },
  {
   "cell_type": "markdown",
   "metadata": {},
   "source": [
    "## 1. pd.read_html"
   ]
  },
  {
   "cell_type": "code",
   "execution_count": 3,
   "metadata": {},
   "outputs": [],
   "source": [
    "pd_html = pd.read_html(url)"
   ]
  },
  {
   "cell_type": "markdown",
   "metadata": {},
   "source": [
    "### 1.1 Assets"
   ]
  },
  {
   "cell_type": "code",
   "execution_count": 4,
   "metadata": {},
   "outputs": [
    {
     "data": {
      "text/html": [
       "<div>\n",
       "<style scoped>\n",
       "    .dataframe tbody tr th:only-of-type {\n",
       "        vertical-align: middle;\n",
       "    }\n",
       "\n",
       "    .dataframe tbody tr th {\n",
       "        vertical-align: top;\n",
       "    }\n",
       "\n",
       "    .dataframe thead th {\n",
       "        text-align: right;\n",
       "    }\n",
       "</style>\n",
       "<table border=\"1\" class=\"dataframe\">\n",
       "  <thead>\n",
       "    <tr style=\"text-align: right;\">\n",
       "      <th></th>\n",
       "      <th>0</th>\n",
       "      <th>1</th>\n",
       "    </tr>\n",
       "  </thead>\n",
       "  <tbody>\n",
       "    <tr>\n",
       "      <th>0</th>\n",
       "      <td>Gold</td>\n",
       "      <td>441253409</td>\n",
       "    </tr>\n",
       "    <tr>\n",
       "      <th>1</th>\n",
       "      <td>Cash1</td>\n",
       "      <td>215139362</td>\n",
       "    </tr>\n",
       "    <tr>\n",
       "      <th>2</th>\n",
       "      <td>Japanese government securities</td>\n",
       "      <td>515864916944</td>\n",
       "    </tr>\n",
       "    <tr>\n",
       "      <th>3</th>\n",
       "      <td>Commercial paper2</td>\n",
       "      <td>4281124370</td>\n",
       "    </tr>\n",
       "    <tr>\n",
       "      <th>4</th>\n",
       "      <td>Corporate bonds3</td>\n",
       "      <td>4388932854</td>\n",
       "    </tr>\n",
       "    <tr>\n",
       "      <th>5</th>\n",
       "      <td>Pecuniary trusts (stocks held as trust property)4</td>\n",
       "      <td>669482342</td>\n",
       "    </tr>\n",
       "    <tr>\n",
       "      <th>6</th>\n",
       "      <td>Pecuniary trusts (index-linked exchange-traded...</td>\n",
       "      <td>33206504054</td>\n",
       "    </tr>\n",
       "    <tr>\n",
       "      <th>7</th>\n",
       "      <td>Pecuniary trusts (Japan real estate investment...</td>\n",
       "      <td>619608007</td>\n",
       "    </tr>\n",
       "    <tr>\n",
       "      <th>8</th>\n",
       "      <td>Loans (excluding those to the Deposit Insuranc...</td>\n",
       "      <td>71860300000</td>\n",
       "    </tr>\n",
       "    <tr>\n",
       "      <th>9</th>\n",
       "      <td>Foreign currency assets7</td>\n",
       "      <td>18763152336</td>\n",
       "    </tr>\n",
       "    <tr>\n",
       "      <th>10</th>\n",
       "      <td>Deposits with agents8</td>\n",
       "      <td>12377900</td>\n",
       "    </tr>\n",
       "    <tr>\n",
       "      <th>11</th>\n",
       "      <td>Others</td>\n",
       "      <td>742900096</td>\n",
       "    </tr>\n",
       "    <tr>\n",
       "      <th>12</th>\n",
       "      <td>Total</td>\n",
       "      <td>651065691679</td>\n",
       "    </tr>\n",
       "  </tbody>\n",
       "</table>\n",
       "</div>"
      ],
      "text/plain": [
       "                                                    0             1\n",
       "0                                                Gold     441253409\n",
       "1                                               Cash1     215139362\n",
       "2                      Japanese government securities  515864916944\n",
       "3                                   Commercial paper2    4281124370\n",
       "4                                    Corporate bonds3    4388932854\n",
       "5   Pecuniary trusts (stocks held as trust property)4     669482342\n",
       "6   Pecuniary trusts (index-linked exchange-traded...   33206504054\n",
       "7   Pecuniary trusts (Japan real estate investment...     619608007\n",
       "8   Loans (excluding those to the Deposit Insuranc...   71860300000\n",
       "9                            Foreign currency assets7   18763152336\n",
       "10                              Deposits with agents8      12377900\n",
       "11                                             Others     742900096\n",
       "12                                              Total  651065691679"
      ]
     },
     "execution_count": 4,
     "metadata": {},
     "output_type": "execute_result"
    }
   ],
   "source": [
    "pd_html[0]"
   ]
  },
  {
   "cell_type": "markdown",
   "metadata": {},
   "source": [
    "### 1.2  Liabilities"
   ]
  },
  {
   "cell_type": "code",
   "execution_count": 5,
   "metadata": {},
   "outputs": [
    {
     "data": {
      "text/html": [
       "<div>\n",
       "<style scoped>\n",
       "    .dataframe tbody tr th:only-of-type {\n",
       "        vertical-align: middle;\n",
       "    }\n",
       "\n",
       "    .dataframe tbody tr th {\n",
       "        vertical-align: top;\n",
       "    }\n",
       "\n",
       "    .dataframe thead th {\n",
       "        text-align: right;\n",
       "    }\n",
       "</style>\n",
       "<table border=\"1\" class=\"dataframe\">\n",
       "  <thead>\n",
       "    <tr style=\"text-align: right;\">\n",
       "      <th></th>\n",
       "      <th>0</th>\n",
       "      <th>1</th>\n",
       "    </tr>\n",
       "  </thead>\n",
       "  <tbody>\n",
       "    <tr>\n",
       "      <th>0</th>\n",
       "      <td>Banknotes</td>\n",
       "      <td>113509908671</td>\n",
       "    </tr>\n",
       "    <tr>\n",
       "      <th>1</th>\n",
       "      <td>Current deposits</td>\n",
       "      <td>446341516593</td>\n",
       "    </tr>\n",
       "    <tr>\n",
       "      <th>2</th>\n",
       "      <td>Other deposits9</td>\n",
       "      <td>37423281482</td>\n",
       "    </tr>\n",
       "    <tr>\n",
       "      <th>3</th>\n",
       "      <td>Deposits of the government</td>\n",
       "      <td>37814688274</td>\n",
       "    </tr>\n",
       "    <tr>\n",
       "      <th>4</th>\n",
       "      <td>Payables under repurchase agreements</td>\n",
       "      <td>5543970307</td>\n",
       "    </tr>\n",
       "    <tr>\n",
       "      <th>5</th>\n",
       "      <td>Others10</td>\n",
       "      <td>705295936</td>\n",
       "    </tr>\n",
       "    <tr>\n",
       "      <th>6</th>\n",
       "      <td>Provisions</td>\n",
       "      <td>6410145786</td>\n",
       "    </tr>\n",
       "    <tr>\n",
       "      <th>7</th>\n",
       "      <td>Capital</td>\n",
       "      <td>100000</td>\n",
       "    </tr>\n",
       "    <tr>\n",
       "      <th>8</th>\n",
       "      <td>Legal and special reserves</td>\n",
       "      <td>3316784625</td>\n",
       "    </tr>\n",
       "    <tr>\n",
       "      <th>9</th>\n",
       "      <td>Total</td>\n",
       "      <td>651065691679</td>\n",
       "    </tr>\n",
       "  </tbody>\n",
       "</table>\n",
       "</div>"
      ],
      "text/plain": [
       "                                      0             1\n",
       "0                             Banknotes  113509908671\n",
       "1                      Current deposits  446341516593\n",
       "2                       Other deposits9   37423281482\n",
       "3            Deposits of the government   37814688274\n",
       "4  Payables under repurchase agreements    5543970307\n",
       "5                              Others10     705295936\n",
       "6                            Provisions    6410145786\n",
       "7                               Capital        100000\n",
       "8            Legal and special reserves    3316784625\n",
       "9                                 Total  651065691679"
      ]
     },
     "execution_count": 5,
     "metadata": {},
     "output_type": "execute_result"
    }
   ],
   "source": [
    "pd_html[1]"
   ]
  },
  {
   "cell_type": "markdown",
   "metadata": {},
   "source": [
    "### 1.3 Breakdown of Japanese government securities"
   ]
  },
  {
   "cell_type": "code",
   "execution_count": 6,
   "metadata": {},
   "outputs": [
    {
     "data": {
      "text/html": [
       "<div>\n",
       "<style scoped>\n",
       "    .dataframe tbody tr th:only-of-type {\n",
       "        vertical-align: middle;\n",
       "    }\n",
       "\n",
       "    .dataframe tbody tr th {\n",
       "        vertical-align: top;\n",
       "    }\n",
       "\n",
       "    .dataframe thead th {\n",
       "        text-align: right;\n",
       "    }\n",
       "</style>\n",
       "<table border=\"1\" class=\"dataframe\">\n",
       "  <thead>\n",
       "    <tr style=\"text-align: right;\">\n",
       "      <th></th>\n",
       "      <th>0</th>\n",
       "      <th>1</th>\n",
       "    </tr>\n",
       "  </thead>\n",
       "  <tbody>\n",
       "    <tr>\n",
       "      <th>0</th>\n",
       "      <td>Japanese government bonds</td>\n",
       "      <td>480281568815</td>\n",
       "    </tr>\n",
       "    <tr>\n",
       "      <th>1</th>\n",
       "      <td>Treasury discount bills</td>\n",
       "      <td>35583348129</td>\n",
       "    </tr>\n",
       "  </tbody>\n",
       "</table>\n",
       "</div>"
      ],
      "text/plain": [
       "                           0             1\n",
       "0  Japanese government bonds  480281568815\n",
       "1    Treasury discount bills   35583348129"
      ]
     },
     "execution_count": 6,
     "metadata": {},
     "output_type": "execute_result"
    }
   ],
   "source": [
    "pd_html[2]"
   ]
  },
  {
   "cell_type": "markdown",
   "metadata": {},
   "source": [
    "### 1.4 Loan support program"
   ]
  },
  {
   "cell_type": "code",
   "execution_count": 7,
   "metadata": {},
   "outputs": [
    {
     "data": {
      "text/html": [
       "<div>\n",
       "<style scoped>\n",
       "    .dataframe tbody tr th:only-of-type {\n",
       "        vertical-align: middle;\n",
       "    }\n",
       "\n",
       "    .dataframe tbody tr th {\n",
       "        vertical-align: top;\n",
       "    }\n",
       "\n",
       "    .dataframe thead th {\n",
       "        text-align: right;\n",
       "    }\n",
       "</style>\n",
       "<table border=\"1\" class=\"dataframe\">\n",
       "  <thead>\n",
       "    <tr style=\"text-align: right;\">\n",
       "      <th></th>\n",
       "      <th>0</th>\n",
       "      <th>1</th>\n",
       "    </tr>\n",
       "  </thead>\n",
       "  <tbody>\n",
       "    <tr>\n",
       "      <th>0</th>\n",
       "      <td>Fund-Provisioning Measure to Support Strengthe...</td>\n",
       "      <td>8687367440</td>\n",
       "    </tr>\n",
       "    <tr>\n",
       "      <th>1</th>\n",
       "      <td>Fund-Provisioning Measure to Stimulate Bank Le...</td>\n",
       "      <td>44222900000</td>\n",
       "    </tr>\n",
       "    <tr>\n",
       "      <th>2</th>\n",
       "      <td>Total</td>\n",
       "      <td>52910267440</td>\n",
       "    </tr>\n",
       "  </tbody>\n",
       "</table>\n",
       "</div>"
      ],
      "text/plain": [
       "                                                   0            1\n",
       "0  Fund-Provisioning Measure to Support Strengthe...   8687367440\n",
       "1  Fund-Provisioning Measure to Stimulate Bank Le...  44222900000\n",
       "2                                              Total  52910267440"
      ]
     },
     "execution_count": 7,
     "metadata": {},
     "output_type": "execute_result"
    }
   ],
   "source": [
    "pd_html[3]"
   ]
  },
  {
   "cell_type": "markdown",
   "metadata": {},
   "source": [
    "### 1.5 Loans by Funds-Supplying Operations against Pooled Collateral (including funds provided under the fixed-rate method), Funds-Supplying Operation to Support Financial Institutions in Disaster Areas, Funds-Supplying Operation to Support Financial Institutions in Disaster Areas of the 2016 Kumamoto Earthquake and Special Funds-Supplying Operations to Facilitate Financing in Response to the Novel Coronavirus\t"
   ]
  },
  {
   "cell_type": "code",
   "execution_count": 8,
   "metadata": {},
   "outputs": [
    {
     "data": {
      "text/html": [
       "<div>\n",
       "<style scoped>\n",
       "    .dataframe tbody tr th:only-of-type {\n",
       "        vertical-align: middle;\n",
       "    }\n",
       "\n",
       "    .dataframe tbody tr th {\n",
       "        vertical-align: top;\n",
       "    }\n",
       "\n",
       "    .dataframe thead th {\n",
       "        text-align: right;\n",
       "    }\n",
       "</style>\n",
       "<table border=\"1\" class=\"dataframe\">\n",
       "  <thead>\n",
       "    <tr style=\"text-align: right;\">\n",
       "      <th></th>\n",
       "      <th>0</th>\n",
       "      <th>1</th>\n",
       "    </tr>\n",
       "  </thead>\n",
       "  <tbody>\n",
       "    <tr>\n",
       "      <th>0</th>\n",
       "      <td>Loans by Funds-Supplying Operations against Po...</td>\n",
       "      <td>21543000000</td>\n",
       "    </tr>\n",
       "  </tbody>\n",
       "</table>\n",
       "</div>"
      ],
      "text/plain": [
       "                                                   0            1\n",
       "0  Loans by Funds-Supplying Operations against Po...  21543000000"
      ]
     },
     "execution_count": 8,
     "metadata": {},
     "output_type": "execute_result"
    }
   ],
   "source": [
    "pd_html[4]"
   ]
  },
  {
   "cell_type": "markdown",
   "metadata": {},
   "source": [
    "# 2. Find only table"
   ]
  },
  {
   "cell_type": "code",
   "execution_count": 9,
   "metadata": {},
   "outputs": [],
   "source": [
    "url ='https://www.boj.or.jp/en/statistics/boj/other/acmai/release/2020/ac200710.htm/'"
   ]
  },
  {
   "cell_type": "code",
   "execution_count": 10,
   "metadata": {},
   "outputs": [],
   "source": [
    "response = requests.get(url)\n",
    "soup = BeautifulSoup(response.text, 'lxml')\n",
    "tables = soup.find_all('div', {'main'})"
   ]
  },
  {
   "cell_type": "code",
   "execution_count": 11,
   "metadata": {},
   "outputs": [
    {
     "data": {
      "text/plain": [
       "[<div class=\"main\">\n",
       " <!-- 日本語/英語切替 -->\n",
       " <!-- コンテンツ -->\n",
       " <!-- [START] CONTENT_1 --><p>July 14, 2020<br/>\n",
       "     Bank of Japan</p>\n",
       " <table><caption class=\"unit2\">\n",
       " <span>Assets</span>\n",
       " <span>(thousand yen)</span>\n",
       " </caption>\n",
       " <tbody>\n",
       " <tr>\n",
       " <th class=\"w50\" scope=\"row\">Gold</th>\n",
       " <td class=\"txt-right\">441,253,409</td>\n",
       " </tr><tr>\n",
       " <th scope=\"row\">Cash<sup>1</sup></th>\n",
       " <td class=\"txt-right\">215,139,362</td>\n",
       " </tr><tr>\n",
       " <th scope=\"row\">Japanese government securities</th>\n",
       " <td class=\"txt-right\">515,864,916,944</td>\n",
       " </tr><tr>\n",
       " <th scope=\"row\">Commercial paper<sup>2</sup></th>\n",
       " <td class=\"txt-right\">4,281,124,370</td>\n",
       " </tr><tr>\n",
       " <th scope=\"row\">Corporate bonds<sup>3</sup></th>\n",
       " <td class=\"txt-right\">4,388,932,854</td>\n",
       " </tr><tr>\n",
       " <th scope=\"row\">Pecuniary trusts (stocks held as trust property)<sup>4</sup></th>\n",
       " <td class=\"txt-right\">669,482,342</td>\n",
       " </tr><tr>\n",
       " <th scope=\"row\">Pecuniary trusts (index-linked exchange-traded funds held as trust property)<sup>5</sup></th>\n",
       " <td class=\"txt-right\">33,206,504,054</td>\n",
       " </tr><tr>\n",
       " <th scope=\"row\">Pecuniary trusts (Japan real estate investment trusts held as trust property)<sup>6</sup></th>\n",
       " <td class=\"txt-right\">619,608,007</td>\n",
       " </tr><tr>\n",
       " <th scope=\"row\">Loans (excluding those to the Deposit Insurance Corporation) </th>\n",
       " <td class=\"txt-right\">71,860,300,000</td>\n",
       " </tr><tr>\n",
       " <th scope=\"row\">Foreign currency assets<sup>7</sup></th>\n",
       " <td class=\"txt-right\">18,763,152,336</td>\n",
       " </tr><tr>\n",
       " <th scope=\"row\">Deposits with agents<sup>8</sup></th>\n",
       " <td class=\"txt-right\">12,377,900</td>\n",
       " </tr><tr>\n",
       " <th scope=\"row\">Others</th>\n",
       " <td class=\"txt-right\">742,900,096</td>\n",
       " </tr><tr>\n",
       " <th scope=\"row\">Total</th>\n",
       " <td class=\"txt-right\">651,065,691,679</td>\n",
       " </tr></tbody>\n",
       " </table>\n",
       " <table><caption class=\"unit2\">\n",
       " <span>Liabilities and Net Assets</span>\n",
       " <span>(thousand yen)</span>\n",
       " </caption><tbody>\n",
       " <tr>\n",
       " <th class=\"w50\" scope=\"row\">Banknotes</th>\n",
       " <td class=\"txt-right\">113,509,908,671</td>\n",
       " </tr><tr>\n",
       " <th scope=\"row\">Current deposits</th>\n",
       " <td class=\"txt-right\">446,341,516,593</td>\n",
       " </tr><tr>\n",
       " <th scope=\"row\">Other deposits<sup>9</sup></th>\n",
       " <td class=\"txt-right\">37,423,281,482</td>\n",
       " </tr><tr>\n",
       " <th scope=\"row\">Deposits of the government </th>\n",
       " <td class=\"txt-right\">37,814,688,274</td>\n",
       " </tr><tr>\n",
       " <th scope=\"row\">Payables under repurchase agreements </th>\n",
       " <td class=\"txt-right\">5,543,970,307</td>\n",
       " </tr><tr>\n",
       " <th scope=\"row\">Others<sup>10</sup></th>\n",
       " <td class=\"txt-right\">705,295,936</td>\n",
       " </tr><tr>\n",
       " <th scope=\"row\">Provisions</th>\n",
       " <td class=\"txt-right\">6,410,145,786</td>\n",
       " </tr><tr>\n",
       " <th scope=\"row\">Capital</th>\n",
       " <td class=\"txt-right\">100,000</td>\n",
       " </tr><tr>\n",
       " <th scope=\"row\">Legal and special reserves</th>\n",
       " <td class=\"txt-right\">3,316,784,625</td>\n",
       " </tr><tr>\n",
       " <th scope=\"row\">Total</th>\n",
       " <td class=\"txt-right\">651,065,691,679</td>\n",
       " </tr></tbody>\n",
       " </table>\n",
       " <ol class=\"red-number\">\n",
       " <li>Coins reserved for circulation.</li>\n",
       " <li>Comprises the following types, in dematerialized or physical form: (1) commercial paper issued by domestic corporations; (2) commercial paper issued by foreign corporations with guarantees (dematerialized only); (3) asset-backed commercial paper; and (4) commercial paper issued by real estate investment corporations.</li>\n",
       " <li>Includes bonds issued by real estate investment corporations.</li>\n",
       " <li>Stocks purchased from financial institutions through a trust bank.</li>\n",
       " <li>Beneficiary interests in index-linked exchange-traded funds purchased through a trust bank.</li>\n",
       " <li>Investment equity issued by real estate investment corporations purchased through a trust bank.</li>\n",
       " <li>Foreign currency deposits held at foreign central banks and the Bank for International Settlements, securities issued by foreign governments, foreign currency mutual funds, and foreign currency loans, such as (1) loans by U.S. dollar funds-supplying operations against pooled collateral and (2) loans pursuant to the special rules for the U.S. dollar lending arrangement to enhance the fund-provisioning measure to support strengthening the foundations for economic growth conducted through the loan support program.</li>\n",
       " <li>Deposits held at agents that conduct operations relating to treasury funds and Japanese government securities on behalf of the Bank of Japan. These deposits are reserved for such operations.</li>\n",
       " <li>Deposits held by foreign central banks and others.</li>\n",
       " <li>Includes miscellaneous liabilities and current income (net accumulated profits). For reports at the beginning of the fiscal year, net income for the previous fiscal year is also included prior to its appropriation.</li>\n",
       " </ol>\n",
       " <hr class=\"double\"/>\n",
       " <p class=\"txt-right\">(Annex Table 1)</p>\n",
       " <table><caption class=\"unit2\">\n",
       " <span>Breakdown of Japanese government securities</span>\n",
       " <span>(thousand yen)</span></caption>\n",
       " <tbody><tr>\n",
       " <th class=\"w50\" scope=\"row\">Japanese government bonds</th>\n",
       " <td class=\"txt-right\">480,281,568,815</td>\n",
       " </tr><tr>\n",
       " <th scope=\"row\">Treasury discount bills</th>\n",
       " <td class=\"txt-right\">35,583,348,129</td>\n",
       " </tr></tbody>\n",
       " </table>\n",
       " <hr class=\"double\"/>\n",
       " <p class=\"txt-right\">(Annex Table 2)</p>\n",
       " <table><caption class=\"unit2\">\n",
       " <span>Loan Support Program<br/>The table below represents the loan amounts outstanding under the Bank's Loan Support Program.\n",
       " </span><span>(thousand yen)</span></caption>\n",
       " <tbody><tr>\n",
       " <th class=\"w50\" scope=\"row\">Fund-Provisioning Measure to Support Strengthening the Foundations for Economic Growth<sup>*</sup></th>\n",
       " <td class=\"txt-right\">8,687,367,440</td>\n",
       " </tr><tr>\n",
       " <th scope=\"row\">Fund-Provisioning Measure to Stimulate Bank Lending</th>\n",
       " <td class=\"txt-right\">44,222,900,000</td>\n",
       " </tr><tr>\n",
       " <th scope=\"row\">Total</th>\n",
       " <td class=\"txt-right\">52,910,267,440</td>\n",
       " </tr></tbody>\n",
       " </table>\n",
       " <ul class=\"asterisk-red\">\n",
       " <li>The figure for the loans other than those pursuant to the special rules for the U.S. dollar lending arrangement is included in \"Loans\" as Assets, and that for the loans pursuant to the special rules for the U.S. dollar lending arrangement is included in \"Foreign currency assets\" as Assets.</li>\n",
       " </ul>\n",
       " <hr class=\"double\"/>\n",
       " <p class=\"txt-right\">(Annex Table 3)</p>\n",
       " <table><caption class=\"unit\"><span>Annex Table 3</span>\n",
       " <span class=\"txt-right\">(thousand yen)</span></caption>\n",
       " <tbody><tr>\n",
       " <th class=\"w50\" scope=\"row\">Loans by Funds-Supplying Operations against Pooled Collateral (including funds provided under the fixed-rate method), Funds-Supplying Operation to Support Financial Institutions in Disaster Areas, Funds-Supplying Operation to Support Financial Institutions in Disaster Areas of the 2016 Kumamoto Earthquake and Special Funds-Supplying Operations to Facilitate Financing in Response to the Novel Coronavirus</th>\n",
       " <td class=\"txt-right\">21,543,000,000</td>\n",
       " </tr></tbody>\n",
       " </table><!-- [END] CONTENT_1 -->\n",
       " </div>]"
      ]
     },
     "execution_count": 11,
     "metadata": {},
     "output_type": "execute_result"
    }
   ],
   "source": [
    "tables"
   ]
  },
  {
   "cell_type": "markdown",
   "metadata": {},
   "source": [
    "## 3. List 2020 reporting"
   ]
  },
  {
   "cell_type": "code",
   "execution_count": 12,
   "metadata": {},
   "outputs": [],
   "source": [
    "url = 'https://www.boj.or.jp/en/statistics/boj/other/acmai/release/2020/index.htm/'"
   ]
  },
  {
   "cell_type": "code",
   "execution_count": 13,
   "metadata": {},
   "outputs": [
    {
     "data": {
      "text/plain": [
       "<title>Bank of Japan Accounts (Every Ten Days) 2020  : 日本銀行 Bank of Japan</title>"
      ]
     },
     "execution_count": 13,
     "metadata": {},
     "output_type": "execute_result"
    }
   ],
   "source": [
    "response = requests.get(url)\n",
    "soup = BeautifulSoup(response.text, 'lxml')\n",
    "soup.title\n",
    "#soup.find_all('div', {'main'})"
   ]
  },
  {
   "cell_type": "code",
   "execution_count": 14,
   "metadata": {},
   "outputs": [
    {
     "name": "stdout",
     "output_type": "stream",
     "text": [
      "/en/statistics/boj/other/acmai/release/index.htm\n",
      "/en/statistics/boj/other/acmai/release/2020/ac200820.htm\n",
      "/en/statistics/boj/other/acmai/release/2020/ac200810.htm\n",
      "/en/statistics/boj/other/acmai/release/2020/ac200731.htm\n",
      "/en/statistics/boj/other/acmai/release/2020/ac200720.htm\n",
      "/en/statistics/boj/other/acmai/release/2020/ac200710.htm\n",
      "/en/statistics/boj/other/acmai/release/2020/ac200630.htm\n",
      "/en/statistics/boj/other/acmai/release/2020/ac200620.htm\n",
      "/en/statistics/boj/other/acmai/release/2020/ac200610.htm\n",
      "/en/statistics/boj/other/acmai/release/2020/ac200531.htm\n",
      "/en/statistics/boj/other/acmai/release/2020/ac200520.htm\n",
      "/en/statistics/boj/other/acmai/release/2020/ac200510.htm\n",
      "/en/statistics/boj/other/acmai/release/2020/ac200430.htm\n",
      "/en/statistics/boj/other/acmai/release/2020/ac200420.htm\n",
      "/en/statistics/boj/other/acmai/release/2020/ac200410.htm\n",
      "/en/statistics/boj/other/acmai/release/2020/ac200331.htm\n",
      "/en/statistics/boj/other/acmai/release/2020/ac200320.htm\n",
      "/en/statistics/boj/other/acmai/release/2020/ac200310.htm\n",
      "/en/statistics/boj/other/acmai/release/2020/ac200229.htm\n",
      "/en/statistics/boj/other/acmai/release/2020/ac200220.htm\n",
      "/en/statistics/boj/other/acmai/release/2020/ac200210.htm\n",
      "/en/statistics/boj/other/acmai/release/2020/ac200131.htm\n",
      "/en/statistics/boj/other/acmai/release/2020/ac200120.htm\n",
      "/en/statistics/boj/other/acmai/release/2020/ac200110.htm\n"
     ]
    }
   ],
   "source": [
    "a_tags = soup.find_all('a', href=re.compile('^/en/statistics/boj/other/acmai/release/'))\n",
    "for tag in a_tags:\n",
    "    href = tag.get('href')\n",
    "    print(href)"
   ]
  },
  {
   "cell_type": "markdown",
   "metadata": {},
   "source": [
    "## 4. List 2020 and 2019"
   ]
  },
  {
   "cell_type": "code",
   "execution_count": 15,
   "metadata": {},
   "outputs": [],
   "source": [
    "url = 'https://www.boj.or.jp/en/statistics/boj/other/acmai/release/2020/index.htm/'\n",
    "response = requests.get(url, timeout=10)\n",
    "soup = BeautifulSoup(response.content, 'html.parser')"
   ]
  },
  {
   "cell_type": "code",
   "execution_count": 19,
   "metadata": {},
   "outputs": [
    {
     "name": "stdout",
     "output_type": "stream",
     "text": [
      "<title>Bank of Japan Accounts (Every Ten Days) 2018  : 日本銀行 Bank of Japan</title>\n",
      "<title>Bank of Japan Accounts (Every Ten Days) 2019  : 日本銀行 Bank of Japan</title>\n",
      "<title>Bank of Japan Accounts (Every Ten Days) 2020  : 日本銀行 Bank of Japan</title>\n"
     ]
    }
   ],
   "source": [
    "for year in range(18,21):\n",
    "    url = 'https://www.boj.or.jp/en/statistics/boj/other/acmai/release/20%s/index.htm/' % year\n",
    "    response = requests.get(url, timeout=10)\n",
    "    soup = BeautifulSoup(response.text, 'lxml')\n",
    "    print(soup.title)\n",
    "    individual_url = '^/en/statistics/boj/other/acmai/release/20%s'%year\n",
    "    a_tags = soup.find_all('a', href=re.compile(individual_url))\n",
    "    for tag in a_tags:\n",
    "        href = tag.get('href')\n",
    "        #if href.endswith('.htm'):\n",
    "            #print(href)"
   ]
  },
  {
   "cell_type": "markdown",
   "metadata": {},
   "source": [
    "# 5. Download 2020 data\n",
    "\n",
    "## 5.1 Assets"
   ]
  },
  {
   "cell_type": "code",
   "execution_count": 51,
   "metadata": {},
   "outputs": [],
   "source": [
    "for year in range(20,21):\n",
    "    url = 'https://www.boj.or.jp/en/statistics/boj/other/acmai/release/20%s/index.htm/' % year\n",
    "    response = requests.get(url, timeout=10)\n",
    "    soup = BeautifulSoup(response.text, 'lxml')\n",
    "    individual_url = '^/en/statistics/boj/other/acmai/release/20%s'%year\n",
    "    a_tags = soup.find_all('a', href=re.compile(individual_url))\n",
    "    \n",
    "\n",
    "    #Emtpy DF using 2020-07-10 data\n",
    "    df_url ='https://www.boj.or.jp/en/statistics/boj/other/acmai/release/2020/ac200710.htm/'\n",
    "    df_pd_html = pd.read_html(df_url)\n",
    "    index_col = df_pd_html[0].iloc[:,0]\n",
    "    empty_df = pd.DataFrame(index=index_col)\n",
    "    empty_df.index = [re.split(r'(\\d+)', s)[0] for s in empty_df.index]\n",
    "    \n",
    "    dates = []\n",
    "    for tag in a_tags:\n",
    "        href = tag.get('href')\n",
    "        date = href.split('200')[1].split('.')[0]\n",
    "        dates.append(date)\n",
    "        if href.endswith('.htm'):\n",
    "            url_download = \"https://www.boj.or.jp/\"+href            \n",
    "            pd_html = pd.read_html(url_download)\n",
    "            pd_html_data = pd_html[0].set_index(0)\n",
    "            pd_html_data.index = [re.split(r'(\\d+)', s)[0] for s in pd_html_data.index]\n",
    "            empty_df = pd.merge(empty_df, pd_html_data, left_index=True, right_index=True, how='outer')\n",
    "            empty_df.columns = dates\n",
    "empty_df.columns = [pd.to_datetime(x, format='%Y%m%d') for x in dates_list]"
   ]
  },
  {
   "cell_type": "code",
   "execution_count": 56,
   "metadata": {},
   "outputs": [
    {
     "data": {
      "text/plain": [
       "<matplotlib.axes._subplots.AxesSubplot at 0x7fbf0ba86590>"
      ]
     },
     "execution_count": 56,
     "metadata": {},
     "output_type": "execute_result"
    },
    {
     "data": {
      "image/png": "[encoded data removed]",
      "text/plain": [
       "<Figure size 432x288 with 1 Axes>"
      ]
     },
     "metadata": {
      "needs_background": "light"
     },
     "output_type": "display_data"
    }
   ],
   "source": [
    "empty_df.T.iloc[:, :7].plot()"
   ]
  },
  {
   "cell_type": "code",
   "execution_count": 57,
   "metadata": {},
   "outputs": [],
   "source": [
    "#empty_df.to_csv('BOJ_BS_assets_2020.csv')"
   ]
  },
  {
   "cell_type": "markdown",
   "metadata": {},
   "source": [
    "## 5.2 Download 2020 Loan support"
   ]
  },
  {
   "cell_type": "code",
   "execution_count": 58,
   "metadata": {},
   "outputs": [],
   "source": [
    "for year in range(20,21):\n",
    "    url = 'https://www.boj.or.jp/en/statistics/boj/other/acmai/release/20%s/index.htm/' % year\n",
    "    response = requests.get(url, timeout=10)\n",
    "    soup = BeautifulSoup(response.text, 'lxml')\n",
    "    individual_url = '^/en/statistics/boj/other/acmai/release/20%s'%year\n",
    "    a_tags = soup.find_all('a', href=re.compile(individual_url))\n",
    "    \n",
    "    \n",
    "    df_url ='https://www.boj.or.jp/en/statistics/boj/other/acmai/release/2020/ac200710.htm/'\n",
    "    df_pd_html = pd.read_html(df_url)\n",
    "    index_col = df_pd_html[4].iloc[:,0]\n",
    "    empty_df = pd.DataFrame(index=index_col)\n",
    "    \n",
    "    dates = []\n",
    "    for tag in a_tags:\n",
    "        href = tag.get('href')\n",
    "        date = href.split('200')[1].split('.')[0]\n",
    "        dates.append(date)\n",
    "        if href.endswith('.htm'):\n",
    "            url_download = \"https://www.boj.or.jp/\"+href            \n",
    "            pd_html = pd.read_html(url_download)\n",
    "            pd_html_data = pd_html[4].set_index(0)\n",
    "            pd_html_data.index = [re.split(r'(\\d+)', s)[0] for s in pd_html_data.index]\n",
    "            empty_df = pd.merge(empty_df, pd_html_data, left_index=True, right_index=True, how='outer')\n",
    "            empty_df.columns = dates"
   ]
  },
  {
   "cell_type": "code",
   "execution_count": 21,
   "metadata": {},
   "outputs": [
    {
     "name": "stderr",
     "output_type": "stream",
     "text": [
      "/Users/corybaird/opt/anaconda3/lib/python3.7/site-packages/ipykernel_launcher.py:1: FutureWarning: The signature of `Series.to_csv` was aligned to that of `DataFrame.to_csv`, and argument 'header' will change its default value from False to True: please pass an explicit value to suppress this warning.\n",
      "  \"\"\"Entry point for launching an IPython kernel.\n"
     ]
    }
   ],
   "source": [
    "empty_df.iloc[2].dropna().to_csv('BOJ_loansupport.csv')"
   ]
  }
 ],
 "metadata": {
  "kernelspec": {
   "display_name": "Python 3",
   "language": "python",
   "name": "python3"
  },
  "language_info": {
   "codemirror_mode": {
    "name": "ipython",
    "version": 3
   },
   "file_extension": ".py",
   "mimetype": "text/x-python",
   "name": "python",
   "nbconvert_exporter": "python",
   "pygments_lexer": "ipython3",
   "version": "3.7.6"
  }
 },
 "nbformat": 4,
 "nbformat_minor": 4
}
