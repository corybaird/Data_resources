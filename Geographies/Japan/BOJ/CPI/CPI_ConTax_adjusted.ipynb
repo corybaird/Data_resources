{
 "cells": [
  {
   "cell_type": "code",
   "execution_count": 2,
   "id": "identical-klein",
   "metadata": {},
   "outputs": [],
   "source": [
    "import pandas as pd"
   ]
  },
  {
   "cell_type": "markdown",
   "id": "expensive-advocacy",
   "metadata": {},
   "source": [
    "- The consumption tax adjusted CPI is released as reference data by the Statistics Bureau of the Ministry of Internal Affairs and Communications on the following external links.\n",
    "- https://www.boj.or.jp/en/research/research_data/cpi/index.htm/"
   ]
  },
  {
   "cell_type": "markdown",
   "id": "rural-marijuana",
   "metadata": {},
   "source": [
    "## 1.1 Show worksheets"
   ]
  },
  {
   "cell_type": "code",
   "execution_count": 9,
   "id": "prime-terrorist",
   "metadata": {},
   "outputs": [
    {
     "data": {
      "text/html": [
       "<div>\n",
       "<style scoped>\n",
       "    .dataframe tbody tr th:only-of-type {\n",
       "        vertical-align: middle;\n",
       "    }\n",
       "\n",
       "    .dataframe tbody tr th {\n",
       "        vertical-align: top;\n",
       "    }\n",
       "\n",
       "    .dataframe thead th {\n",
       "        text-align: right;\n",
       "    }\n",
       "</style>\n",
       "<table border=\"1\" class=\"dataframe\">\n",
       "  <thead>\n",
       "    <tr style=\"text-align: right;\">\n",
       "      <th></th>\n",
       "      <th>Unnamed: 1</th>\n",
       "    </tr>\n",
       "    <tr>\n",
       "      <th>消費税調整済指数</th>\n",
       "      <th></th>\n",
       "    </tr>\n",
       "  </thead>\n",
       "  <tbody>\n",
       "    <tr>\n",
       "      <th>シート名</th>\n",
       "      <td>分類名</td>\n",
       "    </tr>\n",
       "    <tr>\n",
       "      <th>zmi</th>\n",
       "      <td>月次，指数</td>\n",
       "    </tr>\n",
       "    <tr>\n",
       "      <th>zmm</th>\n",
       "      <td>月次，前月比(％)</td>\n",
       "    </tr>\n",
       "    <tr>\n",
       "      <th>zmy</th>\n",
       "      <td>月次，前年同月比(％)</td>\n",
       "    </tr>\n",
       "    <tr>\n",
       "      <th>zni</th>\n",
       "      <td>年平均，指数</td>\n",
       "    </tr>\n",
       "    <tr>\n",
       "      <th>zny</th>\n",
       "      <td>年平均，前年比(％)</td>\n",
       "    </tr>\n",
       "    <tr>\n",
       "      <th>zdi</th>\n",
       "      <td>年度平均，指数</td>\n",
       "    </tr>\n",
       "    <tr>\n",
       "      <th>zdy</th>\n",
       "      <td>年度平均，前年度比(％)</td>\n",
       "    </tr>\n",
       "    <tr>\n",
       "      <th>zqi</th>\n",
       "      <td>四半期平均，指数</td>\n",
       "    </tr>\n",
       "    <tr>\n",
       "      <th>zqq</th>\n",
       "      <td>四半期平均，前期比(％)</td>\n",
       "    </tr>\n",
       "    <tr>\n",
       "      <th>zqy</th>\n",
       "      <td>四半期平均，前年同期比(％)</td>\n",
       "    </tr>\n",
       "  </tbody>\n",
       "</table>\n",
       "</div>"
      ],
      "text/plain": [
       "              Unnamed: 1\n",
       "消費税調整済指数                \n",
       "シート名                 分類名\n",
       "zmi                月次，指数\n",
       "zmm            月次，前月比(％)\n",
       "zmy          月次，前年同月比(％)\n",
       "zni               年平均，指数\n",
       "zny           年平均，前年比(％)\n",
       "zdi              年度平均，指数\n",
       "zdy         年度平均，前年度比(％)\n",
       "zqi             四半期平均，指数\n",
       "zqq         四半期平均，前期比(％)\n",
       "zqy       四半期平均，前年同期比(％)"
      ]
     },
     "execution_count": 9,
     "metadata": {},
     "output_type": "execute_result"
    }
   ],
   "source": [
    "url = 'https://www.stat.go.jp/data/cpi/2020/zuhyou/2020taxadj.xlsx'\n",
    "df = pd.read_excel(url,\n",
    "                   sheet_name = 'index', # y-o-y pct\n",
    "                   index_col = 0,\n",
    "                   skipfooter =1\n",
    "                  ).dropna()\n",
    "df"
   ]
  },
  {
   "cell_type": "markdown",
   "id": "tropical-start",
   "metadata": {},
   "source": [
    "## 1.2 Download y-o-y data"
   ]
  },
  {
   "cell_type": "code",
   "execution_count": 3,
   "id": "checked-connection",
   "metadata": {},
   "outputs": [
    {
     "data": {
      "text/html": [
       "<div>\n",
       "<style scoped>\n",
       "    .dataframe tbody tr th:only-of-type {\n",
       "        vertical-align: middle;\n",
       "    }\n",
       "\n",
       "    .dataframe tbody tr th {\n",
       "        vertical-align: top;\n",
       "    }\n",
       "\n",
       "    .dataframe thead th {\n",
       "        text-align: right;\n",
       "    }\n",
       "</style>\n",
       "<table border=\"1\" class=\"dataframe\">\n",
       "  <thead>\n",
       "    <tr style=\"text-align: right;\">\n",
       "      <th></th>\n",
       "      <th>10000</th>\n",
       "      <th>9604</th>\n",
       "      <th>8420</th>\n",
       "      <th>8024</th>\n",
       "      <th>8892</th>\n",
       "      <th>6781</th>\n",
       "    </tr>\n",
       "    <tr>\n",
       "      <th>ウエイト１万分比(Weight per 10000)</th>\n",
       "      <th></th>\n",
       "      <th></th>\n",
       "      <th></th>\n",
       "      <th></th>\n",
       "      <th></th>\n",
       "      <th></th>\n",
       "    </tr>\n",
       "  </thead>\n",
       "  <tbody>\n",
       "    <tr>\n",
       "      <th>199001</th>\n",
       "      <td>NaN</td>\n",
       "      <td>NaN</td>\n",
       "      <td>NaN</td>\n",
       "      <td>NaN</td>\n",
       "      <td>NaN</td>\n",
       "      <td>NaN</td>\n",
       "    </tr>\n",
       "    <tr>\n",
       "      <th>199002</th>\n",
       "      <td>NaN</td>\n",
       "      <td>NaN</td>\n",
       "      <td>NaN</td>\n",
       "      <td>NaN</td>\n",
       "      <td>NaN</td>\n",
       "      <td>NaN</td>\n",
       "    </tr>\n",
       "    <tr>\n",
       "      <th>199003</th>\n",
       "      <td>NaN</td>\n",
       "      <td>NaN</td>\n",
       "      <td>NaN</td>\n",
       "      <td>NaN</td>\n",
       "      <td>NaN</td>\n",
       "      <td>NaN</td>\n",
       "    </tr>\n",
       "  </tbody>\n",
       "</table>\n",
       "</div>"
      ],
      "text/plain": [
       "                            10000  9604   8420   8024   8892   6781 \n",
       "ウエイト１万分比(Weight per 10000)                                          \n",
       "199001                        NaN    NaN    NaN    NaN    NaN    NaN\n",
       "199002                        NaN    NaN    NaN    NaN    NaN    NaN\n",
       "199003                        NaN    NaN    NaN    NaN    NaN    NaN"
      ]
     },
     "execution_count": 3,
     "metadata": {},
     "output_type": "execute_result"
    }
   ],
   "source": [
    "df = pd.read_excel(url,\n",
    "                   sheet_name = 'zmy', # y-o-y pct\n",
    "                   header=5,\n",
    "                   #parse_dates=True\n",
    "                   index_col = 0\n",
    "                  )\n",
    "df.head(3)"
   ]
  },
  {
   "cell_type": "code",
   "execution_count": 4,
   "id": "million-chicken",
   "metadata": {},
   "outputs": [
    {
     "data": {
      "text/html": [
       "<div>\n",
       "<style scoped>\n",
       "    .dataframe tbody tr th:only-of-type {\n",
       "        vertical-align: middle;\n",
       "    }\n",
       "\n",
       "    .dataframe tbody tr th {\n",
       "        vertical-align: top;\n",
       "    }\n",
       "\n",
       "    .dataframe thead th {\n",
       "        text-align: right;\n",
       "    }\n",
       "</style>\n",
       "<table border=\"1\" class=\"dataframe\">\n",
       "  <thead>\n",
       "    <tr style=\"text-align: right;\">\n",
       "      <th></th>\n",
       "      <th>10000</th>\n",
       "      <th>9604</th>\n",
       "      <th>8420</th>\n",
       "      <th>8024</th>\n",
       "      <th>8892</th>\n",
       "      <th>6781</th>\n",
       "    </tr>\n",
       "  </thead>\n",
       "  <tbody>\n",
       "    <tr>\n",
       "      <th>1991-01-01</th>\n",
       "      <td>4.0</td>\n",
       "      <td>3.2</td>\n",
       "      <td>4.2</td>\n",
       "      <td>3.2</td>\n",
       "      <td>2.9</td>\n",
       "      <td>2.5</td>\n",
       "    </tr>\n",
       "    <tr>\n",
       "      <th>1991-02-01</th>\n",
       "      <td>3.6</td>\n",
       "      <td>3.2</td>\n",
       "      <td>3.6</td>\n",
       "      <td>3.2</td>\n",
       "      <td>2.9</td>\n",
       "      <td>2.5</td>\n",
       "    </tr>\n",
       "    <tr>\n",
       "      <th>1991-03-01</th>\n",
       "      <td>3.6</td>\n",
       "      <td>3.1</td>\n",
       "      <td>3.6</td>\n",
       "      <td>3.2</td>\n",
       "      <td>3.0</td>\n",
       "      <td>2.6</td>\n",
       "    </tr>\n",
       "  </tbody>\n",
       "</table>\n",
       "</div>"
      ],
      "text/plain": [
       "            10000  9604   8420   8024   8892   6781 \n",
       "1991-01-01    4.0    3.2    4.2    3.2    2.9    2.5\n",
       "1991-02-01    3.6    3.2    3.6    3.2    2.9    2.5\n",
       "1991-03-01    3.6    3.1    3.6    3.2    3.0    2.6"
      ]
     },
     "execution_count": 4,
     "metadata": {},
     "output_type": "execute_result"
    }
   ],
   "source": [
    "df = df.dropna()\n",
    "df.index = [pd.to_datetime(str(x)+'01') for x in df.index]\n",
    "df.head(3)"
   ]
  },
  {
   "cell_type": "code",
   "execution_count": null,
   "id": "floral-executive",
   "metadata": {},
   "outputs": [],
   "source": []
  }
 ],
 "metadata": {
  "kernelspec": {
   "display_name": "Python 3",
   "language": "python",
   "name": "python3"
  },
  "language_info": {
   "codemirror_mode": {
    "name": "ipython",
    "version": 3
   },
   "file_extension": ".py",
   "mimetype": "text/x-python",
   "name": "python",
   "nbconvert_exporter": "python",
   "pygments_lexer": "ipython3",
   "version": "3.8.5"
  }
 },
 "nbformat": 4,
 "nbformat_minor": 5
}
