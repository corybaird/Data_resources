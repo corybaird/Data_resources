{
 "cells": [
  {
   "cell_type": "markdown",
   "id": "adolescent-volunteer",
   "metadata": {},
   "source": [
    "Measures of underlying inflation (the so-called core inflation measures) -- obtained by removing transitory disturbances from the actual movements observed in the consumer prices -- are frequently used for inflation analysis. Instead of focusing on a specific core inflation measure, a comprehensive examination of various core inflation measures enables us to identify the trends of price movements in a more accurate manner.\n",
    "\n",
    "- https://www.boj.or.jp/en/research/research_data/cpi/index.htm/"
   ]
  },
  {
   "cell_type": "code",
   "execution_count": 13,
   "id": "african-revelation",
   "metadata": {},
   "outputs": [],
   "source": [
    "import pandas as pd\n",
    "idx = pd.IndexSlice"
   ]
  },
  {
   "cell_type": "code",
   "execution_count": 11,
   "id": "opposite-rogers",
   "metadata": {},
   "outputs": [
    {
     "data": {
      "text/html": [
       "<div>\n",
       "<style scoped>\n",
       "    .dataframe tbody tr th:only-of-type {\n",
       "        vertical-align: middle;\n",
       "    }\n",
       "\n",
       "    .dataframe tbody tr th {\n",
       "        vertical-align: top;\n",
       "    }\n",
       "\n",
       "    .dataframe thead tr th {\n",
       "        text-align: left;\n",
       "    }\n",
       "</style>\n",
       "<table border=\"1\" class=\"dataframe\">\n",
       "  <thead>\n",
       "    <tr>\n",
       "      <th>Monthly</th>\n",
       "      <th colspan=\"6\" halign=\"left\">Trimmed mean(y/y % chg.)</th>\n",
       "      <th colspan=\"4\" halign=\"left\">Weighted median(y/y % chg.)</th>\n",
       "      <th>...</th>\n",
       "      <th>Share of decreasing items(%)</th>\n",
       "      <th>Diffusion index(% points)</th>\n",
       "      <th>Share of increasing items(%)</th>\n",
       "      <th>Share of decreasing items(%)</th>\n",
       "      <th colspan=\"3\" halign=\"left\">Diffusion index(% points)</th>\n",
       "      <th>Quarterly</th>\n",
       "      <th>Weighted median(y/y % chg.)</th>\n",
       "      <th>Mode(y/y % chg.)</th>\n",
       "    </tr>\n",
       "    <tr>\n",
       "      <th></th>\n",
       "      <th>2020base</th>\n",
       "      <th>2015base</th>\n",
       "      <th>2010base</th>\n",
       "      <th>2005base</th>\n",
       "      <th>2000base</th>\n",
       "      <th>2000base.1</th>\n",
       "      <th>2020base</th>\n",
       "      <th>2015base</th>\n",
       "      <th>2010base</th>\n",
       "      <th>2005base</th>\n",
       "      <th>...</th>\n",
       "      <th>2005base</th>\n",
       "      <th>2005base</th>\n",
       "      <th>2000base</th>\n",
       "      <th>2000base</th>\n",
       "      <th>2000base</th>\n",
       "      <th>2000base.1</th>\n",
       "      <th>2000base.2</th>\n",
       "      <th>Unnamed: 36_level_1</th>\n",
       "      <th>Unnamed: 37_level_1</th>\n",
       "      <th>Unnamed: 38_level_1</th>\n",
       "    </tr>\n",
       "  </thead>\n",
       "  <tbody>\n",
       "    <tr>\n",
       "      <th>2021-10-01</th>\n",
       "      <td>0.589068</td>\n",
       "      <td>NaN</td>\n",
       "      <td>NaN</td>\n",
       "      <td>NaN</td>\n",
       "      <td>NaN</td>\n",
       "      <td>NaN</td>\n",
       "      <td>0.131244</td>\n",
       "      <td>NaN</td>\n",
       "      <td>NaN</td>\n",
       "      <td>NaN</td>\n",
       "      <td>...</td>\n",
       "      <td>NaN</td>\n",
       "      <td>NaN</td>\n",
       "      <td>NaN</td>\n",
       "      <td>NaN</td>\n",
       "      <td>NaN</td>\n",
       "      <td>NaN</td>\n",
       "      <td>NaN</td>\n",
       "      <td>NaN</td>\n",
       "      <td>NaN</td>\n",
       "      <td>NaN</td>\n",
       "    </tr>\n",
       "    <tr>\n",
       "      <th>2021-11-01</th>\n",
       "      <td>0.754162</td>\n",
       "      <td>NaN</td>\n",
       "      <td>NaN</td>\n",
       "      <td>NaN</td>\n",
       "      <td>NaN</td>\n",
       "      <td>NaN</td>\n",
       "      <td>0.124234</td>\n",
       "      <td>NaN</td>\n",
       "      <td>NaN</td>\n",
       "      <td>NaN</td>\n",
       "      <td>...</td>\n",
       "      <td>NaN</td>\n",
       "      <td>NaN</td>\n",
       "      <td>NaN</td>\n",
       "      <td>NaN</td>\n",
       "      <td>NaN</td>\n",
       "      <td>NaN</td>\n",
       "      <td>NaN</td>\n",
       "      <td>NaN</td>\n",
       "      <td>NaN</td>\n",
       "      <td>NaN</td>\n",
       "    </tr>\n",
       "    <tr>\n",
       "      <th>2021-12-01</th>\n",
       "      <td>0.893724</td>\n",
       "      <td>NaN</td>\n",
       "      <td>NaN</td>\n",
       "      <td>NaN</td>\n",
       "      <td>NaN</td>\n",
       "      <td>NaN</td>\n",
       "      <td>0.127273</td>\n",
       "      <td>NaN</td>\n",
       "      <td>NaN</td>\n",
       "      <td>NaN</td>\n",
       "      <td>...</td>\n",
       "      <td>NaN</td>\n",
       "      <td>NaN</td>\n",
       "      <td>NaN</td>\n",
       "      <td>NaN</td>\n",
       "      <td>NaN</td>\n",
       "      <td>NaN</td>\n",
       "      <td>NaN</td>\n",
       "      <td>NaN</td>\n",
       "      <td>NaN</td>\n",
       "      <td>NaN</td>\n",
       "    </tr>\n",
       "  </tbody>\n",
       "</table>\n",
       "<p>3 rows × 38 columns</p>\n",
       "</div>"
      ],
      "text/plain": [
       "Monthly    Trimmed mean(y/y % chg.)                                      \\\n",
       "                           2020base 2015base 2010base 2005base 2000base   \n",
       "2021-10-01                 0.589068      NaN      NaN      NaN      NaN   \n",
       "2021-11-01                 0.754162      NaN      NaN      NaN      NaN   \n",
       "2021-12-01                 0.893724      NaN      NaN      NaN      NaN   \n",
       "\n",
       "Monthly               Weighted median(y/y % chg.)                             \\\n",
       "           2000base.1                    2020base 2015base 2010base 2005base   \n",
       "2021-10-01        NaN                    0.131244      NaN      NaN      NaN   \n",
       "2021-11-01        NaN                    0.124234      NaN      NaN      NaN   \n",
       "2021-12-01        NaN                    0.127273      NaN      NaN      NaN   \n",
       "\n",
       "Monthly     ... Share of decreasing items(%) Diffusion index(% points)  \\\n",
       "            ...                     2005base                  2005base   \n",
       "2021-10-01  ...                          NaN                       NaN   \n",
       "2021-11-01  ...                          NaN                       NaN   \n",
       "2021-12-01  ...                          NaN                       NaN   \n",
       "\n",
       "Monthly    Share of increasing items(%) Share of decreasing items(%)  \\\n",
       "                               2000base                     2000base   \n",
       "2021-10-01                          NaN                          NaN   \n",
       "2021-11-01                          NaN                          NaN   \n",
       "2021-12-01                          NaN                          NaN   \n",
       "\n",
       "Monthly    Diffusion index(% points)                        \\\n",
       "                            2000base 2000base.1 2000base.2   \n",
       "2021-10-01                       NaN        NaN        NaN   \n",
       "2021-11-01                       NaN        NaN        NaN   \n",
       "2021-12-01                       NaN        NaN        NaN   \n",
       "\n",
       "Monthly              Quarterly Weighted median(y/y % chg.)    Mode(y/y % chg.)  \n",
       "           Unnamed: 36_level_1         Unnamed: 37_level_1 Unnamed: 38_level_1  \n",
       "2021-10-01                 NaN                         NaN                 NaN  \n",
       "2021-11-01                 NaN                         NaN                 NaN  \n",
       "2021-12-01                 NaN                         NaN                 NaN  \n",
       "\n",
       "[3 rows x 38 columns]"
      ]
     },
     "execution_count": 11,
     "metadata": {},
     "output_type": "execute_result"
    }
   ],
   "source": [
    "url = 'https://www.boj.or.jp/en/research/research_data/cpi/cpirev.xlsx'\n",
    "df = pd.read_excel(url,\n",
    "                  header = [3,4],\n",
    "                  index_col=0)\n",
    "df.tail(3)"
   ]
  },
  {
   "cell_type": "code",
   "execution_count": 12,
   "id": "eight-temperature",
   "metadata": {},
   "outputs": [
    {
     "data": {
      "text/plain": [
       "Index(['Trimmed mean(y/y % chg.)', 'Weighted median(y/y % chg.)',\n",
       "       'Mode(y/y % chg.)', 'Share of increasing items(%)',\n",
       "       'Share of decreasing items(%)', 'Diffusion index(% points)',\n",
       "       'Quarterly'],\n",
       "      dtype='object', name='Monthly')"
      ]
     },
     "execution_count": 12,
     "metadata": {},
     "output_type": "execute_result"
    }
   ],
   "source": [
    "df.columns.get_level_values(0).unique()"
   ]
  },
  {
   "cell_type": "code",
   "execution_count": 17,
   "id": "intellectual-conservation",
   "metadata": {},
   "outputs": [
    {
     "data": {
      "text/plain": [
       "<AxesSubplot:>"
      ]
     },
     "execution_count": 17,
     "metadata": {},
     "output_type": "execute_result"
    },
    {
     "data": {
      "image/png": "[encoded data removed]",
      "text/plain": [
       "<Figure size 432x288 with 1 Axes>"
      ]
     },
     "metadata": {
      "needs_background": "light"
     },
     "output_type": "display_data"
    }
   ],
   "source": [
    "df.loc[:, idx['Share of increasing items(%)', '2020base']].dropna().plot()"
   ]
  },
  {
   "cell_type": "code",
   "execution_count": null,
   "id": "apart-tractor",
   "metadata": {},
   "outputs": [],
   "source": []
  }
 ],
 "metadata": {
  "kernelspec": {
   "display_name": "Python 3",
   "language": "python",
   "name": "python3"
  },
  "language_info": {
   "codemirror_mode": {
    "name": "ipython",
    "version": 3
   },
   "file_extension": ".py",
   "mimetype": "text/x-python",
   "name": "python",
   "nbconvert_exporter": "python",
   "pygments_lexer": "ipython3",
   "version": "3.8.5"
  }
 },
 "nbformat": 4,
 "nbformat_minor": 5
}
