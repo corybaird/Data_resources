{
 "cells": [
  {
   "cell_type": "markdown",
   "id": "sporting-language",
   "metadata": {},
   "source": [
    "# 1. All real estate transactions\n",
    "\n",
    "- https://www.land.mlit.go.jp/webland/servlet/MainServlet\n",
    "- https://www.land.mlit.go.jp/webland/download.html\n",
    "\n",
    "# 2. 都道府県地価調査（基準地価）\n",
    "\n",
    "- Website: https://www.mlit.go.jp/totikensangyo/totikensangyo_fr4_000043.html\n",
    "- Data: 変動率及び平均価格の時系列推移表\n",
    "- [Data link](https://www.mlit.go.jp/totikensangyo/content/001391725.xls)\n",
    "- https://www.reuters.com/article/land-price-japan-idJPKBN2GH0MF\n",
    "\n",
    "# 3. 地価公示\n",
    "\n",
    "- Website: https://www.mlit.go.jp/totikensangyo/totikensangyo_fr4_000043.html\n",
    "\n",
    "- Data: 変動率及び平均価格の時系列推移表\n",
    "\n",
    "- [Data link](こちら)\n",
    "\n",
    "- https://jp.reuters.com/article/japan-land-price-idJPKBN2BF0R1\n",
    "\n",
    "# 4. 不動産価格指数\n",
    "\n",
    "- Website: https://www.mlit.go.jp/totikensangyo/totikensangyo_tk5_000085.html\n",
    "- 不動産価格指数（住宅）\t\n",
    "- [Data link](https://www.mlit.go.jp/common/001447479.xlsx)"
   ]
  },
  {
   "cell_type": "code",
   "execution_count": null,
   "id": "broken-necklace",
   "metadata": {},
   "outputs": [],
   "source": []
  }
 ],
 "metadata": {
  "kernelspec": {
   "display_name": "Python 3",
   "language": "python",
   "name": "python3"
  },
  "language_info": {
   "codemirror_mode": {
    "name": "ipython",
    "version": 3
   },
   "file_extension": ".py",
   "mimetype": "text/x-python",
   "name": "python",
   "nbconvert_exporter": "python",
   "pygments_lexer": "ipython3",
   "version": "3.8.5"
  }
 },
 "nbformat": 4,
 "nbformat_minor": 5
}
