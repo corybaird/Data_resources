{
 "cells": [
  {
   "cell_type": "code",
   "execution_count": 2,
   "metadata": {},
   "outputs": [],
   "source": [
    "library(dplyr)"
   ]
  },
  {
   "cell_type": "code",
   "execution_count": 14,
   "metadata": {},
   "outputs": [],
   "source": [
    "load('countypres_2000-2016.RData')"
   ]
  },
  {
   "cell_type": "code",
   "execution_count": 16,
   "metadata": {},
   "outputs": [
    {
     "data": {
      "text/html": [
       "<table>\n",
       "<thead><tr><th scope=col>year</th><th scope=col>state</th><th scope=col>state_po</th><th scope=col>county</th><th scope=col>FIPS</th><th scope=col>office</th><th scope=col>candidate</th><th scope=col>party</th><th scope=col>candidatevotes</th><th scope=col>totalvotes</th><th scope=col>version</th></tr></thead>\n",
       "<tbody>\n",
       "\t<tr><td>2000          </td><td>Alabama       </td><td>AL            </td><td>Autauga       </td><td>1001          </td><td>President     </td><td>Al Gore       </td><td>democrat      </td><td> 4942         </td><td>17208         </td><td>20191203      </td></tr>\n",
       "\t<tr><td>2000          </td><td>Alabama       </td><td>AL            </td><td>Autauga       </td><td>1001          </td><td>President     </td><td>George W. Bush</td><td>republican    </td><td>11993         </td><td>17208         </td><td>20191203      </td></tr>\n",
       "\t<tr><td>2000          </td><td>Alabama       </td><td>AL            </td><td>Autauga       </td><td>1001          </td><td>President     </td><td>Ralph Nader   </td><td>green         </td><td>  160         </td><td>17208         </td><td>20191203      </td></tr>\n",
       "</tbody>\n",
       "</table>\n"
      ],
      "text/latex": [
       "\\begin{tabular}{r|lllllllllll}\n",
       " year & state & state\\_po & county & FIPS & office & candidate & party & candidatevotes & totalvotes & version\\\\\n",
       "\\hline\n",
       "\t 2000           & Alabama        & AL             & Autauga        & 1001           & President      & Al Gore        & democrat       &  4942          & 17208          & 20191203      \\\\\n",
       "\t 2000           & Alabama        & AL             & Autauga        & 1001           & President      & George W. Bush & republican     & 11993          & 17208          & 20191203      \\\\\n",
       "\t 2000           & Alabama        & AL             & Autauga        & 1001           & President      & Ralph Nader    & green          &   160          & 17208          & 20191203      \\\\\n",
       "\\end{tabular}\n"
      ],
      "text/markdown": [
       "\n",
       "| year | state | state_po | county | FIPS | office | candidate | party | candidatevotes | totalvotes | version |\n",
       "|---|---|---|---|---|---|---|---|---|---|---|\n",
       "| 2000           | Alabama        | AL             | Autauga        | 1001           | President      | Al Gore        | democrat       |  4942          | 17208          | 20191203       |\n",
       "| 2000           | Alabama        | AL             | Autauga        | 1001           | President      | George W. Bush | republican     | 11993          | 17208          | 20191203       |\n",
       "| 2000           | Alabama        | AL             | Autauga        | 1001           | President      | Ralph Nader    | green          |   160          | 17208          | 20191203       |\n",
       "\n"
      ],
      "text/plain": [
       "  year state   state_po county  FIPS office    candidate      party     \n",
       "1 2000 Alabama AL       Autauga 1001 President Al Gore        democrat  \n",
       "2 2000 Alabama AL       Autauga 1001 President George W. Bush republican\n",
       "3 2000 Alabama AL       Autauga 1001 President Ralph Nader    green     \n",
       "  candidatevotes totalvotes version \n",
       "1  4942          17208      20191203\n",
       "2 11993          17208      20191203\n",
       "3   160          17208      20191203"
      ]
     },
     "metadata": {},
     "output_type": "display_data"
    }
   ],
   "source": [
    "df = x\n",
    "df %>% head(3)"
   ]
  },
  {
   "cell_type": "code",
   "execution_count": 1,
   "metadata": {},
   "outputs": [
    {
     "ename": "ERROR",
     "evalue": "Error in df %>% filter(year == 2016 & candidate == \"Donald Trump\") %>% : could not find function \"%>%\"\n",
     "output_type": "error",
     "traceback": [
      "Error in df %>% filter(year == 2016 & candidate == \"Donald Trump\") %>% : could not find function \"%>%\"\nTraceback:\n"
     ]
    }
   ],
   "source": [
    "df %>% \n",
    "filter(year==2016& candidate==\"Donald Trump\") %>% \n",
    "select(candidatevotes, totalvotes, state, county, FIPS) %>% \n",
    "mutate(trump_pct = candidatevotes/totalvotes) %>% write.csv('trumpvotes.csv')"
   ]
  },
  {
   "cell_type": "code",
   "execution_count": null,
   "metadata": {},
   "outputs": [],
   "source": []
  }
 ],
 "metadata": {
  "kernelspec": {
   "display_name": "R",
   "language": "R",
   "name": "ir"
  },
  "language_info": {
   "codemirror_mode": "r",
   "file_extension": ".r",
   "mimetype": "text/x-r-source",
   "name": "R",
   "pygments_lexer": "r",
   "version": "3.6.1"
  }
 },
 "nbformat": 4,
 "nbformat_minor": 4
}
