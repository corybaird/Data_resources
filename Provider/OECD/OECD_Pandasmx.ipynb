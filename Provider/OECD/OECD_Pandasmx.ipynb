{
 "cells": [
  {
   "cell_type": "markdown",
   "id": "brown-requirement",
   "metadata": {},
   "source": [
    "https://pandasdmx.readthedocs.io/en/v1.0/sources.html#oecd-organisation-for-economic-cooperation-and-development\n",
    "https://github.com/yannklein/working-in-japan-oecd-data/blob/master/working_in_japan.ipynb"
   ]
  },
  {
   "cell_type": "code",
   "execution_count": 1,
   "id": "unlike-distribution",
   "metadata": {},
   "outputs": [
    {
     "name": "stderr",
     "output_type": "stream",
     "text": [
      "/Users/corybaird/opt/miniconda3/lib/python3.8/site-packages/pandasdmx/remote.py:11: RuntimeWarning: optional dependency requests_cache is not installed; cache options to Session() have no effect\n",
      "  warn(\n"
     ]
    }
   ],
   "source": [
    "import pandasdmx as pdsdmx"
   ]
  },
  {
   "cell_type": "code",
   "execution_count": 2,
   "id": "relative-oregon",
   "metadata": {},
   "outputs": [],
   "source": [
    "oecd = pdsdmx.Request('OECD')\n",
    "data_response = oecd.data(resource_id='ANHRS', key='all?startTime=2000')\n",
    "data_response.write().to_frame()"
   ]
  },
  {
   "cell_type": "code",
   "execution_count": 4,
   "id": "inappropriate-spectacular",
   "metadata": {},
   "outputs": [],
   "source": []
  },
  {
   "cell_type": "code",
   "execution_count": 26,
   "id": "front-ordinary",
   "metadata": {},
   "outputs": [
    {
     "data": {
      "text/html": [
       "<div>\n",
       "<style scoped>\n",
       "    .dataframe tbody tr th:only-of-type {\n",
       "        vertical-align: middle;\n",
       "    }\n",
       "\n",
       "    .dataframe tbody tr th {\n",
       "        vertical-align: top;\n",
       "    }\n",
       "\n",
       "    .dataframe thead th {\n",
       "        text-align: right;\n",
       "    }\n",
       "</style>\n",
       "<table border=\"1\" class=\"dataframe\">\n",
       "  <thead>\n",
       "    <tr style=\"text-align: right;\">\n",
       "      <th></th>\n",
       "      <th></th>\n",
       "      <th></th>\n",
       "      <th></th>\n",
       "      <th></th>\n",
       "      <th>value</th>\n",
       "    </tr>\n",
       "    <tr>\n",
       "      <th>LOCATION</th>\n",
       "      <th>SUBJECT</th>\n",
       "      <th>MEASURE</th>\n",
       "      <th>FREQUENCY</th>\n",
       "      <th>TIME_PERIOD</th>\n",
       "      <th></th>\n",
       "    </tr>\n",
       "  </thead>\n",
       "  <tbody>\n",
       "    <tr>\n",
       "      <th rowspan=\"5\" valign=\"top\">ARG</th>\n",
       "      <th rowspan=\"5\" valign=\"top\">CP010000</th>\n",
       "      <th rowspan=\"5\" valign=\"top\">GP</th>\n",
       "      <th rowspan=\"3\" valign=\"top\">A</th>\n",
       "      <th>2018</th>\n",
       "      <td>32.733810</td>\n",
       "    </tr>\n",
       "    <tr>\n",
       "      <th>2019</th>\n",
       "      <td>58.362880</td>\n",
       "    </tr>\n",
       "    <tr>\n",
       "      <th>2020</th>\n",
       "      <td>46.963050</td>\n",
       "    </tr>\n",
       "    <tr>\n",
       "      <th rowspan=\"2\" valign=\"top\">M</th>\n",
       "      <th>2017-01</th>\n",
       "      <td>1.302400</td>\n",
       "    </tr>\n",
       "    <tr>\n",
       "      <th>2017-02</th>\n",
       "      <td>1.834211</td>\n",
       "    </tr>\n",
       "    <tr>\n",
       "      <th>...</th>\n",
       "      <th>...</th>\n",
       "      <th>...</th>\n",
       "      <th>...</th>\n",
       "      <th>...</th>\n",
       "      <td>...</td>\n",
       "    </tr>\n",
       "    <tr>\n",
       "      <th rowspan=\"5\" valign=\"top\">ZAF</th>\n",
       "      <th rowspan=\"5\" valign=\"top\">PWCPSE01</th>\n",
       "      <th rowspan=\"5\" valign=\"top\">AL</th>\n",
       "      <th rowspan=\"5\" valign=\"top\">A</th>\n",
       "      <th>2016</th>\n",
       "      <td>486.950000</td>\n",
       "    </tr>\n",
       "    <tr>\n",
       "      <th>2017</th>\n",
       "      <td>486.950000</td>\n",
       "    </tr>\n",
       "    <tr>\n",
       "      <th>2018</th>\n",
       "      <td>486.950000</td>\n",
       "    </tr>\n",
       "    <tr>\n",
       "      <th>2019</th>\n",
       "      <td>486.950000</td>\n",
       "    </tr>\n",
       "    <tr>\n",
       "      <th>2020</th>\n",
       "      <td>486.950000</td>\n",
       "    </tr>\n",
       "  </tbody>\n",
       "</table>\n",
       "<p>1841847 rows × 1 columns</p>\n",
       "</div>"
      ],
      "text/plain": [
       "                                                      value\n",
       "LOCATION SUBJECT  MEASURE FREQUENCY TIME_PERIOD            \n",
       "ARG      CP010000 GP      A         2018          32.733810\n",
       "                                    2019          58.362880\n",
       "                                    2020          46.963050\n",
       "                          M         2017-01        1.302400\n",
       "                                    2017-02        1.834211\n",
       "...                                                     ...\n",
       "ZAF      PWCPSE01 AL      A         2016         486.950000\n",
       "                                    2017         486.950000\n",
       "                                    2018         486.950000\n",
       "                                    2019         486.950000\n",
       "                                    2020         486.950000\n",
       "\n",
       "[1841847 rows x 1 columns]"
      ]
     },
     "execution_count": 26,
     "metadata": {},
     "output_type": "execute_result"
    }
   ],
   "source": [
    "data_response = oecd.data(resource_id='PRICES_CPI', key='all?startTime=2000')\n",
    "data_response.write().to_frame()"
   ]
  },
  {
   "cell_type": "code",
   "execution_count": 28,
   "id": "transparent-nebraska",
   "metadata": {},
   "outputs": [
    {
     "name": "stdout",
     "output_type": "stream",
     "text": [
      "<class 'pandas.core.frame.DataFrame'>\n",
      "MultiIndex: 1841847 entries, ('ARG', 'CP010000', 'GP', 'A', '2018') to ('ZAF', 'PWCPSE01', 'AL', 'A', '2020')\n",
      "Data columns (total 1 columns):\n",
      " #   Column  Dtype  \n",
      "---  ------  -----  \n",
      " 0   value   float64\n",
      "dtypes: float64(1)\n",
      "memory usage: 24.6+ MB\n"
     ]
    }
   ],
   "source": [
    "data_response.write().to_frame().info()"
   ]
  },
  {
   "cell_type": "code",
   "execution_count": 29,
   "id": "looking-federal",
   "metadata": {},
   "outputs": [
    {
     "data": {
      "text/html": [
       "<div>\n",
       "<style scoped>\n",
       "    .dataframe tbody tr th:only-of-type {\n",
       "        vertical-align: middle;\n",
       "    }\n",
       "\n",
       "    .dataframe tbody tr th {\n",
       "        vertical-align: top;\n",
       "    }\n",
       "\n",
       "    .dataframe thead th {\n",
       "        text-align: right;\n",
       "    }\n",
       "</style>\n",
       "<table border=\"1\" class=\"dataframe\">\n",
       "  <thead>\n",
       "    <tr style=\"text-align: right;\">\n",
       "      <th></th>\n",
       "      <th>LOCATION</th>\n",
       "      <th>SUBJECT</th>\n",
       "      <th>MEASURE</th>\n",
       "      <th>FREQUENCY</th>\n",
       "      <th>TIME_PERIOD</th>\n",
       "      <th>value</th>\n",
       "    </tr>\n",
       "  </thead>\n",
       "  <tbody>\n",
       "    <tr>\n",
       "      <th>0</th>\n",
       "      <td>ARG</td>\n",
       "      <td>CP010000</td>\n",
       "      <td>GP</td>\n",
       "      <td>A</td>\n",
       "      <td>2018</td>\n",
       "      <td>32.73381</td>\n",
       "    </tr>\n",
       "    <tr>\n",
       "      <th>1</th>\n",
       "      <td>ARG</td>\n",
       "      <td>CP010000</td>\n",
       "      <td>GP</td>\n",
       "      <td>A</td>\n",
       "      <td>2019</td>\n",
       "      <td>58.36288</td>\n",
       "    </tr>\n",
       "    <tr>\n",
       "      <th>2</th>\n",
       "      <td>ARG</td>\n",
       "      <td>CP010000</td>\n",
       "      <td>GP</td>\n",
       "      <td>A</td>\n",
       "      <td>2020</td>\n",
       "      <td>46.96305</td>\n",
       "    </tr>\n",
       "  </tbody>\n",
       "</table>\n",
       "</div>"
      ],
      "text/plain": [
       "  LOCATION   SUBJECT MEASURE FREQUENCY TIME_PERIOD     value\n",
       "0      ARG  CP010000      GP         A        2018  32.73381\n",
       "1      ARG  CP010000      GP         A        2019  58.36288\n",
       "2      ARG  CP010000      GP         A        2020  46.96305"
      ]
     },
     "execution_count": 29,
     "metadata": {},
     "output_type": "execute_result"
    }
   ],
   "source": [
    "df = data_response.write().to_frame().reset_index()\n",
    "df.head(3)"
   ]
  },
  {
   "cell_type": "code",
   "execution_count": 33,
   "id": "remarkable-function",
   "metadata": {},
   "outputs": [
    {
     "data": {
      "text/plain": [
       "array(['ARG', 'AUS', 'AUT', 'BEL', 'BRA', 'CAN', 'CHE', 'CHL', 'CHN',\n",
       "       'COL', 'CRI', 'CZE', 'DEU', 'DNK', 'EA19', 'ESP', 'EST',\n",
       "       'EU27_2020', 'EU28', 'FIN', 'FRA', 'G-20', 'G-7', 'GBR', 'GRC',\n",
       "       'HUN', 'IDN', 'IND', 'IRL', 'ISL', 'ISR', 'ITA', 'JPN', 'KOR',\n",
       "       'LTU', 'LUX', 'LVA', 'MEX', 'NLD', 'NOR', 'NZL', 'OECD', 'OECDE',\n",
       "       'POL', 'PRT', 'RUS', 'SAU', 'SVK', 'SVN', 'SWE', 'TUR', 'USA',\n",
       "       'ZAF'], dtype=object)"
      ]
     },
     "execution_count": 33,
     "metadata": {},
     "output_type": "execute_result"
    }
   ],
   "source": [
    "df.LOCATION.unique()"
   ]
  },
  {
   "cell_type": "code",
   "execution_count": 34,
   "id": "agricultural-oriental",
   "metadata": {},
   "outputs": [
    {
     "data": {
      "text/plain": [
       "array(['CP010000', 'CP020000', 'CP030000', 'CP040000', 'CP050000',\n",
       "       'CP060000', 'CP070000', 'CP080000', 'CP090000', 'CP100000',\n",
       "       'CP110000', 'CP120000', 'CPALTT01', 'CPGRGO01', 'CPGRSE01',\n",
       "       'CP040100', 'CP040200', 'CP040300', 'CP040400', 'CP040500',\n",
       "       'CP070200', 'CPGREN01', 'CPGRHO01', 'CPGRHO02', 'CPGRLE01',\n",
       "       'CPGRLH01', 'PWCP0000', 'PWCP0100', 'PWCP0200', 'PWCP0300',\n",
       "       'PWCP0400', 'PWCP0410', 'PWCP0420', 'PWCP0430', 'PWCP0440',\n",
       "       'PWCP0450', 'PWCP0500', 'PWCP0600', 'PWCP0700', 'PWCP0722',\n",
       "       'PWCP0800', 'PWCP0900', 'PWCP1000', 'PWCP1100', 'PWCP1200',\n",
       "       'PWCPEN01', 'PWCPHO01', 'PWCPLE01', 'CPGRLH02', 'CPHP0100',\n",
       "       'CPHP0200', 'CPHP0300', 'CPHP0400', 'CPHP0401', 'CPHP0403',\n",
       "       'CPHP0404', 'CPHP0405', 'CPHP0500', 'CPHP0600', 'CPHP0700',\n",
       "       'CPHP0702', 'CPHP0800', 'CPHP0900', 'CPHP1000', 'CPHP1100',\n",
       "       'CPHP1200', 'CPHPEN01', 'CPHPLA01', 'CPHPSE01', 'CPHPTT01',\n",
       "       'CPSDCTGY', 'PWCPGO01', 'PWCPHO05', 'PWCPLR01', 'PWCPSE01',\n",
       "       'PWHP0000', 'PWHP0100', 'PWHP0200', 'PWHP0300', 'PWHP0400',\n",
       "       'PWHP0500', 'PWHP0600', 'PWHP0700', 'PWHP0800', 'PWHP0900',\n",
       "       'PWHP1000', 'PWHP1100', 'PWHP1200', 'CPHPGD01', 'CPALTT02',\n",
       "       'PWHP0410', 'PWHP0430', 'PWHP0440', 'PWHP0450', 'PWHP0722',\n",
       "       'PWHPEN01', 'PWHPGO01', 'PWHPLE01', 'PWHPSE01'], dtype=object)"
      ]
     },
     "execution_count": 34,
     "metadata": {},
     "output_type": "execute_result"
    }
   ],
   "source": [
    "df.SUBJECT.unique()"
   ]
  },
  {
   "cell_type": "code",
   "execution_count": null,
   "id": "subject-passage",
   "metadata": {},
   "outputs": [],
   "source": []
  }
 ],
 "metadata": {
  "kernelspec": {
   "display_name": "Python 3",
   "language": "python",
   "name": "python3"
  },
  "language_info": {
   "codemirror_mode": {
    "name": "ipython",
    "version": 3
   },
   "file_extension": ".py",
   "mimetype": "text/x-python",
   "name": "python",
   "nbconvert_exporter": "python",
   "pygments_lexer": "ipython3",
   "version": "3.8.5"
  }
 },
 "nbformat": 4,
 "nbformat_minor": 5
}
