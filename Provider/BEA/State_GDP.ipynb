{
 "cells": [
  {
   "cell_type": "markdown",
   "id": "honey-doubt",
   "metadata": {},
   "source": [
    "## A.1 Libraries"
   ]
  },
  {
   "cell_type": "code",
   "execution_count": 12,
   "id": "reserved-stable",
   "metadata": {},
   "outputs": [],
   "source": [
    "from fredapi import Fred\n",
    "import pandas as pd\n",
    "import os\n",
    "import matplotlib.pyplot as plt\n",
    "import numpy as np\n",
    "import datetime as dt\n",
    "import requests\n",
    "from bs4 import BeautifulSoup\n",
    "idx = pd.IndexSlice"
   ]
  },
  {
   "cell_type": "code",
   "execution_count": 13,
   "id": "closed-monthly",
   "metadata": {},
   "outputs": [],
   "source": [
    "api_file = open('api_bea.txt')\n",
    "api_code = \"\".join(api_file.readlines())"
   ]
  },
  {
   "cell_type": "markdown",
   "id": "immediate-blowing",
   "metadata": {},
   "source": [
    "# 1. California GDP--BEA\n",
    "\n",
    "## 1.A Create function"
   ]
  },
  {
   "cell_type": "code",
   "execution_count": 14,
   "id": "roman-monitoring",
   "metadata": {},
   "outputs": [],
   "source": [
    "def target_url(method, dataset, table_name, geofips, linecode,  year, format):\n",
    "    api = api_code\n",
    "    base = 'http://apps.bea.gov/api/data?&UserID='\n",
    "    base_api = base+api\n",
    "\n",
    "    method = '&method='+ method\n",
    "    data_set = '&datasetname='+ dataset\n",
    "    line_geo_year = '&GeoFIPS='+geofips+'&LineCode='+linecode+'&Year='+year\n",
    "\n",
    "    table = '&TableName='+ table_name\n",
    "    result_format = '&ResultFormat='+ format\n",
    "\n",
    "    final_api = base_api + method + data_set + table + line_geo_year + result_format\n",
    "\n",
    "    request = requests.get(final_api)\n",
    "    bs = BeautifulSoup(request.text, 'xml')\n",
    "    return bs"
   ]
  },
  {
   "cell_type": "markdown",
   "id": "viral-saturn",
   "metadata": {},
   "source": [
    "## 1.1 Download data"
   ]
  },
  {
   "cell_type": "code",
   "execution_count": 15,
   "id": "expired-baseball",
   "metadata": {},
   "outputs": [],
   "source": [
    "regional = target_url(method = \"GetData\", \n",
    "                      dataset = 'Regional', \n",
    "                      table_name = 'SQGDP9', \n",
    "                      geofips = 'STATE', \n",
    "                      linecode = '1',\n",
    "                      year = 'ALL', \n",
    "                      format = 'XML')"
   ]
  },
  {
   "cell_type": "markdown",
   "id": "centered-address",
   "metadata": {},
   "source": [
    "## 1.2 Format data to dictionary"
   ]
  },
  {
   "cell_type": "code",
   "execution_count": 16,
   "id": "growing-development",
   "metadata": {},
   "outputs": [],
   "source": [
    "values, date, state = [],[],[]\n",
    "for row in regional.find_all('Data'):  \n",
    "    values.append(row.get('DataValue'))\n",
    "    date.append(row.get('TimePeriod'))\n",
    "    state.append(row.get('GeoName'))\n",
    "data_dict = {'value':values, 'date':date, 'state':state}"
   ]
  },
  {
   "cell_type": "markdown",
   "id": "adaptive-coating",
   "metadata": {},
   "source": [
    "## 1.3 Convert to df"
   ]
  },
  {
   "cell_type": "code",
   "execution_count": 17,
   "id": "looking-couple",
   "metadata": {},
   "outputs": [
    {
     "data": {
      "text/html": [
       "<div>\n",
       "<style scoped>\n",
       "    .dataframe tbody tr th:only-of-type {\n",
       "        vertical-align: middle;\n",
       "    }\n",
       "\n",
       "    .dataframe tbody tr th {\n",
       "        vertical-align: top;\n",
       "    }\n",
       "\n",
       "    .dataframe thead th {\n",
       "        text-align: right;\n",
       "    }\n",
       "</style>\n",
       "<table border=\"1\" class=\"dataframe\">\n",
       "  <thead>\n",
       "    <tr style=\"text-align: right;\">\n",
       "      <th></th>\n",
       "      <th>value</th>\n",
       "      <th>date</th>\n",
       "      <th>state</th>\n",
       "    </tr>\n",
       "  </thead>\n",
       "  <tbody>\n",
       "    <tr>\n",
       "      <th>0</th>\n",
       "      <td>14767846.0</td>\n",
       "      <td>2005-01-01</td>\n",
       "      <td>United States</td>\n",
       "    </tr>\n",
       "    <tr>\n",
       "      <th>1</th>\n",
       "      <td>14839707.0</td>\n",
       "      <td>2005-04-01</td>\n",
       "      <td>United States</td>\n",
       "    </tr>\n",
       "  </tbody>\n",
       "</table>\n",
       "</div>"
      ],
      "text/plain": [
       "        value       date          state\n",
       "0  14767846.0 2005-01-01  United States\n",
       "1  14839707.0 2005-04-01  United States"
      ]
     },
     "execution_count": 17,
     "metadata": {},
     "output_type": "execute_result"
    }
   ],
   "source": [
    "df = pd.DataFrame.from_dict(data_dict)\n",
    "df.value = [float(x.replace(',','')) for x in df.value]\n",
    "df.date = [pd.to_datetime(x) for x in df.date]\n",
    "df.head(2)"
   ]
  },
  {
   "cell_type": "markdown",
   "id": "friendly-vacation",
   "metadata": {},
   "source": [
    "# 2. California data\n",
    "\n",
    "## 2.1 Subset"
   ]
  },
  {
   "cell_type": "code",
   "execution_count": 19,
   "id": "frank-penalty",
   "metadata": {},
   "outputs": [
    {
     "data": {
      "text/html": [
       "<div>\n",
       "<style scoped>\n",
       "    .dataframe tbody tr th:only-of-type {\n",
       "        vertical-align: middle;\n",
       "    }\n",
       "\n",
       "    .dataframe tbody tr th {\n",
       "        vertical-align: top;\n",
       "    }\n",
       "\n",
       "    .dataframe thead th {\n",
       "        text-align: right;\n",
       "    }\n",
       "</style>\n",
       "<table border=\"1\" class=\"dataframe\">\n",
       "  <thead>\n",
       "    <tr style=\"text-align: right;\">\n",
       "      <th></th>\n",
       "      <th>GDP_CA</th>\n",
       "    </tr>\n",
       "    <tr>\n",
       "      <th>date</th>\n",
       "      <th></th>\n",
       "    </tr>\n",
       "  </thead>\n",
       "  <tbody>\n",
       "    <tr>\n",
       "      <th>2021-01-01</th>\n",
       "      <td>2799129.2</td>\n",
       "    </tr>\n",
       "    <tr>\n",
       "      <th>2021-04-01</th>\n",
       "      <td>2860601.9</td>\n",
       "    </tr>\n",
       "    <tr>\n",
       "      <th>2021-07-01</th>\n",
       "      <td>2879898.7</td>\n",
       "    </tr>\n",
       "  </tbody>\n",
       "</table>\n",
       "</div>"
      ],
      "text/plain": [
       "               GDP_CA\n",
       "date                 \n",
       "2021-01-01  2799129.2\n",
       "2021-04-01  2860601.9\n",
       "2021-07-01  2879898.7"
      ]
     },
     "execution_count": 19,
     "metadata": {},
     "output_type": "execute_result"
    }
   ],
   "source": [
    "mask = df.state == 'California'\n",
    "df_gdp_ca = df.loc[mask, :]\n",
    "df_gdp_ca.set_index('date', inplace=True)\n",
    "df_gdp_ca = df_gdp_ca.drop('state',axis=1).rename(columns={'value':'GDP_CA'})\n",
    "df_gdp_ca.tail(3)"
   ]
  }
 ],
 "metadata": {
  "kernelspec": {
   "display_name": "Python 3",
   "language": "python",
   "name": "python3"
  },
  "language_info": {
   "codemirror_mode": {
    "name": "ipython",
    "version": 3
   },
   "file_extension": ".py",
   "mimetype": "text/x-python",
   "name": "python",
   "nbconvert_exporter": "python",
   "pygments_lexer": "ipython3",
   "version": "3.8.5"
  }
 },
 "nbformat": 4,
 "nbformat_minor": 5
}
