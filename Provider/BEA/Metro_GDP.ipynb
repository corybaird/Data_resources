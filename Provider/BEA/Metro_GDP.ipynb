{
 "cells": [
  {
   "cell_type": "code",
   "execution_count": 4,
   "metadata": {},
   "outputs": [],
   "source": [
    "import requests\n",
    "from bs4 import BeautifulSoup\n",
    "import pandas as pd\n",
    "import datetime as dt\n",
    "import os"
   ]
  },
  {
   "cell_type": "code",
   "execution_count": 5,
   "metadata": {},
   "outputs": [
    {
     "data": {
      "text/plain": [
       "'/Users/corybaird/Desktop/Test'"
      ]
     },
     "execution_count": 5,
     "metadata": {},
     "output_type": "execute_result"
    }
   ],
   "source": [
    "today_str = dt.date.today().strftime(\"%Y_%m_%d\")\n",
    "os.getcwd()"
   ]
  },
  {
   "cell_type": "code",
   "execution_count": 8,
   "metadata": {},
   "outputs": [],
   "source": [
    "api_file = open('api_bea.txt')\n",
    "api= \"\".join(api_file.readlines())"
   ]
  },
  {
   "cell_type": "markdown",
   "metadata": {},
   "source": [
    "# BEA Regional data (GDP & Personal Income)\n",
    "\n",
    "\n",
    "# 1. [BEA API](https://apps.bea.gov/api/_pdf/bea_web_service_api_user_guide.pdf)"
   ]
  },
  {
   "cell_type": "markdown",
   "metadata": {},
   "source": [
    "## 1.1 Find parameters for entire data set"
   ]
  },
  {
   "cell_type": "code",
   "execution_count": 9,
   "metadata": {},
   "outputs": [],
   "source": [
    "def param_request(method, dataset, param_name, format_type):\n",
    "    api = api_code\n",
    "    base = 'http://apps.bea.gov/api/data?&UserID='\n",
    "    base_api = base+api\n",
    "\n",
    "    method = '&method='+ method\n",
    "    data_set = '&datasetname='+ dataset\n",
    "    param = '&ParameterName='+param_name\n",
    "    result_format = '&ResultFormat='+ format_type\n",
    "\n",
    "    final_api = base_api + method + data_set + param + result_format\n",
    "\n",
    "    request = requests.get(final_api)\n",
    "    bs = BeautifulSoup(request.text, 'xml')\n",
    "    \n",
    "    return bs\n",
    "    "
   ]
  },
  {
   "cell_type": "code",
   "execution_count": 10,
   "metadata": {},
   "outputs": [],
   "source": [
    "linecodes = param_request(method = \"GetParameterValues\", \n",
    "                      dataset = 'Regional', \n",
    "                      param_name = 'LineCode',\n",
    "                      format_type = 'XML')"
   ]
  },
  {
   "cell_type": "code",
   "execution_count": 11,
   "metadata": {},
   "outputs": [],
   "source": [
    "#print(linecodes.prettify())"
   ]
  },
  {
   "cell_type": "markdown",
   "metadata": {},
   "source": [
    "## 1.2 Find parameter codes for given table\n",
    "\n",
    "## GetParameterValuesFiltered"
   ]
  },
  {
   "cell_type": "code",
   "execution_count": 12,
   "metadata": {},
   "outputs": [],
   "source": [
    "def param_request_filter(method, dataset, param_name, table_name, format_type):\n",
    "    api = '56CAFC0F-BA67-4159-9CD6-39D7860CA778'\n",
    "    base = 'http://apps.bea.gov/api/data?&UserID='\n",
    "    base_api = base+api\n",
    "\n",
    "    method = '&method='+ method\n",
    "    \n",
    "    data_set = '&datasetname='+ dataset\n",
    "    \n",
    "    param = '&TargetParameter='+param_name\n",
    "    \n",
    "    table = '&TableName=' + table_name \n",
    "    \n",
    "    result_format = '&ResultFormat='+ format_type\n",
    "\n",
    "    final_api = base_api + method + data_set + param +table + result_format\n",
    "    request = requests.get(final_api)\n",
    "    bs = BeautifulSoup(request.text, 'xml')\n",
    "    \n",
    "    return bs\n",
    "    "
   ]
  },
  {
   "cell_type": "code",
   "execution_count": 13,
   "metadata": {},
   "outputs": [],
   "source": [
    "linecodes_table = param_request_filter(method = \"GetParameterValuesFiltered\", \n",
    "                      dataset = 'Regional', \n",
    "                      param_name = 'LineCode', #GEOFIPS\n",
    "                      table_name = 'CAINC4',\n",
    "                      format_type = 'XML')"
   ]
  },
  {
   "cell_type": "code",
   "execution_count": 14,
   "metadata": {},
   "outputs": [
    {
     "name": "stdout",
     "output_type": "stream",
     "text": [
      "<?xml version=\"1.0\" encoding=\"utf-8\"?>\n",
      "<BEAAPI>\n",
      " <Request>\n",
      "  <RequestParam ParameterName=\"METHOD\" ParameterValue=\"GETPARAMETERVALUESFILTERED\"/>\n",
      "  <RequestParam ParameterName=\"RESULTFORMAT\" ParameterValue=\"XML\"/>\n",
      "  <RequestParam ParameterName=\"TABLENAME\" ParameterValue=\"CAINC4\"/>\n",
      "  <RequestParam ParameterName=\"USERID\" ParameterValue=\"56CAFC0F-BA67-4159-9CD6-39D7860CA778\"/>\n",
      "  <RequestParam ParameterName=\"DATASETNAME\" ParameterValue=\"REGIONAL\"/>\n",
      "  <RequestParam ParameterName=\"TARGETPARAMETER\" ParameterValue=\"LINECODE\"/>\n",
      " </Request>\n",
      " <Results>\n",
      "  <ParamValue Desc=\"[CAINC4] Personal income\" Key=\"10\"/>\n",
      "  <ParamValue Desc=\"[CAINC4] Nonfarm personal income\" Key=\"11\"/>\n",
      "  <ParamValue Desc=\"[CAINC4] Farm income\" Key=\"12\"/>\n",
      "  <ParamValue Desc=\"[CAINC4] Population\" Key=\"20\"/>\n",
      "  <ParamValue Desc=\"[CAINC4] Per capita personal income\" Key=\"30\"/>\n",
      "  <ParamValue Desc=\"[CAINC4] Earnings by place of work\" Key=\"35\"/>\n",
      "  <ParamValue Desc=\"[CAINC4] Contributions for government social insurance\" Key=\"36\"/>\n",
      "  <ParamValue Desc=\"[CAINC4] Employee and self-employed contributions for government social insurance\" Key=\"37\"/>\n",
      "  <ParamValue Desc=\"[CAINC4] Employer contributions for government social insurance\" Key=\"38\"/>\n",
      "  <ParamValue Desc=\"[CAINC4] Adjustment for residence\" Key=\"42\"/>\n",
      "  <ParamValue Desc=\"[CAINC4] Net earnings by place of residence\" Key=\"45\"/>\n",
      "  <ParamValue Desc=\"[CAINC4] Dividends, interest, and rent\" Key=\"46\"/>\n",
      "  <ParamValue Desc=\"[CAINC4] Personal current transfer receipts\" Key=\"47\"/>\n",
      "  <ParamValue Desc=\"[CAINC4] Wages and salaries\" Key=\"50\"/>\n",
      "  <ParamValue Desc=\"[CAINC4] Supplements to wages and salaries\" Key=\"60\"/>\n",
      "  <ParamValue Desc=\"[CAINC4] Employer contributions for employee pension and insurance funds\" Key=\"61\"/>\n",
      "  <ParamValue Desc=\"[CAINC4] Employer contributions for government social insurance\" Key=\"62\"/>\n",
      "  <ParamValue Desc=\"[CAINC4] Proprietors' income\" Key=\"70\"/>\n",
      "  <ParamValue Desc=\"[CAINC4] Total employment\" Key=\"7010\"/>\n",
      "  <ParamValue Desc=\"[CAINC4] Wage and salary employment\" Key=\"7020\"/>\n",
      "  <ParamValue Desc=\"[CAINC4] Proprietors employment\" Key=\"7040\"/>\n",
      "  <ParamValue Desc=\"[CAINC4] Farm proprietors' income\" Key=\"71\"/>\n",
      "  <ParamValue Desc=\"[CAINC4] Nonfarm proprietors' income\" Key=\"72\"/>\n",
      " </Results>\n",
      "</BEAAPI>\n"
     ]
    }
   ],
   "source": [
    "print(linecodes_table.prettify())"
   ]
  },
  {
   "cell_type": "markdown",
   "metadata": {},
   "source": [
    "### 1.3 Download data"
   ]
  },
  {
   "cell_type": "code",
   "execution_count": 15,
   "metadata": {},
   "outputs": [],
   "source": [
    "def target_url(method, dataset, table_name, linecode, frequency, geofips, year, format):\n",
    "    api = '56CAFC0F-BA67-4159-9CD6-39D7860CA778'\n",
    "    base = 'http://apps.bea.gov/api/data?&UserID='\n",
    "    base_api = base+api\n",
    "\n",
    "    method = '&method='+ method\n",
    "    data_set = '&datasetname='+ dataset\n",
    "    \n",
    "    line_geo_year = '&GeoFIPS='+geofips+'&LineCode='+linecode+'&Year='+year\n",
    "    \n",
    "    #line_geo_year = '&GeoFIPS='+ geofips+ '&Year='+year\n",
    "    \n",
    "    freq = 'Frequency=' + frequency\n",
    "    \n",
    "    table = '&TableName='+ table_name\n",
    "    result_format = '&ResultFormat='+ format\n",
    "\n",
    "    final_api = base_api + method + data_set + table + line_geo_year + result_format\n",
    "\n",
    "    request = requests.get(final_api)\n",
    "    bs = BeautifulSoup(request.text, 'xml')\n",
    "    return bs\n",
    "    "
   ]
  },
  {
   "cell_type": "markdown",
   "metadata": {},
   "source": [
    "# 2. Download data"
   ]
  },
  {
   "cell_type": "markdown",
   "metadata": {},
   "source": [
    "## 2.1 Regional GDP"
   ]
  },
  {
   "cell_type": "code",
   "execution_count": 16,
   "metadata": {},
   "outputs": [],
   "source": [
    "regional = target_url(method = \"GetData\", \n",
    "                      dataset = 'Regional', \n",
    "                      table_name = 'CAINC4', \n",
    "                      geofips = 'COUNTY', \n",
    "                      linecode = '10',\n",
    "                      frequency = 'Q',\n",
    "                      year = 'All', \n",
    "                      format = 'XML')\n"
   ]
  },
  {
   "cell_type": "markdown",
   "metadata": {},
   "source": [
    "## 2.2 Show full data"
   ]
  },
  {
   "cell_type": "code",
   "execution_count": 17,
   "metadata": {},
   "outputs": [],
   "source": [
    "#print(regional.prettify())"
   ]
  },
  {
   "cell_type": "code",
   "execution_count": 18,
   "metadata": {},
   "outputs": [],
   "source": [
    "#regional"
   ]
  },
  {
   "cell_type": "markdown",
   "metadata": {},
   "source": [
    "## 2.3 Only data"
   ]
  },
  {
   "cell_type": "code",
   "execution_count": 19,
   "metadata": {},
   "outputs": [
    {
     "name": "stdout",
     "output_type": "stream",
     "text": [
      "<Data CL_UNIT=\"Thousands of dollars\" Code=\"CAINC4-10\" DataValue=\"424,990\" GeoFips=\"01001\" GeoName=\"Autauga, AL\" TimePeriod=\"1987\" UNIT_MULT=\"3\"/>\n"
     ]
    }
   ],
   "source": [
    "for code in regional.find_all('Data'):\n",
    "    print(code)\n",
    "    break"
   ]
  },
  {
   "cell_type": "markdown",
   "metadata": {},
   "source": [
    "### 2.3.1 Parse data"
   ]
  },
  {
   "cell_type": "code",
   "execution_count": 20,
   "metadata": {},
   "outputs": [],
   "source": [
    "values, date, state = [],[],[]\n",
    "for row in regional.find_all('Data'):  \n",
    "    values.append(row.get('DataValue'))\n",
    "    date.append(row.get('TimePeriod'))\n",
    "    state.append(row.get('GeoName'))\n",
    "data_dict = {'value':values, 'date':date, 'state':state}"
   ]
  },
  {
   "cell_type": "markdown",
   "metadata": {},
   "source": [
    "## 2.3.2 Convert to dataframe"
   ]
  },
  {
   "cell_type": "code",
   "execution_count": 21,
   "metadata": {},
   "outputs": [
    {
     "name": "stdout",
     "output_type": "stream",
     "text": [
      "<class 'pandas.core.frame.DataFrame'>\n",
      "RangeIndex: 163280 entries, 0 to 163279\n",
      "Data columns (total 3 columns):\n",
      " #   Column  Non-Null Count   Dtype \n",
      "---  ------  --------------   ----- \n",
      " 0   value   163280 non-null  object\n",
      " 1   date    163280 non-null  object\n",
      " 2   state   163280 non-null  object\n",
      "dtypes: object(3)\n",
      "memory usage: 3.7+ MB\n"
     ]
    }
   ],
   "source": [
    "df = pd.DataFrame.from_dict(data_dict)\n",
    "df.info()"
   ]
  },
  {
   "cell_type": "code",
   "execution_count": 22,
   "metadata": {},
   "outputs": [
    {
     "data": {
      "text/html": [
       "<div>\n",
       "<style scoped>\n",
       "    .dataframe tbody tr th:only-of-type {\n",
       "        vertical-align: middle;\n",
       "    }\n",
       "\n",
       "    .dataframe tbody tr th {\n",
       "        vertical-align: top;\n",
       "    }\n",
       "\n",
       "    .dataframe thead th {\n",
       "        text-align: right;\n",
       "    }\n",
       "</style>\n",
       "<table border=\"1\" class=\"dataframe\">\n",
       "  <thead>\n",
       "    <tr style=\"text-align: right;\">\n",
       "      <th></th>\n",
       "      <th>value</th>\n",
       "      <th>date</th>\n",
       "      <th>state</th>\n",
       "    </tr>\n",
       "  </thead>\n",
       "  <tbody>\n",
       "    <tr>\n",
       "      <th>0</th>\n",
       "      <td>424,990</td>\n",
       "      <td>1987</td>\n",
       "      <td>Autauga, AL</td>\n",
       "    </tr>\n",
       "    <tr>\n",
       "      <th>1</th>\n",
       "      <td>503,406</td>\n",
       "      <td>1989</td>\n",
       "      <td>Autauga, AL</td>\n",
       "    </tr>\n",
       "    <tr>\n",
       "      <th>2</th>\n",
       "      <td>869,142</td>\n",
       "      <td>1997</td>\n",
       "      <td>Autauga, AL</td>\n",
       "    </tr>\n",
       "  </tbody>\n",
       "</table>\n",
       "</div>"
      ],
      "text/plain": [
       "     value  date        state\n",
       "0  424,990  1987  Autauga, AL\n",
       "1  503,406  1989  Autauga, AL\n",
       "2  869,142  1997  Autauga, AL"
      ]
     },
     "execution_count": 22,
     "metadata": {},
     "output_type": "execute_result"
    }
   ],
   "source": [
    "df.head(3)"
   ]
  },
  {
   "cell_type": "markdown",
   "metadata": {},
   "source": [
    "### 2.3.2.1 Convert to datatime and float"
   ]
  },
  {
   "cell_type": "code",
   "execution_count": 23,
   "metadata": {},
   "outputs": [
    {
     "name": "stdout",
     "output_type": "stream",
     "text": [
      "<class 'pandas.core.frame.DataFrame'>\n",
      "Int64Index: 52 entries, 11960 to 12011\n",
      "Data columns (total 3 columns):\n",
      " #   Column  Non-Null Count  Dtype         \n",
      "---  ------  --------------  -----         \n",
      " 0   value   52 non-null     float64       \n",
      " 1   date    52 non-null     datetime64[ns]\n",
      " 2   state   52 non-null     object        \n",
      "dtypes: datetime64[ns](1), float64(1), object(1)\n",
      "memory usage: 1.6+ KB\n",
      "None\n"
     ]
    }
   ],
   "source": [
    "df = df[df.state.str.contains('Los Angeles')]\n",
    "df.value = [float(x.replace(',','').replace(\"(NA)\",'')) for x in df.value]\n",
    "df.date = [pd.to_datetime(x) for x in df.date]\n",
    "print(df.info())"
   ]
  },
  {
   "cell_type": "code",
   "execution_count": 27,
   "metadata": {},
   "outputs": [
    {
     "data": {
      "text/plain": [
       "Los Angeles, CA    52\n",
       "Name: state, dtype: int64"
      ]
     },
     "execution_count": 27,
     "metadata": {},
     "output_type": "execute_result"
    }
   ],
   "source": [
    "df.state.value_counts()[:3]"
   ]
  },
  {
   "cell_type": "code",
   "execution_count": 28,
   "metadata": {},
   "outputs": [
    {
     "data": {
      "text/html": [
       "<div>\n",
       "<style scoped>\n",
       "    .dataframe tbody tr th:only-of-type {\n",
       "        vertical-align: middle;\n",
       "    }\n",
       "\n",
       "    .dataframe tbody tr th {\n",
       "        vertical-align: top;\n",
       "    }\n",
       "\n",
       "    .dataframe thead th {\n",
       "        text-align: right;\n",
       "    }\n",
       "</style>\n",
       "<table border=\"1\" class=\"dataframe\">\n",
       "  <thead>\n",
       "    <tr style=\"text-align: right;\">\n",
       "      <th></th>\n",
       "      <th>value</th>\n",
       "      <th>date</th>\n",
       "      <th>state</th>\n",
       "    </tr>\n",
       "  </thead>\n",
       "  <tbody>\n",
       "    <tr>\n",
       "      <th>11960</th>\n",
       "      <td>51826029.0</td>\n",
       "      <td>1975-01-01</td>\n",
       "      <td>Los Angeles, CA</td>\n",
       "    </tr>\n",
       "    <tr>\n",
       "      <th>11961</th>\n",
       "      <td>237616263.0</td>\n",
       "      <td>1997-01-01</td>\n",
       "      <td>Los Angeles, CA</td>\n",
       "    </tr>\n",
       "    <tr>\n",
       "      <th>11962</th>\n",
       "      <td>114723500.0</td>\n",
       "      <td>1983-01-01</td>\n",
       "      <td>Los Angeles, CA</td>\n",
       "    </tr>\n",
       "  </tbody>\n",
       "</table>\n",
       "</div>"
      ],
      "text/plain": [
       "             value       date            state\n",
       "11960   51826029.0 1975-01-01  Los Angeles, CA\n",
       "11961  237616263.0 1997-01-01  Los Angeles, CA\n",
       "11962  114723500.0 1983-01-01  Los Angeles, CA"
      ]
     },
     "execution_count": 28,
     "metadata": {},
     "output_type": "execute_result"
    }
   ],
   "source": [
    "df.head(3)"
   ]
  },
  {
   "cell_type": "code",
   "execution_count": null,
   "metadata": {},
   "outputs": [],
   "source": []
  }
 ],
 "metadata": {
  "kernelspec": {
   "display_name": "Python 3",
   "language": "python",
   "name": "python3"
  },
  "language_info": {
   "codemirror_mode": {
    "name": "ipython",
    "version": 3
   },
   "file_extension": ".py",
   "mimetype": "text/x-python",
   "name": "python",
   "nbconvert_exporter": "python",
   "pygments_lexer": "ipython3",
   "version": "3.8.5"
  }
 },
 "nbformat": 4,
 "nbformat_minor": 4
}
