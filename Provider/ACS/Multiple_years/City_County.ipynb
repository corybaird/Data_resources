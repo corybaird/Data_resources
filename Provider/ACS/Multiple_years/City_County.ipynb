{
 "cells": [
  {
   "cell_type": "code",
   "execution_count": 1,
   "id": "expressed-tonight",
   "metadata": {},
   "outputs": [],
   "source": [
    "import os\n",
    "import pandas as pd\n",
    "import requests\n",
    "import json\n",
    "import re\n",
    "from tqdm import tqdm\n",
    "import time\n",
    "import numpy as np\n",
    "idx = pd.IndexSlice\n",
    "import matplotlib.pyplot as plt\n",
    "from datetime import datetime, timedelta\n",
    "import datetime as dt\n",
    "from dateutil.relativedelta import relativedelta\n",
    "from openpyxl import load_workbook\n",
    "import sqlite3\n",
    "import sys"
   ]
  },
  {
   "cell_type": "markdown",
   "id": "temporal-arlington",
   "metadata": {},
   "source": [
    "## A Set api key"
   ]
  },
  {
   "cell_type": "code",
   "execution_count": 2,
   "id": "private-ferry",
   "metadata": {},
   "outputs": [],
   "source": [
    "api_file = open('api_key.txt')\n",
    "api_code = \"\".join(api_file.readlines())"
   ]
  },
  {
   "cell_type": "markdown",
   "id": "dying-acrobat",
   "metadata": {},
   "source": [
    "# 1. City"
   ]
  },
  {
   "cell_type": "markdown",
   "id": "parallel-romance",
   "metadata": {},
   "source": [
    "## 1.A ACS download function"
   ]
  },
  {
   "cell_type": "code",
   "execution_count": 3,
   "id": "conditional-simulation",
   "metadata": {},
   "outputs": [],
   "source": [
    "class api_fetch_city:   \n",
    "    def __init__(self, variable_name, entity, database, year):\n",
    "        \n",
    "        self.year = year\n",
    "        self.base = f'https://api.census.gov/data/{self.year}/acs/'\n",
    "        self.api_base = self.base+database\n",
    "        self.api_key = f'key={api_code}'\n",
    "        self.variable_name = \"?&get=NAME,\"+variable_name + entity\n",
    "        \n",
    "        self.api_final = f'{self.api_base}{self.variable_name}{self.api_key}'\n",
    "        \n",
    "    def request(self):\n",
    "        return requests.get(self.api_final)\n",
    "    \n",
    "    def download(self):\n",
    "        r = requests.get(self.api_final)\n",
    "        data = r.json()\n",
    "        df = pd.DataFrame(data)\n",
    "        df = df.rename(columns=df.iloc[0]).drop(df.index[0])\n",
    "        df = pd.concat([df.NAME, df.loc[:, ~df.columns.isin(['NAME'])].astype(float)],axis=1)\n",
    "        return df\n",
    "  "
   ]
  },
  {
   "cell_type": "markdown",
   "id": "nonprofit-token",
   "metadata": {},
   "source": [
    "## 1.1 Download 1 year"
   ]
  },
  {
   "cell_type": "code",
   "execution_count": 4,
   "id": "moral-complexity",
   "metadata": {},
   "outputs": [
    {
     "data": {
      "text/html": [
       "<div>\n",
       "<style scoped>\n",
       "    .dataframe tbody tr th:only-of-type {\n",
       "        vertical-align: middle;\n",
       "    }\n",
       "\n",
       "    .dataframe tbody tr th {\n",
       "        vertical-align: top;\n",
       "    }\n",
       "\n",
       "    .dataframe thead th {\n",
       "        text-align: right;\n",
       "    }\n",
       "</style>\n",
       "<table border=\"1\" class=\"dataframe\">\n",
       "  <thead>\n",
       "    <tr style=\"text-align: right;\">\n",
       "      <th></th>\n",
       "      <th>NAME</th>\n",
       "      <th>B25008_003E</th>\n",
       "      <th>state</th>\n",
       "      <th>place</th>\n",
       "    </tr>\n",
       "  </thead>\n",
       "  <tbody>\n",
       "    <tr>\n",
       "      <th>359</th>\n",
       "      <td>Moss Landing CDP, California</td>\n",
       "      <td>0.0</td>\n",
       "      <td>6.0</td>\n",
       "      <td>49488.0</td>\n",
       "    </tr>\n",
       "    <tr>\n",
       "      <th>360</th>\n",
       "      <td>Belvedere city, California</td>\n",
       "      <td>517.0</td>\n",
       "      <td>6.0</td>\n",
       "      <td>5164.0</td>\n",
       "    </tr>\n",
       "  </tbody>\n",
       "</table>\n",
       "</div>"
      ],
      "text/plain": [
       "                             NAME  B25008_003E  state    place\n",
       "359  Moss Landing CDP, California          0.0    6.0  49488.0\n",
       "360    Belvedere city, California        517.0    6.0   5164.0"
      ]
     },
     "execution_count": 4,
     "metadata": {},
     "output_type": "execute_result"
    }
   ],
   "source": [
    "city = '&for=place:*&'\n",
    "df = api_fetch_city('B25008_003E', city, 'acs5', str(2019)).download()\n",
    "mask = df.state == 6\n",
    "df = df.loc[mask, :]\n",
    "df.head(2)"
   ]
  },
  {
   "cell_type": "markdown",
   "id": "exciting-plate",
   "metadata": {},
   "source": [
    "# 2 County\n",
    "## 2.A ACS download function"
   ]
  },
  {
   "cell_type": "code",
   "execution_count": 21,
   "id": "northern-definition",
   "metadata": {},
   "outputs": [],
   "source": [
    "class api_fetch:   \n",
    "    def __init__(self, variable_name, entity, database, year):\n",
    "        \n",
    "        self.year = year\n",
    "        self.base = f'https://api.census.gov/data/{self.year}/acs/'\n",
    "        self.api_base = self.base+database\n",
    "        self.api_key = f'key={api_code}'\n",
    "        self.variable_name = \"?&get=\"+variable_name + entity\n",
    "        \n",
    "        self.api_final = f'{self.api_base}{self.variable_name}{self.api_key}'\n",
    "        \n",
    "    def request(self):\n",
    "        return requests.get(self.api_final)\n",
    "    \n",
    "    def download(self):\n",
    "        r = requests.get(self.api_final)\n",
    "        data = r.json()\n",
    "        df = pd.DataFrame(data)\n",
    "        df = df.rename(columns=df.iloc[0]).drop(df.index[0])\n",
    "        df = df.astype(float)\n",
    "        return df"
   ]
  },
  {
   "cell_type": "markdown",
   "id": "improving-poison",
   "metadata": {},
   "source": [
    "## 2.B Set variables for download"
   ]
  },
  {
   "cell_type": "code",
   "execution_count": 19,
   "id": "rational-indiana",
   "metadata": {},
   "outputs": [],
   "source": [
    "codes = {'B25008_003E': 'pop_renter_check',\n",
    " 'B06011_001E': 'median_inc',\n",
    " 'B01003_001E': 'pop_total',\n",
    " 'B01002_001E': 'age',\n",
    " 'B02001_002E': 'pop_white',\n",
    " 'B02001_003E': 'pop_black',\n",
    " 'B25106_028E': 'Burden_30 Less than 20,000',\n",
    " 'B25106_032E': 'Burden_30 $20,000 to $34,999:',\n",
    " 'B25106_036E': 'Burden_30 $35,000 to $49,999:',\n",
    " 'B25106_040E': 'Burden_30 $50,000 to $74,999:',\n",
    " 'B25106_044E': 'Burden_30 $75,000 or more:',\n",
    " 'B25111_001E': 'Med_rent'}"
   ]
  },
  {
   "cell_type": "markdown",
   "id": "norwegian-college",
   "metadata": {},
   "source": [
    "## 2.1 Download"
   ]
  },
  {
   "cell_type": "code",
   "execution_count": 23,
   "id": "remarkable-freight",
   "metadata": {},
   "outputs": [
    {
     "data": {
      "text/html": [
       "<div>\n",
       "<style scoped>\n",
       "    .dataframe tbody tr th:only-of-type {\n",
       "        vertical-align: middle;\n",
       "    }\n",
       "\n",
       "    .dataframe tbody tr th {\n",
       "        vertical-align: top;\n",
       "    }\n",
       "\n",
       "    .dataframe thead th {\n",
       "        text-align: right;\n",
       "    }\n",
       "</style>\n",
       "<table border=\"1\" class=\"dataframe\">\n",
       "  <thead>\n",
       "    <tr style=\"text-align: right;\">\n",
       "      <th></th>\n",
       "      <th>B25008_003E</th>\n",
       "      <th>state</th>\n",
       "      <th>county</th>\n",
       "    </tr>\n",
       "  </thead>\n",
       "  <tbody>\n",
       "    <tr>\n",
       "      <th>1</th>\n",
       "      <td>3623.0</td>\n",
       "      <td>17.0</td>\n",
       "      <td>51.0</td>\n",
       "    </tr>\n",
       "    <tr>\n",
       "      <th>2</th>\n",
       "      <td>6196.0</td>\n",
       "      <td>17.0</td>\n",
       "      <td>107.0</td>\n",
       "    </tr>\n",
       "    <tr>\n",
       "      <th>3</th>\n",
       "      <td>5537.0</td>\n",
       "      <td>17.0</td>\n",
       "      <td>165.0</td>\n",
       "    </tr>\n",
       "  </tbody>\n",
       "</table>\n",
       "</div>"
      ],
      "text/plain": [
       "   B25008_003E  state  county\n",
       "1       3623.0   17.0    51.0\n",
       "2       6196.0   17.0   107.0\n",
       "3       5537.0   17.0   165.0"
      ]
     },
     "execution_count": 23,
     "metadata": {},
     "output_type": "execute_result"
    }
   ],
   "source": [
    "county = '&for=county:*&'\n",
    "df = api_fetch('B25008_003E', county, 'acs5', str(2019)).download()\n",
    "df.head(3)\n"
   ]
  }
 ],
 "metadata": {
  "kernelspec": {
   "display_name": "Python 3",
   "language": "python",
   "name": "python3"
  },
  "language_info": {
   "codemirror_mode": {
    "name": "ipython",
    "version": 3
   },
   "file_extension": ".py",
   "mimetype": "text/x-python",
   "name": "python",
   "nbconvert_exporter": "python",
   "pygments_lexer": "ipython3",
   "version": "3.8.5"
  }
 },
 "nbformat": 4,
 "nbformat_minor": 5
}
