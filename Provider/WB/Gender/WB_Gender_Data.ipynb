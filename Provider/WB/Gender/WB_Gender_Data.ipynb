{
 "cells": [
  {
   "cell_type": "code",
   "execution_count": 1,
   "id": "introductory-multimedia",
   "metadata": {},
   "outputs": [],
   "source": [
    "import requests, zipfile, io\n",
    "import pandas as pd\n",
    "import matplotlib.pyplot as plt\n",
    "import os\n",
    "import matplotlib as mpl\n",
    "import datetime as dt\n",
    "import seaborn as sns\n",
    "\n",
    "idx = pd.IndexSlice\n",
    "\n",
    "plt.rcParams['figure.figsize'] = [16, 10]\n",
    "plt.rcParams.update({'font.size': 22})\n",
    "plt.style.use('seaborn-poster')\n",
    "mpl.rcParams['axes.spines.right'] = False\n",
    "mpl.rcParams['axes.spines.top'] = False"
   ]
  },
  {
   "cell_type": "markdown",
   "id": "express-spouse",
   "metadata": {},
   "source": [
    "# 1. Download zip file\n",
    "https://www.worldbank.org/en/data/datatopics/gender"
   ]
  },
  {
   "cell_type": "code",
   "execution_count": 3,
   "id": "rational-bhutan",
   "metadata": {},
   "outputs": [],
   "source": [
    "file = 'Gender_StatsEXCEL.xlsx'\n",
    "if any([x for x in os.listdir('Input') if file in x]):\n",
    "    print('File already downloaded')\n",
    "else:\n",
    "    zip_file_url = 'http://databank.worldbank.org/data/download/Gender_stats_excel.zip'\n",
    "    r = requests.get(zip_file_url)\n",
    "    z = zipfile.ZipFile(io.BytesIO(r.content))\n",
    "    z.extractall('Input/')\n",
    "    "
   ]
  },
  {
   "cell_type": "markdown",
   "id": "weekly-discrimination",
   "metadata": {},
   "source": [
    "# 2. Explore data"
   ]
  },
  {
   "cell_type": "markdown",
   "id": "frozen-alert",
   "metadata": {},
   "source": [
    "## 2.1 Sheet names"
   ]
  },
  {
   "cell_type": "code",
   "execution_count": 4,
   "id": "olympic-produce",
   "metadata": {},
   "outputs": [
    {
     "data": {
      "text/plain": [
       "['Data', 'Country', 'Series', 'Country-Series', 'Series-Time', 'FootNote']"
      ]
     },
     "execution_count": 4,
     "metadata": {},
     "output_type": "execute_result"
    }
   ],
   "source": [
    "file = 'Input/Gender_StatsEXCEL.xlsx'\n",
    "\n",
    "xl = pd.ExcelFile(file)\n",
    "\n",
    "xl.sheet_names  # see all sheet names"
   ]
  },
  {
   "cell_type": "markdown",
   "id": "wound-provision",
   "metadata": {},
   "source": [
    "## 2.2 Available series"
   ]
  },
  {
   "cell_type": "code",
   "execution_count": 5,
   "id": "connected-bloom",
   "metadata": {},
   "outputs": [
    {
     "data": {
      "text/html": [
       "<div>\n",
       "<style scoped>\n",
       "    .dataframe tbody tr th:only-of-type {\n",
       "        vertical-align: middle;\n",
       "    }\n",
       "\n",
       "    .dataframe tbody tr th {\n",
       "        vertical-align: top;\n",
       "    }\n",
       "\n",
       "    .dataframe thead th {\n",
       "        text-align: right;\n",
       "    }\n",
       "</style>\n",
       "<table border=\"1\" class=\"dataframe\">\n",
       "  <thead>\n",
       "    <tr style=\"text-align: right;\">\n",
       "      <th></th>\n",
       "      <th>Series Code</th>\n",
       "      <th>Topic</th>\n",
       "      <th>Indicator Name</th>\n",
       "      <th>Short definition</th>\n",
       "      <th>Long definition</th>\n",
       "      <th>Unit of measure</th>\n",
       "      <th>Periodicity</th>\n",
       "      <th>Base Period</th>\n",
       "      <th>Other notes</th>\n",
       "      <th>Aggregation method</th>\n",
       "      <th>Limitations and exceptions</th>\n",
       "      <th>Notes from original source</th>\n",
       "      <th>General comments</th>\n",
       "      <th>Source</th>\n",
       "      <th>Statistical concept and methodology</th>\n",
       "      <th>Development relevance</th>\n",
       "      <th>Related source links</th>\n",
       "      <th>Other web links</th>\n",
       "      <th>Related indicators</th>\n",
       "      <th>License Type</th>\n",
       "    </tr>\n",
       "  </thead>\n",
       "  <tbody>\n",
       "    <tr>\n",
       "      <th>0</th>\n",
       "      <td>fin1.t.a</td>\n",
       "      <td>Assets</td>\n",
       "      <td>Financial institution account (% age 15+)</td>\n",
       "      <td>The percentage of respondents who report havin...</td>\n",
       "      <td>The percentage of respondents who report havin...</td>\n",
       "      <td>Percent</td>\n",
       "      <td>Triennial</td>\n",
       "      <td>NaN</td>\n",
       "      <td>NaN</td>\n",
       "      <td>Weighted Average</td>\n",
       "      <td>NaN</td>\n",
       "      <td>NaN</td>\n",
       "      <td>NaN</td>\n",
       "      <td>Global Findex database</td>\n",
       "      <td>NaN</td>\n",
       "      <td>NaN</td>\n",
       "      <td>NaN</td>\n",
       "      <td>NaN</td>\n",
       "      <td>NaN</td>\n",
       "      <td>NaN</td>\n",
       "    </tr>\n",
       "    <tr>\n",
       "      <th>1</th>\n",
       "      <td>fin1.t.a.1</td>\n",
       "      <td>Assets</td>\n",
       "      <td>Financial institution account,male(% age 15+)</td>\n",
       "      <td>The percentage of respondents who report havin...</td>\n",
       "      <td>The percentage of respondents who report havin...</td>\n",
       "      <td>Percent</td>\n",
       "      <td>Triennial</td>\n",
       "      <td>NaN</td>\n",
       "      <td>NaN</td>\n",
       "      <td>Weighted Average</td>\n",
       "      <td>NaN</td>\n",
       "      <td>NaN</td>\n",
       "      <td>NaN</td>\n",
       "      <td>Global Findex database</td>\n",
       "      <td>NaN</td>\n",
       "      <td>NaN</td>\n",
       "      <td>NaN</td>\n",
       "      <td>NaN</td>\n",
       "      <td>NaN</td>\n",
       "      <td>NaN</td>\n",
       "    </tr>\n",
       "  </tbody>\n",
       "</table>\n",
       "</div>"
      ],
      "text/plain": [
       "  Series Code   Topic                                 Indicator Name  \\\n",
       "0    fin1.t.a  Assets      Financial institution account (% age 15+)   \n",
       "1  fin1.t.a.1  Assets  Financial institution account,male(% age 15+)   \n",
       "\n",
       "                                    Short definition  \\\n",
       "0  The percentage of respondents who report havin...   \n",
       "1  The percentage of respondents who report havin...   \n",
       "\n",
       "                                     Long definition Unit of measure  \\\n",
       "0  The percentage of respondents who report havin...         Percent   \n",
       "1  The percentage of respondents who report havin...         Percent   \n",
       "\n",
       "  Periodicity  Base Period  Other notes Aggregation method  \\\n",
       "0   Triennial          NaN          NaN   Weighted Average   \n",
       "1   Triennial          NaN          NaN   Weighted Average   \n",
       "\n",
       "  Limitations and exceptions Notes from original source General comments  \\\n",
       "0                        NaN                        NaN              NaN   \n",
       "1                        NaN                        NaN              NaN   \n",
       "\n",
       "                   Source Statistical concept and methodology  \\\n",
       "0  Global Findex database                                 NaN   \n",
       "1  Global Findex database                                 NaN   \n",
       "\n",
       "  Development relevance  Related source links  Other web links  \\\n",
       "0                   NaN                   NaN              NaN   \n",
       "1                   NaN                   NaN              NaN   \n",
       "\n",
       "   Related indicators License Type  \n",
       "0                 NaN          NaN  \n",
       "1                 NaN          NaN  "
      ]
     },
     "execution_count": 5,
     "metadata": {},
     "output_type": "execute_result"
    }
   ],
   "source": [
    "se = pd.read_excel(file, sheet_name='Series')\n",
    "se.head(2)"
   ]
  },
  {
   "cell_type": "markdown",
   "id": "prime-broadway",
   "metadata": {},
   "source": [
    "### 2.2.1 Topics"
   ]
  },
  {
   "cell_type": "code",
   "execution_count": 6,
   "id": "neutral-prayer",
   "metadata": {},
   "outputs": [
    {
     "data": {
      "text/plain": [
       "array(['Assets', 'Technology', 'Entrepreneurship',\n",
       "       'Economic and Social Context', 'Health', 'Education', 'Leadership',\n",
       "       'Employment and Time Use', 'Norms and Decision-making', 'Violence',\n",
       "       'Population', nan, 'Environment'], dtype=object)"
      ]
     },
     "execution_count": 6,
     "metadata": {},
     "output_type": "execute_result"
    }
   ],
   "source": [
    "se.Topic.unique()"
   ]
  },
  {
   "cell_type": "markdown",
   "id": "figured-prophet",
   "metadata": {},
   "source": [
    "### 2.2.2 Search by category"
   ]
  },
  {
   "cell_type": "code",
   "execution_count": 7,
   "id": "honey-addiction",
   "metadata": {},
   "outputs": [],
   "source": [
    "def search(topic):\n",
    "    mask = se.Topic == topic\n",
    "    res = se.loc[mask,'Indicator Name'].unique()\n",
    "    return res"
   ]
  },
  {
   "cell_type": "code",
   "execution_count": 8,
   "id": "caring-blend",
   "metadata": {},
   "outputs": [
    {
     "data": {
      "text/plain": [
       "array(['There are periods of absence due to childcare accounted for in pension benefits (1=yes; 0=no)',\n",
       "       'The age at which men and women can retire with full pension benefits is the same (1=yes; 0=no)',\n",
       "       'The mandatory retirement age for men and women is the same (1=yes; 0=no)',\n",
       "       'The age at which men and women can retire with partial pension benefits is the same (1=yes; 0=no)'],\n",
       "      dtype=object)"
      ]
     },
     "execution_count": 8,
     "metadata": {},
     "output_type": "execute_result"
    }
   ],
   "source": [
    "search('Employment and Time Use')[:4]"
   ]
  },
  {
   "cell_type": "markdown",
   "id": "fatty-pricing",
   "metadata": {},
   "source": [
    "# 3. Import all data"
   ]
  },
  {
   "cell_type": "code",
   "execution_count": 9,
   "id": "eastern-teach",
   "metadata": {},
   "outputs": [
    {
     "data": {
      "text/html": [
       "<div>\n",
       "<style scoped>\n",
       "    .dataframe tbody tr th:only-of-type {\n",
       "        vertical-align: middle;\n",
       "    }\n",
       "\n",
       "    .dataframe tbody tr th {\n",
       "        vertical-align: top;\n",
       "    }\n",
       "\n",
       "    .dataframe thead th {\n",
       "        text-align: right;\n",
       "    }\n",
       "</style>\n",
       "<table border=\"1\" class=\"dataframe\">\n",
       "  <thead>\n",
       "    <tr style=\"text-align: right;\">\n",
       "      <th></th>\n",
       "      <th>Country Name</th>\n",
       "      <th>Country Code</th>\n",
       "      <th>Indicator Name</th>\n",
       "      <th>Indicator Code</th>\n",
       "      <th>1960</th>\n",
       "      <th>1961</th>\n",
       "      <th>1962</th>\n",
       "      <th>1963</th>\n",
       "      <th>1964</th>\n",
       "      <th>1965</th>\n",
       "      <th>...</th>\n",
       "      <th>2012</th>\n",
       "      <th>2013</th>\n",
       "      <th>2014</th>\n",
       "      <th>2015</th>\n",
       "      <th>2016</th>\n",
       "      <th>2017</th>\n",
       "      <th>2018</th>\n",
       "      <th>2019</th>\n",
       "      <th>2020</th>\n",
       "      <th>2021</th>\n",
       "    </tr>\n",
       "  </thead>\n",
       "  <tbody>\n",
       "    <tr>\n",
       "      <th>0</th>\n",
       "      <td>Africa Eastern and Southern</td>\n",
       "      <td>AFE</td>\n",
       "      <td>A woman can apply for a passport in the same w...</td>\n",
       "      <td>SG.APL.PSPT.EQ</td>\n",
       "      <td>NaN</td>\n",
       "      <td>NaN</td>\n",
       "      <td>NaN</td>\n",
       "      <td>NaN</td>\n",
       "      <td>NaN</td>\n",
       "      <td>NaN</td>\n",
       "      <td>...</td>\n",
       "      <td>NaN</td>\n",
       "      <td>NaN</td>\n",
       "      <td>NaN</td>\n",
       "      <td>NaN</td>\n",
       "      <td>NaN</td>\n",
       "      <td>NaN</td>\n",
       "      <td>NaN</td>\n",
       "      <td>NaN</td>\n",
       "      <td>NaN</td>\n",
       "      <td>NaN</td>\n",
       "    </tr>\n",
       "    <tr>\n",
       "      <th>1</th>\n",
       "      <td>Africa Eastern and Southern</td>\n",
       "      <td>AFE</td>\n",
       "      <td>A woman can be head of household in the same w...</td>\n",
       "      <td>SG.HLD.HEAD.EQ</td>\n",
       "      <td>NaN</td>\n",
       "      <td>NaN</td>\n",
       "      <td>NaN</td>\n",
       "      <td>NaN</td>\n",
       "      <td>NaN</td>\n",
       "      <td>NaN</td>\n",
       "      <td>...</td>\n",
       "      <td>NaN</td>\n",
       "      <td>NaN</td>\n",
       "      <td>NaN</td>\n",
       "      <td>NaN</td>\n",
       "      <td>NaN</td>\n",
       "      <td>NaN</td>\n",
       "      <td>NaN</td>\n",
       "      <td>NaN</td>\n",
       "      <td>NaN</td>\n",
       "      <td>NaN</td>\n",
       "    </tr>\n",
       "  </tbody>\n",
       "</table>\n",
       "<p>2 rows × 66 columns</p>\n",
       "</div>"
      ],
      "text/plain": [
       "                  Country Name Country Code  \\\n",
       "0  Africa Eastern and Southern          AFE   \n",
       "1  Africa Eastern and Southern          AFE   \n",
       "\n",
       "                                      Indicator Name  Indicator Code  1960  \\\n",
       "0  A woman can apply for a passport in the same w...  SG.APL.PSPT.EQ   NaN   \n",
       "1  A woman can be head of household in the same w...  SG.HLD.HEAD.EQ   NaN   \n",
       "\n",
       "   1961  1962  1963  1964  1965  ...  2012  2013  2014  2015  2016  2017  \\\n",
       "0   NaN   NaN   NaN   NaN   NaN  ...   NaN   NaN   NaN   NaN   NaN   NaN   \n",
       "1   NaN   NaN   NaN   NaN   NaN  ...   NaN   NaN   NaN   NaN   NaN   NaN   \n",
       "\n",
       "   2018  2019  2020  2021  \n",
       "0   NaN   NaN   NaN   NaN  \n",
       "1   NaN   NaN   NaN   NaN  \n",
       "\n",
       "[2 rows x 66 columns]"
      ]
     },
     "execution_count": 9,
     "metadata": {},
     "output_type": "execute_result"
    }
   ],
   "source": [
    "df = pd.read_excel(file)\n",
    "df.head(2)"
   ]
  },
  {
   "cell_type": "code",
   "execution_count": 10,
   "id": "secure-meaning",
   "metadata": {},
   "outputs": [
    {
     "name": "stdout",
     "output_type": "stream",
     "text": [
      "<class 'pandas.core.frame.DataFrame'>\n",
      "RangeIndex: 254665 entries, 0 to 254664\n",
      "Columns: 66 entries, Country Name to 2021\n",
      "dtypes: float64(62), object(4)\n",
      "memory usage: 128.2+ MB\n"
     ]
    }
   ],
   "source": [
    "df.info(verbose=False)"
   ]
  },
  {
   "cell_type": "markdown",
   "id": "undefined-metro",
   "metadata": {},
   "source": [
    "## 3.C Wide to long"
   ]
  },
  {
   "cell_type": "code",
   "execution_count": 11,
   "id": "major-entrance",
   "metadata": {},
   "outputs": [],
   "source": [
    "df.drop('Country Code', axis=1, inplace=True)"
   ]
  },
  {
   "cell_type": "code",
   "execution_count": 12,
   "id": "guilty-venture",
   "metadata": {},
   "outputs": [
    {
     "data": {
      "text/html": [
       "<div>\n",
       "<style scoped>\n",
       "    .dataframe tbody tr th:only-of-type {\n",
       "        vertical-align: middle;\n",
       "    }\n",
       "\n",
       "    .dataframe tbody tr th {\n",
       "        vertical-align: top;\n",
       "    }\n",
       "\n",
       "    .dataframe thead th {\n",
       "        text-align: right;\n",
       "    }\n",
       "</style>\n",
       "<table border=\"1\" class=\"dataframe\">\n",
       "  <thead>\n",
       "    <tr style=\"text-align: right;\">\n",
       "      <th></th>\n",
       "      <th>Country Name</th>\n",
       "      <th>Indicator Name</th>\n",
       "      <th>Indicator Code</th>\n",
       "      <th>variable</th>\n",
       "      <th>value</th>\n",
       "    </tr>\n",
       "  </thead>\n",
       "  <tbody>\n",
       "    <tr>\n",
       "      <th>0</th>\n",
       "      <td>Africa Eastern and Southern</td>\n",
       "      <td>A woman can apply for a passport in the same w...</td>\n",
       "      <td>SG.APL.PSPT.EQ</td>\n",
       "      <td>1960</td>\n",
       "      <td>NaN</td>\n",
       "    </tr>\n",
       "    <tr>\n",
       "      <th>1</th>\n",
       "      <td>Africa Eastern and Southern</td>\n",
       "      <td>A woman can be head of household in the same w...</td>\n",
       "      <td>SG.HLD.HEAD.EQ</td>\n",
       "      <td>1960</td>\n",
       "      <td>NaN</td>\n",
       "    </tr>\n",
       "  </tbody>\n",
       "</table>\n",
       "</div>"
      ],
      "text/plain": [
       "                  Country Name  \\\n",
       "0  Africa Eastern and Southern   \n",
       "1  Africa Eastern and Southern   \n",
       "\n",
       "                                      Indicator Name  Indicator Code variable  \\\n",
       "0  A woman can apply for a passport in the same w...  SG.APL.PSPT.EQ     1960   \n",
       "1  A woman can be head of household in the same w...  SG.HLD.HEAD.EQ     1960   \n",
       "\n",
       "   value  \n",
       "0    NaN  \n",
       "1    NaN  "
      ]
     },
     "execution_count": 12,
     "metadata": {},
     "output_type": "execute_result"
    }
   ],
   "source": [
    "df = df.melt(id_vars=['Country Name', 'Indicator Name','Indicator Code'])\n",
    "df.head(2)"
   ]
  },
  {
   "cell_type": "code",
   "execution_count": 13,
   "id": "vertical-tours",
   "metadata": {},
   "outputs": [
    {
     "data": {
      "text/html": [
       "<div>\n",
       "<style scoped>\n",
       "    .dataframe tbody tr th:only-of-type {\n",
       "        vertical-align: middle;\n",
       "    }\n",
       "\n",
       "    .dataframe tbody tr th {\n",
       "        vertical-align: top;\n",
       "    }\n",
       "\n",
       "    .dataframe thead th {\n",
       "        text-align: right;\n",
       "    }\n",
       "</style>\n",
       "<table border=\"1\" class=\"dataframe\">\n",
       "  <thead>\n",
       "    <tr style=\"text-align: right;\">\n",
       "      <th></th>\n",
       "      <th></th>\n",
       "      <th>Indicator Name</th>\n",
       "      <th>Indicator Code</th>\n",
       "      <th>value</th>\n",
       "    </tr>\n",
       "    <tr>\n",
       "      <th>Country Name</th>\n",
       "      <th>date</th>\n",
       "      <th></th>\n",
       "      <th></th>\n",
       "      <th></th>\n",
       "    </tr>\n",
       "  </thead>\n",
       "  <tbody>\n",
       "    <tr>\n",
       "      <th rowspan=\"2\" valign=\"top\">Africa Eastern and Southern</th>\n",
       "      <th>1960</th>\n",
       "      <td>A woman can apply for a passport in the same w...</td>\n",
       "      <td>SG.APL.PSPT.EQ</td>\n",
       "      <td>NaN</td>\n",
       "    </tr>\n",
       "    <tr>\n",
       "      <th>1960</th>\n",
       "      <td>A woman can be head of household in the same w...</td>\n",
       "      <td>SG.HLD.HEAD.EQ</td>\n",
       "      <td>NaN</td>\n",
       "    </tr>\n",
       "  </tbody>\n",
       "</table>\n",
       "</div>"
      ],
      "text/plain": [
       "                                                                     Indicator Name  \\\n",
       "Country Name                date                                                      \n",
       "Africa Eastern and Southern 1960  A woman can apply for a passport in the same w...   \n",
       "                            1960  A woman can be head of household in the same w...   \n",
       "\n",
       "                                  Indicator Code  value  \n",
       "Country Name                date                         \n",
       "Africa Eastern and Southern 1960  SG.APL.PSPT.EQ    NaN  \n",
       "                            1960  SG.HLD.HEAD.EQ    NaN  "
      ]
     },
     "execution_count": 13,
     "metadata": {},
     "output_type": "execute_result"
    }
   ],
   "source": [
    "df = df.rename(columns={'variable':'date'}).set_index(['Country Name', 'date'])\n",
    "df.head(2)"
   ]
  }
 ],
 "metadata": {
  "kernelspec": {
   "display_name": "Python 3",
   "language": "python",
   "name": "python3"
  },
  "language_info": {
   "codemirror_mode": {
    "name": "ipython",
    "version": 3
   },
   "file_extension": ".py",
   "mimetype": "text/x-python",
   "name": "python",
   "nbconvert_exporter": "python",
   "pygments_lexer": "ipython3",
   "version": "3.8.5"
  }
 },
 "nbformat": 4,
 "nbformat_minor": 5
}
