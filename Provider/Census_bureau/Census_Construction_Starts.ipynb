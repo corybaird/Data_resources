{
 "cells": [
  {
   "cell_type": "code",
   "execution_count": 7,
   "id": "legitimate-essence",
   "metadata": {},
   "outputs": [],
   "source": [
    "import requests\n",
    "import pandas as pd\n",
    "idx = pd.IndexSlice\n",
    "from bs4 import BeautifulSoup\n",
    "from tqdm import tqdm"
   ]
  },
  {
   "cell_type": "markdown",
   "id": "sticky-baseball",
   "metadata": {},
   "source": [
    "## 1. State data\n",
    "## 1.1 Import one file"
   ]
  },
  {
   "cell_type": "code",
   "execution_count": 2,
   "id": "vertical-guidance",
   "metadata": {
    "scrolled": true
   },
   "outputs": [
    {
     "data": {
      "text/html": [
       "<div>\n",
       "<style scoped>\n",
       "    .dataframe tbody tr th:only-of-type {\n",
       "        vertical-align: middle;\n",
       "    }\n",
       "\n",
       "    .dataframe tbody tr th {\n",
       "        vertical-align: top;\n",
       "    }\n",
       "\n",
       "    .dataframe thead th {\n",
       "        text-align: right;\n",
       "    }\n",
       "</style>\n",
       "<table border=\"1\" class=\"dataframe\">\n",
       "  <thead>\n",
       "    <tr style=\"text-align: right;\">\n",
       "      <th></th>\n",
       "      <th>CSA</th>\n",
       "      <th>CBSA</th>\n",
       "      <th>Name</th>\n",
       "      <th>Total</th>\n",
       "      <th>1 Unit</th>\n",
       "      <th>2 Units</th>\n",
       "      <th>3 and 4 Units</th>\n",
       "      <th>5 Units or More</th>\n",
       "      <th>Num of Structures With 5 Units or More</th>\n",
       "      <th>Monthly Coverage Percent*</th>\n",
       "      <th>Unnamed: 10</th>\n",
       "      <th>Total.1</th>\n",
       "      <th>1 Unit.1</th>\n",
       "      <th>2 Units.1</th>\n",
       "      <th>3 and 4 Units.1</th>\n",
       "      <th>5 Units or More.1</th>\n",
       "      <th>Num of Structures With 5 Units or More.1</th>\n",
       "    </tr>\n",
       "  </thead>\n",
       "  <tbody>\n",
       "    <tr>\n",
       "      <th>0</th>\n",
       "      <td>NaN</td>\n",
       "      <td>NaN</td>\n",
       "      <td>NaN</td>\n",
       "      <td>NaN</td>\n",
       "      <td>NaN</td>\n",
       "      <td>NaN</td>\n",
       "      <td>NaN</td>\n",
       "      <td>NaN</td>\n",
       "      <td>NaN</td>\n",
       "      <td>NaN</td>\n",
       "      <td>NaN</td>\n",
       "      <td>NaN</td>\n",
       "      <td>NaN</td>\n",
       "      <td>NaN</td>\n",
       "      <td>NaN</td>\n",
       "      <td>NaN</td>\n",
       "      <td>NaN</td>\n",
       "    </tr>\n",
       "    <tr>\n",
       "      <th>1</th>\n",
       "      <td>999.0</td>\n",
       "      <td>10180.0</td>\n",
       "      <td>Abilene, TX                                   ...</td>\n",
       "      <td>43.0</td>\n",
       "      <td>35.0</td>\n",
       "      <td>8.0</td>\n",
       "      <td>0.0</td>\n",
       "      <td>0.0</td>\n",
       "      <td>0.0</td>\n",
       "      <td>96.0</td>\n",
       "      <td>NaN</td>\n",
       "      <td>827.0</td>\n",
       "      <td>456.0</td>\n",
       "      <td>82.0</td>\n",
       "      <td>0.0</td>\n",
       "      <td>289.0</td>\n",
       "      <td>7.0</td>\n",
       "    </tr>\n",
       "    <tr>\n",
       "      <th>2</th>\n",
       "      <td>184.0</td>\n",
       "      <td>10420.0</td>\n",
       "      <td>Akron, OH                                     ...</td>\n",
       "      <td>61.0</td>\n",
       "      <td>51.0</td>\n",
       "      <td>0.0</td>\n",
       "      <td>4.0</td>\n",
       "      <td>6.0</td>\n",
       "      <td>1.0</td>\n",
       "      <td>61.0</td>\n",
       "      <td>NaN</td>\n",
       "      <td>735.0</td>\n",
       "      <td>560.0</td>\n",
       "      <td>10.0</td>\n",
       "      <td>99.0</td>\n",
       "      <td>66.0</td>\n",
       "      <td>13.0</td>\n",
       "    </tr>\n",
       "  </tbody>\n",
       "</table>\n",
       "</div>"
      ],
      "text/plain": [
       "     CSA     CBSA                                               Name  Total  \\\n",
       "0    NaN      NaN                                                NaN    NaN   \n",
       "1  999.0  10180.0  Abilene, TX                                   ...   43.0   \n",
       "2  184.0  10420.0  Akron, OH                                     ...   61.0   \n",
       "\n",
       "   1 Unit  2 Units  3 and 4 Units  5 Units or More  \\\n",
       "0     NaN      NaN            NaN              NaN   \n",
       "1    35.0      8.0            0.0              0.0   \n",
       "2    51.0      0.0            4.0              6.0   \n",
       "\n",
       "   Num of Structures With 5 Units or More  Monthly Coverage Percent*  \\\n",
       "0                                     NaN                        NaN   \n",
       "1                                     0.0                       96.0   \n",
       "2                                     1.0                       61.0   \n",
       "\n",
       "   Unnamed: 10  Total.1  1 Unit.1  2 Units.1  3 and 4 Units.1  \\\n",
       "0          NaN      NaN       NaN        NaN              NaN   \n",
       "1          NaN    827.0     456.0       82.0              0.0   \n",
       "2          NaN    735.0     560.0       10.0             99.0   \n",
       "\n",
       "   5 Units or More.1  Num of Structures With 5 Units or More.1  \n",
       "0                NaN                                       NaN  \n",
       "1              289.0                                       7.0  \n",
       "2               66.0                                      13.0  "
      ]
     },
     "execution_count": 2,
     "metadata": {},
     "output_type": "execute_result"
    }
   ],
   "source": [
    "url = 'https://www.census.gov/construction/bps/xls/msamonthly_202111.xls'\n",
    "df = pd.read_excel(url, header = 7)\n",
    "df.head(3)"
   ]
  },
  {
   "cell_type": "markdown",
   "id": "fabulous-tuesday",
   "metadata": {},
   "source": [
    "## 1.2 Import iteratively\n",
    "\n",
    "### 1.2.1 Scrape all xls files\n",
    "\n",
    "https://www.census.gov/construction/bps/statemonthly.html"
   ]
  },
  {
   "cell_type": "code",
   "execution_count": 8,
   "id": "mighty-archives",
   "metadata": {},
   "outputs": [
    {
     "name": "stderr",
     "output_type": "stream",
     "text": [
      "100%|██████████| 70/70 [00:00<00:00, 219432.94it/s]\n"
     ]
    },
    {
     "data": {
      "text/plain": [
       "['https://www.census.gov//construction/bps/xls/statemonthly_202101.xls',\n",
       " 'https://www.census.gov//construction/bps/xls/statemonthly_202102.xls',\n",
       " 'https://www.census.gov//construction/bps/xls/statemonthly_202103.xls']"
      ]
     },
     "execution_count": 8,
     "metadata": {},
     "output_type": "execute_result"
    }
   ],
   "source": [
    "short_url = 'https://www.census.gov/'\n",
    "url = 'https://www.census.gov/construction/bps/statemonthly.html'\n",
    "response = requests.get(url, timeout=10)\n",
    "soup = BeautifulSoup(response.content, 'html.parser')\n",
    "urls = []\n",
    "tags = soup('a')\n",
    "for tag in tqdm(tags):\n",
    "    href = (tag.get('href', None))\n",
    "    if type(href)==str:\n",
    "        if href.endswith(('xls', 'xlsx')):\n",
    "            csv_url = short_url+href\n",
    "            urls.append(csv_url)\n",
    "urls[:3]"
   ]
  },
  {
   "cell_type": "markdown",
   "id": "whole-prague",
   "metadata": {},
   "source": [
    "### 1.2.2 Download"
   ]
  },
  {
   "cell_type": "code",
   "execution_count": 9,
   "id": "iraqi-magic",
   "metadata": {},
   "outputs": [
    {
     "name": "stderr",
     "output_type": "stream",
     "text": [
      "100%|██████████| 26/26 [00:16<00:00,  1.61it/s]\n"
     ]
    },
    {
     "data": {
      "text/html": [
       "<div>\n",
       "<style scoped>\n",
       "    .dataframe tbody tr th:only-of-type {\n",
       "        vertical-align: middle;\n",
       "    }\n",
       "\n",
       "    .dataframe tbody tr th {\n",
       "        vertical-align: top;\n",
       "    }\n",
       "\n",
       "    .dataframe thead th {\n",
       "        text-align: right;\n",
       "    }\n",
       "</style>\n",
       "<table border=\"1\" class=\"dataframe\">\n",
       "  <thead>\n",
       "    <tr style=\"text-align: right;\">\n",
       "      <th></th>\n",
       "      <th>Unnamed: 0</th>\n",
       "      <th>Total</th>\n",
       "      <th>1 Unit</th>\n",
       "      <th>2 Units</th>\n",
       "      <th>3 and 4 Units</th>\n",
       "      <th>5 Units or More</th>\n",
       "      <th>Num of Structures With 5 Units or More</th>\n",
       "      <th>Unnamed: 7</th>\n",
       "      <th>Total.1</th>\n",
       "      <th>1 Unit.1</th>\n",
       "      <th>2 Units.1</th>\n",
       "      <th>3 and 4 Units.1</th>\n",
       "      <th>5 Units or More.1</th>\n",
       "      <th>Num of Structures With 5 Units or More.1</th>\n",
       "    </tr>\n",
       "    <tr>\n",
       "      <th>date</th>\n",
       "      <th></th>\n",
       "      <th></th>\n",
       "      <th></th>\n",
       "      <th></th>\n",
       "      <th></th>\n",
       "      <th></th>\n",
       "      <th></th>\n",
       "      <th></th>\n",
       "      <th></th>\n",
       "      <th></th>\n",
       "      <th></th>\n",
       "      <th></th>\n",
       "      <th></th>\n",
       "      <th></th>\n",
       "    </tr>\n",
       "  </thead>\n",
       "  <tbody>\n",
       "    <tr>\n",
       "      <th>2021-01-01</th>\n",
       "      <td>United States</td>\n",
       "      <td>128837.0</td>\n",
       "      <td>83921.0</td>\n",
       "      <td>2050.0</td>\n",
       "      <td>1581.0</td>\n",
       "      <td>41285.0</td>\n",
       "      <td>1544.0</td>\n",
       "      <td>NaN</td>\n",
       "      <td>128837.0</td>\n",
       "      <td>83921.0</td>\n",
       "      <td>2050.0</td>\n",
       "      <td>1581.0</td>\n",
       "      <td>41285.0</td>\n",
       "      <td>1544.0</td>\n",
       "    </tr>\n",
       "    <tr>\n",
       "      <th>2021-01-01</th>\n",
       "      <td>Northeast Region</td>\n",
       "      <td>13449.0</td>\n",
       "      <td>4978.0</td>\n",
       "      <td>352.0</td>\n",
       "      <td>237.0</td>\n",
       "      <td>7882.0</td>\n",
       "      <td>324.0</td>\n",
       "      <td>NaN</td>\n",
       "      <td>13449.0</td>\n",
       "      <td>4978.0</td>\n",
       "      <td>352.0</td>\n",
       "      <td>237.0</td>\n",
       "      <td>7882.0</td>\n",
       "      <td>324.0</td>\n",
       "    </tr>\n",
       "  </tbody>\n",
       "</table>\n",
       "</div>"
      ],
      "text/plain": [
       "                                Unnamed: 0     Total   1 Unit  2 Units  \\\n",
       "date                                                                     \n",
       "2021-01-01  United States                   128837.0  83921.0   2050.0   \n",
       "2021-01-01  Northeast Region                 13449.0   4978.0    352.0   \n",
       "\n",
       "            3 and 4 Units  5 Units or More  \\\n",
       "date                                         \n",
       "2021-01-01         1581.0          41285.0   \n",
       "2021-01-01          237.0           7882.0   \n",
       "\n",
       "            Num of Structures With 5 Units or More  Unnamed: 7   Total.1  \\\n",
       "date                                                                       \n",
       "2021-01-01                                  1544.0         NaN  128837.0   \n",
       "2021-01-01                                   324.0         NaN   13449.0   \n",
       "\n",
       "            1 Unit.1  2 Units.1  3 and 4 Units.1  5 Units or More.1  \\\n",
       "date                                                                  \n",
       "2021-01-01   83921.0     2050.0           1581.0            41285.0   \n",
       "2021-01-01    4978.0      352.0            237.0             7882.0   \n",
       "\n",
       "            Num of Structures With 5 Units or More.1  \n",
       "date                                                  \n",
       "2021-01-01                                    1544.0  \n",
       "2021-01-01                                     324.0  "
      ]
     },
     "execution_count": 9,
     "metadata": {},
     "output_type": "execute_result"
    }
   ],
   "source": [
    "dfs = []\n",
    "for url in tqdm(urls):\n",
    "    date = url[-10:-6] +'-' + url[-6:-4]\n",
    "    date = pd.to_datetime(date)\n",
    "    df = pd.read_excel(url, header = 7)\n",
    "    df['date'] = date\n",
    "    df = df.iloc[1:,:]\n",
    "    df.set_index('date',inplace=True)\n",
    "    dfs.append(df)\n",
    "df_s = pd.concat(dfs, axis=0)\n",
    "df_s.head(2)"
   ]
  },
  {
   "cell_type": "markdown",
   "id": "sharp-benjamin",
   "metadata": {},
   "source": [
    "### 1.2.3 Rename and manipulate data"
   ]
  },
  {
   "cell_type": "code",
   "execution_count": 10,
   "id": "asian-camel",
   "metadata": {},
   "outputs": [
    {
     "data": {
      "text/html": [
       "<div>\n",
       "<style scoped>\n",
       "    .dataframe tbody tr th:only-of-type {\n",
       "        vertical-align: middle;\n",
       "    }\n",
       "\n",
       "    .dataframe tbody tr th {\n",
       "        vertical-align: top;\n",
       "    }\n",
       "\n",
       "    .dataframe thead th {\n",
       "        text-align: right;\n",
       "    }\n",
       "</style>\n",
       "<table border=\"1\" class=\"dataframe\">\n",
       "  <thead>\n",
       "    <tr style=\"text-align: right;\">\n",
       "      <th></th>\n",
       "      <th></th>\n",
       "      <th>Total</th>\n",
       "      <th>1 Unit</th>\n",
       "      <th>2 Units</th>\n",
       "      <th>3 and 4 Units</th>\n",
       "      <th>5 Units or More</th>\n",
       "      <th>Num of Structures With 5 Units or More</th>\n",
       "      <th>Unnamed: 7</th>\n",
       "      <th>Total.1</th>\n",
       "      <th>1 Unit.1</th>\n",
       "      <th>2 Units.1</th>\n",
       "      <th>3 and 4 Units.1</th>\n",
       "      <th>5 Units or More.1</th>\n",
       "      <th>Num of Structures With 5 Units or More.1</th>\n",
       "    </tr>\n",
       "    <tr>\n",
       "      <th>Location</th>\n",
       "      <th>date</th>\n",
       "      <th></th>\n",
       "      <th></th>\n",
       "      <th></th>\n",
       "      <th></th>\n",
       "      <th></th>\n",
       "      <th></th>\n",
       "      <th></th>\n",
       "      <th></th>\n",
       "      <th></th>\n",
       "      <th></th>\n",
       "      <th></th>\n",
       "      <th></th>\n",
       "      <th></th>\n",
       "    </tr>\n",
       "  </thead>\n",
       "  <tbody>\n",
       "    <tr>\n",
       "      <th rowspan=\"3\" valign=\"top\">Alabama</th>\n",
       "      <th>2019-11-01</th>\n",
       "      <td>1218.0</td>\n",
       "      <td>1098.0</td>\n",
       "      <td>8.0</td>\n",
       "      <td>13.0</td>\n",
       "      <td>99.0</td>\n",
       "      <td>8.0</td>\n",
       "      <td>NaN</td>\n",
       "      <td>15700.0</td>\n",
       "      <td>13034.0</td>\n",
       "      <td>130.0</td>\n",
       "      <td>315.0</td>\n",
       "      <td>2221.0</td>\n",
       "      <td>85.0</td>\n",
       "    </tr>\n",
       "    <tr>\n",
       "      <th>2019-12-01</th>\n",
       "      <td>1366.0</td>\n",
       "      <td>1023.0</td>\n",
       "      <td>14.0</td>\n",
       "      <td>38.0</td>\n",
       "      <td>291.0</td>\n",
       "      <td>8.0</td>\n",
       "      <td>NaN</td>\n",
       "      <td>17078.0</td>\n",
       "      <td>14069.0</td>\n",
       "      <td>144.0</td>\n",
       "      <td>353.0</td>\n",
       "      <td>2512.0</td>\n",
       "      <td>93.0</td>\n",
       "    </tr>\n",
       "    <tr>\n",
       "      <th>2020-01-01</th>\n",
       "      <td>1548.0</td>\n",
       "      <td>1303.0</td>\n",
       "      <td>12.0</td>\n",
       "      <td>21.0</td>\n",
       "      <td>212.0</td>\n",
       "      <td>11.0</td>\n",
       "      <td>NaN</td>\n",
       "      <td>1548.0</td>\n",
       "      <td>1303.0</td>\n",
       "      <td>12.0</td>\n",
       "      <td>21.0</td>\n",
       "      <td>212.0</td>\n",
       "      <td>11.0</td>\n",
       "    </tr>\n",
       "  </tbody>\n",
       "</table>\n",
       "</div>"
      ],
      "text/plain": [
       "                      Total  1 Unit  2 Units  3 and 4 Units  5 Units or More  \\\n",
       "Location date                                                                  \n",
       "Alabama  2019-11-01  1218.0  1098.0      8.0           13.0             99.0   \n",
       "         2019-12-01  1366.0  1023.0     14.0           38.0            291.0   \n",
       "         2020-01-01  1548.0  1303.0     12.0           21.0            212.0   \n",
       "\n",
       "                     Num of Structures With 5 Units or More  Unnamed: 7  \\\n",
       "Location date                                                             \n",
       "Alabama  2019-11-01                                     8.0         NaN   \n",
       "         2019-12-01                                     8.0         NaN   \n",
       "         2020-01-01                                    11.0         NaN   \n",
       "\n",
       "                     Total.1  1 Unit.1  2 Units.1  3 and 4 Units.1  \\\n",
       "Location date                                                        \n",
       "Alabama  2019-11-01  15700.0   13034.0      130.0            315.0   \n",
       "         2019-12-01  17078.0   14069.0      144.0            353.0   \n",
       "         2020-01-01   1548.0    1303.0       12.0             21.0   \n",
       "\n",
       "                     5 Units or More.1  \\\n",
       "Location date                            \n",
       "Alabama  2019-11-01             2221.0   \n",
       "         2019-12-01             2512.0   \n",
       "         2020-01-01              212.0   \n",
       "\n",
       "                     Num of Structures With 5 Units or More.1  \n",
       "Location date                                                  \n",
       "Alabama  2019-11-01                                      85.0  \n",
       "         2019-12-01                                      93.0  \n",
       "         2020-01-01                                      11.0  "
      ]
     },
     "execution_count": 10,
     "metadata": {},
     "output_type": "execute_result"
    }
   ],
   "source": [
    "df_s.rename(columns = {'Unnamed: 0':'Location'}, inplace=True)\n",
    "df_s.Location = [str(x).strip() for x in df_s.Location]\n",
    "df_s = df_s.reset_index().set_index(['Location','date'])\n",
    "df_s = df_s.sort_index(axis=0, level='Location')\n",
    "df_s.head(3)"
   ]
  },
  {
   "cell_type": "markdown",
   "id": "ceramic-serial",
   "metadata": {},
   "source": [
    "## 1.3 California data"
   ]
  },
  {
   "cell_type": "markdown",
   "id": "corresponding-store",
   "metadata": {},
   "source": [
    "### 1.3.1 Apartments"
   ]
  },
  {
   "cell_type": "code",
   "execution_count": 99,
   "id": "potential-brunswick",
   "metadata": {},
   "outputs": [
    {
     "data": {
      "text/plain": [
       "date\n",
       "2019-12-31     293.0\n",
       "2020-12-31    1468.0\n",
       "2021-12-31    1807.0\n",
       "Freq: A-DEC, Name: Num of Structures With 5 Units or More, dtype: float64"
      ]
     },
     "execution_count": 99,
     "metadata": {},
     "output_type": "execute_result"
    }
   ],
   "source": [
    "ca = df_s.loc[idx['California',:], 'Num of Structures With 5 Units or More']\n",
    "ca.index = ca.index.droplevel(0)\n",
    "ca.resample('A').sum()"
   ]
  },
  {
   "cell_type": "markdown",
   "id": "closing-mandate",
   "metadata": {},
   "source": [
    "### 1.3.2 One-unit SFH"
   ]
  },
  {
   "cell_type": "code",
   "execution_count": 11,
   "id": "american-timeline",
   "metadata": {},
   "outputs": [
    {
     "data": {
      "text/plain": [
       "date\n",
       "2019-12-31    10359.0\n",
       "2020-12-31    60560.0\n",
       "2021-12-31    65970.0\n",
       "Freq: A-DEC, Name: 1 Unit, dtype: float64"
      ]
     },
     "execution_count": 11,
     "metadata": {},
     "output_type": "execute_result"
    }
   ],
   "source": [
    "ca = df_s.loc[idx['California',:], '1 Unit']\n",
    "ca.index = ca.index.droplevel(0)\n",
    "ca.resample('A').sum()"
   ]
  },
  {
   "cell_type": "markdown",
   "id": "guilty-world",
   "metadata": {},
   "source": [
    "# 2. City Data\n",
    "- https://www.census.gov/construction/bps/msamonthly.html"
   ]
  },
  {
   "cell_type": "markdown",
   "id": "arabic-replacement",
   "metadata": {},
   "source": [
    "## 2.1 Scrape all xls files"
   ]
  },
  {
   "cell_type": "code",
   "execution_count": 12,
   "id": "configured-discharge",
   "metadata": {},
   "outputs": [
    {
     "data": {
      "text/plain": [
       "['https://www.census.gov//construction/bps/xls/msamonthly_202101.xls',\n",
       " 'https://www.census.gov//construction/bps/xls/msamonthly_202102.xls',\n",
       " 'https://www.census.gov//construction/bps/xls/msamonthly_202103.xls']"
      ]
     },
     "execution_count": 12,
     "metadata": {},
     "output_type": "execute_result"
    }
   ],
   "source": [
    "short_url = 'https://www.census.gov/'\n",
    "url = 'https://www.census.gov/construction/bps/msamonthly.html'\n",
    "response = requests.get(url, timeout=10)\n",
    "soup = BeautifulSoup(response.content, 'html.parser')\n",
    "urls = []\n",
    "tags = soup('a')\n",
    "for tag in tags:\n",
    "    href = (tag.get('href', None))\n",
    "    if type(href)==str:\n",
    "        if href.endswith(('xls', 'xlsx')):\n",
    "            csv_url = short_url+href\n",
    "            urls.append(csv_url)\n",
    "urls[:3]"
   ]
  },
  {
   "cell_type": "markdown",
   "id": "flexible-cleanup",
   "metadata": {},
   "source": [
    "## 2.2 Import data"
   ]
  },
  {
   "cell_type": "code",
   "execution_count": 14,
   "id": "smaller-marijuana",
   "metadata": {},
   "outputs": [
    {
     "name": "stderr",
     "output_type": "stream",
     "text": [
      "100%|██████████| 26/26 [00:20<00:00,  1.27it/s]\n"
     ]
    }
   ],
   "source": [
    "dfs = []\n",
    "for url in tqdm(urls):\n",
    "    date = url[-10:-6] +'-' + url[-6:-4]\n",
    "    date = pd.to_datetime(date)\n",
    "    df = pd.read_excel(url, header = 7)\n",
    "    df['date'] = date\n",
    "    df = df.iloc[1:,:]\n",
    "    df.set_index('date',inplace=True)\n",
    "    dfs.append(df)\n",
    "df_m = pd.concat(dfs, axis=0)\n"
   ]
  },
  {
   "cell_type": "markdown",
   "id": "female-links",
   "metadata": {},
   "source": [
    "## 2.3 Manipulate"
   ]
  },
  {
   "cell_type": "code",
   "execution_count": 15,
   "id": "unknown-truth",
   "metadata": {},
   "outputs": [
    {
     "data": {
      "text/html": [
       "<div>\n",
       "<style scoped>\n",
       "    .dataframe tbody tr th:only-of-type {\n",
       "        vertical-align: middle;\n",
       "    }\n",
       "\n",
       "    .dataframe tbody tr th {\n",
       "        vertical-align: top;\n",
       "    }\n",
       "\n",
       "    .dataframe thead th {\n",
       "        text-align: right;\n",
       "    }\n",
       "</style>\n",
       "<table border=\"1\" class=\"dataframe\">\n",
       "  <thead>\n",
       "    <tr style=\"text-align: right;\">\n",
       "      <th></th>\n",
       "      <th></th>\n",
       "      <th>CSA</th>\n",
       "      <th>CBSA</th>\n",
       "      <th>Total</th>\n",
       "      <th>1 Unit</th>\n",
       "      <th>2 Units</th>\n",
       "      <th>3 and 4 Units</th>\n",
       "      <th>5 Units or More</th>\n",
       "      <th>Num of Structures With 5 Units or More</th>\n",
       "      <th>Monthly Coverage Percent*</th>\n",
       "      <th>Unnamed: 10</th>\n",
       "      <th>Total.1</th>\n",
       "      <th>1 Unit.1</th>\n",
       "      <th>2 Units.1</th>\n",
       "      <th>3 and 4 Units.1</th>\n",
       "      <th>5 Units or More.1</th>\n",
       "      <th>Num of Structures With 5 Units or More.1</th>\n",
       "    </tr>\n",
       "    <tr>\n",
       "      <th>Location</th>\n",
       "      <th>date</th>\n",
       "      <th></th>\n",
       "      <th></th>\n",
       "      <th></th>\n",
       "      <th></th>\n",
       "      <th></th>\n",
       "      <th></th>\n",
       "      <th></th>\n",
       "      <th></th>\n",
       "      <th></th>\n",
       "      <th></th>\n",
       "      <th></th>\n",
       "      <th></th>\n",
       "      <th></th>\n",
       "      <th></th>\n",
       "      <th></th>\n",
       "      <th></th>\n",
       "    </tr>\n",
       "  </thead>\n",
       "  <tbody>\n",
       "    <tr>\n",
       "      <th rowspan=\"3\" valign=\"top\">Abilene, TX</th>\n",
       "      <th>2019-11-01</th>\n",
       "      <td>999.0</td>\n",
       "      <td>10180.0</td>\n",
       "      <td>23.0</td>\n",
       "      <td>21.0</td>\n",
       "      <td>2.0</td>\n",
       "      <td>0.0</td>\n",
       "      <td>0.0</td>\n",
       "      <td>0.0</td>\n",
       "      <td>92.0</td>\n",
       "      <td>NaN</td>\n",
       "      <td>313.0</td>\n",
       "      <td>303.0</td>\n",
       "      <td>10.0</td>\n",
       "      <td>0.0</td>\n",
       "      <td>0.0</td>\n",
       "      <td>0.0</td>\n",
       "    </tr>\n",
       "    <tr>\n",
       "      <th>2019-12-01</th>\n",
       "      <td>999.0</td>\n",
       "      <td>10180.0</td>\n",
       "      <td>37.0</td>\n",
       "      <td>31.0</td>\n",
       "      <td>6.0</td>\n",
       "      <td>0.0</td>\n",
       "      <td>0.0</td>\n",
       "      <td>0.0</td>\n",
       "      <td>92.0</td>\n",
       "      <td>NaN</td>\n",
       "      <td>350.0</td>\n",
       "      <td>334.0</td>\n",
       "      <td>16.0</td>\n",
       "      <td>0.0</td>\n",
       "      <td>0.0</td>\n",
       "      <td>0.0</td>\n",
       "    </tr>\n",
       "    <tr>\n",
       "      <th>2020-01-01</th>\n",
       "      <td>999.0</td>\n",
       "      <td>10180.0</td>\n",
       "      <td>29.0</td>\n",
       "      <td>29.0</td>\n",
       "      <td>0.0</td>\n",
       "      <td>0.0</td>\n",
       "      <td>0.0</td>\n",
       "      <td>0.0</td>\n",
       "      <td>92.0</td>\n",
       "      <td>NaN</td>\n",
       "      <td>29.0</td>\n",
       "      <td>29.0</td>\n",
       "      <td>0.0</td>\n",
       "      <td>0.0</td>\n",
       "      <td>0.0</td>\n",
       "      <td>0.0</td>\n",
       "    </tr>\n",
       "  </tbody>\n",
       "</table>\n",
       "</div>"
      ],
      "text/plain": [
       "                          CSA     CBSA  Total  1 Unit  2 Units  3 and 4 Units  \\\n",
       "Location    date                                                                \n",
       "Abilene, TX 2019-11-01  999.0  10180.0   23.0    21.0      2.0            0.0   \n",
       "            2019-12-01  999.0  10180.0   37.0    31.0      6.0            0.0   \n",
       "            2020-01-01  999.0  10180.0   29.0    29.0      0.0            0.0   \n",
       "\n",
       "                        5 Units or More  \\\n",
       "Location    date                          \n",
       "Abilene, TX 2019-11-01              0.0   \n",
       "            2019-12-01              0.0   \n",
       "            2020-01-01              0.0   \n",
       "\n",
       "                        Num of Structures With 5 Units or More  \\\n",
       "Location    date                                                 \n",
       "Abilene, TX 2019-11-01                                     0.0   \n",
       "            2019-12-01                                     0.0   \n",
       "            2020-01-01                                     0.0   \n",
       "\n",
       "                        Monthly Coverage Percent*  Unnamed: 10  Total.1  \\\n",
       "Location    date                                                          \n",
       "Abilene, TX 2019-11-01                       92.0          NaN    313.0   \n",
       "            2019-12-01                       92.0          NaN    350.0   \n",
       "            2020-01-01                       92.0          NaN     29.0   \n",
       "\n",
       "                        1 Unit.1  2 Units.1  3 and 4 Units.1  \\\n",
       "Location    date                                               \n",
       "Abilene, TX 2019-11-01     303.0       10.0              0.0   \n",
       "            2019-12-01     334.0       16.0              0.0   \n",
       "            2020-01-01      29.0        0.0              0.0   \n",
       "\n",
       "                        5 Units or More.1  \\\n",
       "Location    date                            \n",
       "Abilene, TX 2019-11-01                0.0   \n",
       "            2019-12-01                0.0   \n",
       "            2020-01-01                0.0   \n",
       "\n",
       "                        Num of Structures With 5 Units or More.1  \n",
       "Location    date                                                  \n",
       "Abilene, TX 2019-11-01                                       0.0  \n",
       "            2019-12-01                                       0.0  \n",
       "            2020-01-01                                       0.0  "
      ]
     },
     "execution_count": 15,
     "metadata": {},
     "output_type": "execute_result"
    }
   ],
   "source": [
    "df_m.rename(columns = {'Name':'Location'}, inplace=True)\n",
    "df_m.Location = [str(x).strip() for x in df_m.Location]\n",
    "df_m = df_m.reset_index().set_index(['Location','date'])\n",
    "df_m = df_m.sort_index(axis=0, level='Location')\n",
    "df_m.head(3)"
   ]
  },
  {
   "cell_type": "markdown",
   "id": "scheduled-trauma",
   "metadata": {},
   "source": [
    "## 2.4 Show LA"
   ]
  },
  {
   "cell_type": "code",
   "execution_count": 104,
   "id": "damaged-image",
   "metadata": {},
   "outputs": [
    {
     "data": {
      "text/plain": [
       "Index(['CSA', 'CBSA', 'Total', '1 Unit', '2 Units', '3 and 4 Units',\n",
       "       '5 Units or More', 'Num of Structures With 5 Units or More',\n",
       "       'Monthly Coverage Percent*', 'Unnamed: 10', 'Total.1', '1 Unit.1',\n",
       "       '2 Units.1', '3 and 4 Units.1', '5 Units or More.1',\n",
       "       'Num of Structures With 5 Units or More.1'],\n",
       "      dtype='object')"
      ]
     },
     "execution_count": 104,
     "metadata": {},
     "output_type": "execute_result"
    }
   ],
   "source": [
    "df_m.columns"
   ]
  },
  {
   "cell_type": "markdown",
   "id": "heated-translator",
   "metadata": {},
   "source": [
    "### 2.4.1 Apartments"
   ]
  },
  {
   "cell_type": "code",
   "execution_count": 108,
   "id": "adjacent-direction",
   "metadata": {},
   "outputs": [
    {
     "data": {
      "text/plain": [
       "date\n",
       "2020-12-31    470.0\n",
       "2021-12-31    508.0\n",
       "Freq: A-DEC, Name: Num of Structures With 5 Units or More, dtype: float64"
      ]
     },
     "execution_count": 108,
     "metadata": {},
     "output_type": "execute_result"
    }
   ],
   "source": [
    "la = df_m.loc[idx['Los Angeles-Long Beach-Anaheim, CA',:], 'Num of Structures With 5 Units or More']\n",
    "la.index = la.index.droplevel(0)\n",
    "la['2020':].resample('A').sum()"
   ]
  },
  {
   "cell_type": "markdown",
   "id": "thirty-anthony",
   "metadata": {},
   "source": [
    "### 2.4.2 SFH"
   ]
  },
  {
   "cell_type": "code",
   "execution_count": 16,
   "id": "flush-thing",
   "metadata": {},
   "outputs": [
    {
     "data": {
      "text/plain": [
       "date\n",
       "2020-12-31     9437.0\n",
       "2021-12-31    10925.0\n",
       "Freq: A-DEC, Name: 1 Unit, dtype: float64"
      ]
     },
     "execution_count": 16,
     "metadata": {},
     "output_type": "execute_result"
    }
   ],
   "source": [
    "la = df_m.loc[idx['Los Angeles-Long Beach-Anaheim, CA',:], '1 Unit']\n",
    "la.index = la.index.droplevel(0)\n",
    "la['2020':].resample('A').sum()"
   ]
  },
  {
   "cell_type": "code",
   "execution_count": null,
   "id": "absent-trial",
   "metadata": {},
   "outputs": [],
   "source": []
  }
 ],
 "metadata": {
  "kernelspec": {
   "display_name": "Python 3",
   "language": "python",
   "name": "python3"
  },
  "language_info": {
   "codemirror_mode": {
    "name": "ipython",
    "version": 3
   },
   "file_extension": ".py",
   "mimetype": "text/x-python",
   "name": "python",
   "nbconvert_exporter": "python",
   "pygments_lexer": "ipython3",
   "version": "3.8.5"
  }
 },
 "nbformat": 4,
 "nbformat_minor": 5
}
