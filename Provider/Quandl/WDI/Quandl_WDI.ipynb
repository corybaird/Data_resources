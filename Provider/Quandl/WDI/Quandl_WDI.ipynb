{
 "cells": [
  {
   "cell_type": "markdown",
   "id": "appointed-pasta",
   "metadata": {},
   "source": [
    "# WDI data from Quandl"
   ]
  },
  {
   "cell_type": "code",
   "execution_count": 12,
   "id": "handled-people",
   "metadata": {},
   "outputs": [],
   "source": [
    "import quandl\n",
    "import pandas as pd\n",
    "idx = pd.IndexSlice"
   ]
  },
  {
   "cell_type": "markdown",
   "id": "universal-peter",
   "metadata": {},
   "source": [
    "## API key"
   ]
  },
  {
   "cell_type": "code",
   "execution_count": 15,
   "id": "tribal-salem",
   "metadata": {},
   "outputs": [],
   "source": [
    "api_file = open('api_key.txt')\n",
    "api_code = \"\".join(api_file.readlines())\n",
    "quandl.ApiConfig.api_key = api_code"
   ]
  },
  {
   "cell_type": "markdown",
   "id": "historic-satin",
   "metadata": {},
   "source": [
    "## Import Data"
   ]
  },
  {
   "cell_type": "markdown",
   "id": "developed-ozone",
   "metadata": {},
   "source": [
    "### Country code and indicators"
   ]
  },
  {
   "cell_type": "code",
   "execution_count": 16,
   "id": "suspended-sapphire",
   "metadata": {},
   "outputs": [],
   "source": [
    "country_codes = ['AUS', \n",
    "                 'BRA', \n",
    "                 'CAN', \n",
    "                 'CHN']\n",
    "series_ids = [\n",
    "    'BX.KLT.DINV.WD.GD.ZS',  #Foreign direct investment, net inflows (% of GDP)\n",
    "    'NE.CON.TOTL.ZS' , #Final consumption expenditure (% of GDP)\n",
    "    'NE.CON.TOTL.KN',#Final consumption expenditure (constant LCU)\n",
    "    'NE.GDI.FTOT.ZS' ,# Gross fixed capital formation (% of GDP)\n",
    "    'NE.GDI.FTOT.KN', #Gross fixed capital formation (constant LCU)\n",
    "    'NE.CON.GOVT.ZS', #General government final consumption expenditure (% of GDP)'\n",
    "    'NE.CON.GOVT.KN', # General government final consumption expenditure (constant LCU)\n",
    "    'NY.GDP.MKTP.CN', #GDP (current LCU)\n",
    "    'SP.DYN.LE00.MA.IN', #'Life expectancy at birth, male (years)'\n",
    "    'SP.DYN.LE00.IN', #Life expectancy at birth, total (years)\n",
    "    'SP.DYN.LE00.FE.IN', #Life expectancy at birth, female (years) \n",
    "]"
   ]
  },
  {
   "cell_type": "markdown",
   "id": "discrete-seller",
   "metadata": {},
   "source": [
    "### Download"
   ]
  },
  {
   "cell_type": "code",
   "execution_count": 17,
   "id": "union-indie",
   "metadata": {},
   "outputs": [
    {
     "data": {
      "text/html": [
       "<div>\n",
       "<style scoped>\n",
       "    .dataframe tbody tr th:only-of-type {\n",
       "        vertical-align: middle;\n",
       "    }\n",
       "\n",
       "    .dataframe tbody tr th {\n",
       "        vertical-align: top;\n",
       "    }\n",
       "\n",
       "    .dataframe thead th {\n",
       "        text-align: right;\n",
       "    }\n",
       "</style>\n",
       "<table border=\"1\" class=\"dataframe\">\n",
       "  <thead>\n",
       "    <tr style=\"text-align: right;\">\n",
       "      <th></th>\n",
       "      <th>series_id</th>\n",
       "      <th>country_code</th>\n",
       "      <th>country_name</th>\n",
       "      <th>year</th>\n",
       "      <th>value</th>\n",
       "    </tr>\n",
       "    <tr>\n",
       "      <th>None</th>\n",
       "      <th></th>\n",
       "      <th></th>\n",
       "      <th></th>\n",
       "      <th></th>\n",
       "      <th></th>\n",
       "    </tr>\n",
       "  </thead>\n",
       "  <tbody>\n",
       "    <tr>\n",
       "      <th>0</th>\n",
       "      <td>SP.DYN.LE00.MA.IN</td>\n",
       "      <td>CHN</td>\n",
       "      <td>China</td>\n",
       "      <td>2019</td>\n",
       "      <td>74.761</td>\n",
       "    </tr>\n",
       "    <tr>\n",
       "      <th>1</th>\n",
       "      <td>SP.DYN.LE00.MA.IN</td>\n",
       "      <td>CHN</td>\n",
       "      <td>China</td>\n",
       "      <td>2018</td>\n",
       "      <td>74.549</td>\n",
       "    </tr>\n",
       "    <tr>\n",
       "      <th>2</th>\n",
       "      <td>SP.DYN.LE00.MA.IN</td>\n",
       "      <td>CHN</td>\n",
       "      <td>China</td>\n",
       "      <td>2017</td>\n",
       "      <td>74.315</td>\n",
       "    </tr>\n",
       "  </tbody>\n",
       "</table>\n",
       "</div>"
      ],
      "text/plain": [
       "              series_id country_code country_name  year   value\n",
       "None                                                           \n",
       "0     SP.DYN.LE00.MA.IN          CHN        China  2019  74.761\n",
       "1     SP.DYN.LE00.MA.IN          CHN        China  2018  74.549\n",
       "2     SP.DYN.LE00.MA.IN          CHN        China  2017  74.315"
      ]
     },
     "execution_count": 17,
     "metadata": {},
     "output_type": "execute_result"
    }
   ],
   "source": [
    "df_wdi = quandl.get_table('WB/DATA', \n",
    "                      country_code = country_codes ,\n",
    "                      series_id = series_ids\n",
    "                     )\n",
    "df_wdi.head(3)"
   ]
  },
  {
   "cell_type": "code",
   "execution_count": 22,
   "id": "informed-brain",
   "metadata": {},
   "outputs": [
    {
     "data": {
      "text/html": [
       "<div>\n",
       "<style scoped>\n",
       "    .dataframe tbody tr th:only-of-type {\n",
       "        vertical-align: middle;\n",
       "    }\n",
       "\n",
       "    .dataframe tbody tr th {\n",
       "        vertical-align: top;\n",
       "    }\n",
       "\n",
       "    .dataframe thead th {\n",
       "        text-align: right;\n",
       "    }\n",
       "</style>\n",
       "<table border=\"1\" class=\"dataframe\">\n",
       "  <thead>\n",
       "    <tr style=\"text-align: right;\">\n",
       "      <th></th>\n",
       "      <th>series_id</th>\n",
       "      <th>BX.KLT.DINV.WD.GD.ZS</th>\n",
       "      <th>NE.CON.GOVT.KN</th>\n",
       "      <th>NE.CON.GOVT.ZS</th>\n",
       "      <th>NE.CON.TOTL.KN</th>\n",
       "      <th>NE.CON.TOTL.ZS</th>\n",
       "      <th>NE.GDI.FTOT.KN</th>\n",
       "      <th>NE.GDI.FTOT.ZS</th>\n",
       "      <th>NY.GDP.MKTP.CN</th>\n",
       "      <th>SP.DYN.LE00.FE.IN</th>\n",
       "      <th>SP.DYN.LE00.IN</th>\n",
       "      <th>SP.DYN.LE00.MA.IN</th>\n",
       "    </tr>\n",
       "    <tr>\n",
       "      <th>country_code</th>\n",
       "      <th>year</th>\n",
       "      <th></th>\n",
       "      <th></th>\n",
       "      <th></th>\n",
       "      <th></th>\n",
       "      <th></th>\n",
       "      <th></th>\n",
       "      <th></th>\n",
       "      <th></th>\n",
       "      <th></th>\n",
       "      <th></th>\n",
       "      <th></th>\n",
       "    </tr>\n",
       "  </thead>\n",
       "  <tbody>\n",
       "    <tr>\n",
       "      <th rowspan=\"3\" valign=\"top\">AUS</th>\n",
       "      <th>1960</th>\n",
       "      <td>NaN</td>\n",
       "      <td>4.100800e+10</td>\n",
       "      <td>11.189358</td>\n",
       "      <td>1.856750e+11</td>\n",
       "      <td>68.821476</td>\n",
       "      <td>4.295000e+10</td>\n",
       "      <td>30.263633</td>\n",
       "      <td>1.661400e+10</td>\n",
       "      <td>74.0</td>\n",
       "      <td>70.817073</td>\n",
       "      <td>67.785714</td>\n",
       "    </tr>\n",
       "    <tr>\n",
       "      <th>1961</th>\n",
       "      <td>NaN</td>\n",
       "      <td>4.251300e+10</td>\n",
       "      <td>11.425320</td>\n",
       "      <td>1.902260e+11</td>\n",
       "      <td>69.371266</td>\n",
       "      <td>4.538600e+10</td>\n",
       "      <td>30.287340</td>\n",
       "      <td>1.757500e+10</td>\n",
       "      <td>74.2</td>\n",
       "      <td>70.973171</td>\n",
       "      <td>67.900000</td>\n",
       "    </tr>\n",
       "    <tr>\n",
       "      <th>1962</th>\n",
       "      <td>NaN</td>\n",
       "      <td>4.415700e+10</td>\n",
       "      <td>12.074878</td>\n",
       "      <td>1.954220e+11</td>\n",
       "      <td>71.088875</td>\n",
       "      <td>4.619300e+10</td>\n",
       "      <td>29.788071</td>\n",
       "      <td>1.778900e+10</td>\n",
       "      <td>74.2</td>\n",
       "      <td>70.942439</td>\n",
       "      <td>67.840000</td>\n",
       "    </tr>\n",
       "  </tbody>\n",
       "</table>\n",
       "</div>"
      ],
      "text/plain": [
       "series_id          BX.KLT.DINV.WD.GD.ZS  NE.CON.GOVT.KN  NE.CON.GOVT.ZS  \\\n",
       "country_code year                                                         \n",
       "AUS          1960                   NaN    4.100800e+10       11.189358   \n",
       "             1961                   NaN    4.251300e+10       11.425320   \n",
       "             1962                   NaN    4.415700e+10       12.074878   \n",
       "\n",
       "series_id          NE.CON.TOTL.KN  NE.CON.TOTL.ZS  NE.GDI.FTOT.KN  \\\n",
       "country_code year                                                   \n",
       "AUS          1960    1.856750e+11       68.821476    4.295000e+10   \n",
       "             1961    1.902260e+11       69.371266    4.538600e+10   \n",
       "             1962    1.954220e+11       71.088875    4.619300e+10   \n",
       "\n",
       "series_id          NE.GDI.FTOT.ZS  NY.GDP.MKTP.CN  SP.DYN.LE00.FE.IN  \\\n",
       "country_code year                                                      \n",
       "AUS          1960       30.263633    1.661400e+10               74.0   \n",
       "             1961       30.287340    1.757500e+10               74.2   \n",
       "             1962       29.788071    1.778900e+10               74.2   \n",
       "\n",
       "series_id          SP.DYN.LE00.IN  SP.DYN.LE00.MA.IN  \n",
       "country_code year                                     \n",
       "AUS          1960       70.817073          67.785714  \n",
       "             1961       70.973171          67.900000  \n",
       "             1962       70.942439          67.840000  "
      ]
     },
     "execution_count": 22,
     "metadata": {},
     "output_type": "execute_result"
    }
   ],
   "source": [
    "df_wdi = df_wdi.drop(['country_name'],\n",
    "            axis=1).pivot_table(index = ['country_code','year'], \n",
    "                                columns='series_id', \n",
    "                                values='value')\n",
    "df_wdi.head(3)"
   ]
  },
  {
   "cell_type": "code",
   "execution_count": null,
   "id": "virgin-appraisal",
   "metadata": {},
   "outputs": [],
   "source": []
  }
 ],
 "metadata": {
  "kernelspec": {
   "display_name": "Python 3",
   "language": "python",
   "name": "python3"
  },
  "language_info": {
   "codemirror_mode": {
    "name": "ipython",
    "version": 3
   },
   "file_extension": ".py",
   "mimetype": "text/x-python",
   "name": "python",
   "nbconvert_exporter": "python",
   "pygments_lexer": "ipython3",
   "version": "3.8.5"
  }
 },
 "nbformat": 4,
 "nbformat_minor": 5
}
