{
 "cells": [
  {
   "cell_type": "markdown",
   "id": "dbd6e847",
   "metadata": {},
   "source": [
    "# EDD Data \n",
    "\n",
    "## QCEW\n",
    "https://data.edd.ca.gov/browse?q=qcew&sortBy=relevance\n",
    "https://dev.socrata.com/foundry/data.edd.ca.gov/fisq-v939\n",
    "https://dev.socrata.com/consumers/getting-started.html"
   ]
  },
  {
   "cell_type": "code",
   "execution_count": 2,
   "id": "4b67f5d9",
   "metadata": {},
   "outputs": [],
   "source": [
    "import pandas as pd\n",
    "import requests\n",
    "from sodapy import Socrata"
   ]
  },
  {
   "cell_type": "code",
   "execution_count": 4,
   "id": "competent-thesaurus",
   "metadata": {},
   "outputs": [],
   "source": [
    "api_file = open('api_key.txt')\n",
    "api_code = \"\".join(api_file.readlines())"
   ]
  },
  {
   "cell_type": "code",
   "execution_count": 5,
   "id": "45a59fa8",
   "metadata": {},
   "outputs": [],
   "source": [
    "client = Socrata('data.edd.ca.gov',\n",
    "                  api_code,\n",
    "                )"
   ]
  },
  {
   "cell_type": "code",
   "execution_count": 51,
   "id": "2116eb33",
   "metadata": {},
   "outputs": [
    {
     "data": {
      "text/plain": [
       "['Area Type',\n",
       " 'Area Name',\n",
       " 'Year',\n",
       " 'Quarter',\n",
       " 'Ownership',\n",
       " 'NAICS Level',\n",
       " 'NAICS Code',\n",
       " 'Industry Name',\n",
       " 'Establishments',\n",
       " 'Average Monthly Employment',\n",
       " '1st Month Emp',\n",
       " '2nd Month Emp',\n",
       " '3rd Month Emp',\n",
       " 'Total Wages (All Workers)',\n",
       " 'Average Weekly Wages']"
      ]
     },
     "execution_count": 51,
     "metadata": {},
     "output_type": "execute_result"
    }
   ],
   "source": [
    "metadata = client.get_metadata('fisq-v939')\n",
    "[x['name'] for x in metadata['columns']]"
   ]
  },
  {
   "cell_type": "code",
   "execution_count": 57,
   "id": "bizarre-relief",
   "metadata": {},
   "outputs": [
    {
     "data": {
      "text/plain": [
       "{'id': 431568240,\n",
       " 'name': 'Area Name',\n",
       " 'dataTypeName': 'text',\n",
       " 'description': 'The name of the area chosen from the Area Type.',\n",
       " 'fieldName': 'area_name',\n",
       " 'position': 2,\n",
       " 'renderTypeName': 'text',\n",
       " 'tableColumnId': 35302828,\n",
       " 'width': 123,\n",
       " 'cachedContents': {'largest': 'Yuba County',\n",
       "  'non_null': '4402677',\n",
       "  'null': '0',\n",
       "  'top': [{'item': 'United States', 'count': '330064'},\n",
       "   {'item': 'California', 'count': '243687'},\n",
       "   {'item': 'Los Angeles County', 'count': '191655'},\n",
       "   {'item': 'Orange County', 'count': '157574'},\n",
       "   {'item': 'San Diego County', 'count': '156614'},\n",
       "   {'item': 'San Bernardino County', 'count': '139695'},\n",
       "   {'item': 'Alameda County', 'count': '135747'},\n",
       "   {'item': 'Riverside County', 'count': '132026'},\n",
       "   {'item': 'Santa Clara County', 'count': '128821'},\n",
       "   {'item': 'Sacramento County', 'count': '123605'},\n",
       "   {'item': 'Ventura County', 'count': '113263'},\n",
       "   {'item': 'San Francisco County', 'count': '111652'},\n",
       "   {'item': 'Fresno County', 'count': '108969'},\n",
       "   {'item': 'Contra Costa County', 'count': '105534'},\n",
       "   {'item': 'San Mateo County', 'count': '105215'},\n",
       "   {'item': 'Sonoma County', 'count': '102049'},\n",
       "   {'item': 'Kern County', 'count': '99486'},\n",
       "   {'item': 'Santa Barbara County', 'count': '97638'},\n",
       "   {'item': 'San Joaquin County', 'count': '95208'},\n",
       "   {'item': 'Monterey County', 'count': '87249'}],\n",
       "  'smallest': 'Alameda County',\n",
       "  'count': '4402677',\n",
       "  'cardinality': '60'},\n",
       " 'format': {'displayStyle': 'plain', 'align': 'left'}}"
      ]
     },
     "execution_count": 57,
     "metadata": {},
     "output_type": "execute_result"
    }
   ],
   "source": [
    "meta_amount = [x for x in metadata['columns'] if x['name'] == 'Area Name'][0]\n",
    "meta_amount"
   ]
  },
  {
   "cell_type": "code",
   "execution_count": 58,
   "id": "figured-queens",
   "metadata": {},
   "outputs": [
    {
     "data": {
      "text/plain": [
       "['Area Type',\n",
       " 'Area Name',\n",
       " 'Year',\n",
       " 'Quarter',\n",
       " 'Ownership',\n",
       " 'NAICS Level',\n",
       " 'NAICS Code',\n",
       " 'Industry Name',\n",
       " 'Establishments',\n",
       " 'Average Monthly Employment',\n",
       " '1st Month Emp',\n",
       " '2nd Month Emp',\n",
       " '3rd Month Emp',\n",
       " 'Total Wages (All Workers)',\n",
       " 'Average Weekly Wages']"
      ]
     },
     "execution_count": 58,
     "metadata": {},
     "output_type": "execute_result"
    }
   ],
   "source": [
    "[x['name'] for x in metadata['columns']]"
   ]
  },
  {
   "cell_type": "code",
   "execution_count": 91,
   "id": "together-institution",
   "metadata": {},
   "outputs": [
    {
     "data": {
      "text/html": [
       "<div>\n",
       "<style scoped>\n",
       "    .dataframe tbody tr th:only-of-type {\n",
       "        vertical-align: middle;\n",
       "    }\n",
       "\n",
       "    .dataframe tbody tr th {\n",
       "        vertical-align: top;\n",
       "    }\n",
       "\n",
       "    .dataframe thead th {\n",
       "        text-align: right;\n",
       "    }\n",
       "</style>\n",
       "<table border=\"1\" class=\"dataframe\">\n",
       "  <thead>\n",
       "    <tr style=\"text-align: right;\">\n",
       "      <th></th>\n",
       "      <th>area_type</th>\n",
       "      <th>area_name</th>\n",
       "      <th>year</th>\n",
       "      <th>time_period</th>\n",
       "      <th>ownership</th>\n",
       "      <th>naics_code_level</th>\n",
       "      <th>naics_code</th>\n",
       "      <th>industry_name</th>\n",
       "      <th>establishments</th>\n",
       "      <th>avg_employment</th>\n",
       "      <th>_1st_month_emp</th>\n",
       "      <th>_2nd_month_emp</th>\n",
       "      <th>_3rd_month_emp</th>\n",
       "      <th>total_wages_all_workers</th>\n",
       "      <th>avg_weekly_wages</th>\n",
       "    </tr>\n",
       "  </thead>\n",
       "  <tbody>\n",
       "    <tr>\n",
       "      <th>0</th>\n",
       "      <td>County</td>\n",
       "      <td>Los Angeles County</td>\n",
       "      <td>2004</td>\n",
       "      <td>1st Qtr</td>\n",
       "      <td>Private</td>\n",
       "      <td>6</td>\n",
       "      <td>331210</td>\n",
       "      <td>Purchased Iron and Steel Pipe and Tube</td>\n",
       "      <td>10</td>\n",
       "      <td>646</td>\n",
       "      <td>647</td>\n",
       "      <td>647</td>\n",
       "      <td>644</td>\n",
       "      <td>7426451</td>\n",
       "      <td>884</td>\n",
       "    </tr>\n",
       "    <tr>\n",
       "      <th>1</th>\n",
       "      <td>County</td>\n",
       "      <td>Los Angeles County</td>\n",
       "      <td>2004</td>\n",
       "      <td>1st Qtr</td>\n",
       "      <td>Private</td>\n",
       "      <td>4</td>\n",
       "      <td>3313</td>\n",
       "      <td>Alumina and Aluminum Production</td>\n",
       "      <td>36</td>\n",
       "      <td>1632</td>\n",
       "      <td>1626</td>\n",
       "      <td>1644</td>\n",
       "      <td>1627</td>\n",
       "      <td>16666151</td>\n",
       "      <td>785</td>\n",
       "    </tr>\n",
       "  </tbody>\n",
       "</table>\n",
       "</div>"
      ],
      "text/plain": [
       "  area_type           area_name  year time_period ownership naics_code_level  \\\n",
       "0    County  Los Angeles County  2004     1st Qtr   Private                6   \n",
       "1    County  Los Angeles County  2004     1st Qtr   Private                4   \n",
       "\n",
       "  naics_code                           industry_name establishments  \\\n",
       "0     331210  Purchased Iron and Steel Pipe and Tube             10   \n",
       "1       3313         Alumina and Aluminum Production             36   \n",
       "\n",
       "  avg_employment _1st_month_emp _2nd_month_emp _3rd_month_emp  \\\n",
       "0            646            647            647            644   \n",
       "1           1632           1626           1644           1627   \n",
       "\n",
       "  total_wages_all_workers avg_weekly_wages  \n",
       "0                 7426451              884  \n",
       "1                16666151              785  "
      ]
     },
     "execution_count": 91,
     "metadata": {},
     "output_type": "execute_result"
    }
   ],
   "source": [
    "df =pd.DataFrame.from_records(results)\n",
    "df.head(2)"
   ]
  },
  {
   "cell_type": "code",
   "execution_count": 100,
   "id": "bigger-reputation",
   "metadata": {},
   "outputs": [
    {
     "data": {
      "text/html": [
       "<div>\n",
       "<style scoped>\n",
       "    .dataframe tbody tr th:only-of-type {\n",
       "        vertical-align: middle;\n",
       "    }\n",
       "\n",
       "    .dataframe tbody tr th {\n",
       "        vertical-align: top;\n",
       "    }\n",
       "\n",
       "    .dataframe thead th {\n",
       "        text-align: right;\n",
       "    }\n",
       "</style>\n",
       "<table border=\"1\" class=\"dataframe\">\n",
       "  <thead>\n",
       "    <tr style=\"text-align: right;\">\n",
       "      <th></th>\n",
       "      <th>area_type</th>\n",
       "      <th>area_name</th>\n",
       "      <th>year</th>\n",
       "      <th>time_period</th>\n",
       "      <th>ownership</th>\n",
       "      <th>naics_code_level</th>\n",
       "      <th>naics_code</th>\n",
       "      <th>industry_name</th>\n",
       "      <th>establishments</th>\n",
       "      <th>avg_employment</th>\n",
       "      <th>_1st_month_emp</th>\n",
       "      <th>_2nd_month_emp</th>\n",
       "      <th>_3rd_month_emp</th>\n",
       "      <th>total_wages_all_workers</th>\n",
       "      <th>avg_weekly_wages</th>\n",
       "    </tr>\n",
       "  </thead>\n",
       "  <tbody>\n",
       "    <tr>\n",
       "      <th>0</th>\n",
       "      <td>County</td>\n",
       "      <td>Los Angeles County</td>\n",
       "      <td>2011</td>\n",
       "      <td>1st Qtr</td>\n",
       "      <td>Federal Government</td>\n",
       "      <td>4</td>\n",
       "      <td>5222</td>\n",
       "      <td>Nondepository Credit Intermediation</td>\n",
       "      <td>2</td>\n",
       "      <td>46</td>\n",
       "      <td>46</td>\n",
       "      <td>45</td>\n",
       "      <td>47</td>\n",
       "      <td>1020408</td>\n",
       "      <td>1706</td>\n",
       "    </tr>\n",
       "    <tr>\n",
       "      <th>1</th>\n",
       "      <td>County</td>\n",
       "      <td>Los Angeles County</td>\n",
       "      <td>2011</td>\n",
       "      <td>1st Qtr</td>\n",
       "      <td>Federal Government</td>\n",
       "      <td>4</td>\n",
       "      <td>5413</td>\n",
       "      <td>Architectural and Engineering Services</td>\n",
       "      <td>4</td>\n",
       "      <td>549</td>\n",
       "      <td>542</td>\n",
       "      <td>551</td>\n",
       "      <td>556</td>\n",
       "      <td>11155956</td>\n",
       "      <td>1561</td>\n",
       "    </tr>\n",
       "  </tbody>\n",
       "</table>\n",
       "</div>"
      ],
      "text/plain": [
       "  area_type           area_name  year time_period           ownership  \\\n",
       "0    County  Los Angeles County  2011     1st Qtr  Federal Government   \n",
       "1    County  Los Angeles County  2011     1st Qtr  Federal Government   \n",
       "\n",
       "  naics_code_level naics_code                           industry_name  \\\n",
       "0                4       5222     Nondepository Credit Intermediation   \n",
       "1                4       5413  Architectural and Engineering Services   \n",
       "\n",
       "  establishments avg_employment _1st_month_emp _2nd_month_emp _3rd_month_emp  \\\n",
       "0              2             46             46             45             47   \n",
       "1              4            549            542            551            556   \n",
       "\n",
       "  total_wages_all_workers avg_weekly_wages  \n",
       "0                 1020408             1706  \n",
       "1                11155956             1561  "
      ]
     },
     "execution_count": 100,
     "metadata": {},
     "output_type": "execute_result"
    }
   ],
   "source": [
    "#results = client.get('fisq-v939', where= \"area_name='Los Angeles County'\")\n",
    "#results = client.get('fisq-v939', where= \"ownership='Private'\")\n",
    "results = client.get('fisq-v939',\n",
    "                     where=\"year>2010 and time_period!='Annual' and area_name='Los Angeles County'\",\n",
    "                     limit =200000)\n",
    "df =pd.DataFrame.from_records(results)\n",
    "df.head(2)"
   ]
  }
 ],
 "metadata": {
  "kernelspec": {
   "display_name": "Python 3",
   "language": "python",
   "name": "python3"
  },
  "language_info": {
   "codemirror_mode": {
    "name": "ipython",
    "version": 3
   },
   "file_extension": ".py",
   "mimetype": "text/x-python",
   "name": "python",
   "nbconvert_exporter": "python",
   "pygments_lexer": "ipython3",
   "version": "3.8.5"
  }
 },
 "nbformat": 4,
 "nbformat_minor": 5
}
