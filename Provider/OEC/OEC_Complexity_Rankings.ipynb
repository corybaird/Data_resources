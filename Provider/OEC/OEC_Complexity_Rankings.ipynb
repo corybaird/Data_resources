{
 "cells": [
  {
   "cell_type": "markdown",
   "id": "identical-sharing",
   "metadata": {},
   "source": [
    "# Observatory of Economic Complexity (OEC) \n",
    "\n"
   ]
  },
  {
   "cell_type": "code",
   "execution_count": 1,
   "id": "champion-communist",
   "metadata": {},
   "outputs": [],
   "source": [
    "import requests\n",
    "import json\n",
    "import pandas as pd"
   ]
  },
  {
   "cell_type": "markdown",
   "id": "choice-nursing",
   "metadata": {},
   "source": [
    "## [Rankings](https://oec.world/en/rankings/eci/hs6/hs07?tab=rank)"
   ]
  },
  {
   "cell_type": "code",
   "execution_count": 2,
   "id": "widespread-hollow",
   "metadata": {},
   "outputs": [
    {
     "data": {
      "text/plain": [
       "<Response [200]>"
      ]
     },
     "execution_count": 2,
     "metadata": {},
     "output_type": "execute_result"
    }
   ],
   "source": [
    "url = 'https://oec.world/olap-proxy/data.jsonrecords?cube=complexity_eci_a_hs07_hs6&drilldowns=Country,ECI+Rank,Year&measures=ECI&parents=true&sparse=false'\n",
    "r = requests.get(url)\n",
    "r"
   ]
  },
  {
   "cell_type": "code",
   "execution_count": 3,
   "id": "portuguese-setting",
   "metadata": {},
   "outputs": [
    {
     "data": {
      "text/html": [
       "<div>\n",
       "<style scoped>\n",
       "    .dataframe tbody tr th:only-of-type {\n",
       "        vertical-align: middle;\n",
       "    }\n",
       "\n",
       "    .dataframe tbody tr th {\n",
       "        vertical-align: top;\n",
       "    }\n",
       "\n",
       "    .dataframe thead th {\n",
       "        text-align: right;\n",
       "    }\n",
       "</style>\n",
       "<table border=\"1\" class=\"dataframe\">\n",
       "  <thead>\n",
       "    <tr style=\"text-align: right;\">\n",
       "      <th></th>\n",
       "      <th>Continent ID</th>\n",
       "      <th>Continent</th>\n",
       "      <th>Country ID</th>\n",
       "      <th>Country</th>\n",
       "      <th>ECI Rank</th>\n",
       "      <th>Year</th>\n",
       "      <th>ECI</th>\n",
       "    </tr>\n",
       "  </thead>\n",
       "  <tbody>\n",
       "    <tr>\n",
       "      <th>0</th>\n",
       "      <td>af</td>\n",
       "      <td>Africa</td>\n",
       "      <td>afago</td>\n",
       "      <td>Angola</td>\n",
       "      <td>129</td>\n",
       "      <td>2011</td>\n",
       "      <td>-1.507919</td>\n",
       "    </tr>\n",
       "    <tr>\n",
       "      <th>1</th>\n",
       "      <td>af</td>\n",
       "      <td>Africa</td>\n",
       "      <td>afago</td>\n",
       "      <td>Angola</td>\n",
       "      <td>130</td>\n",
       "      <td>2009</td>\n",
       "      <td>-1.732945</td>\n",
       "    </tr>\n",
       "  </tbody>\n",
       "</table>\n",
       "</div>"
      ],
      "text/plain": [
       "  Continent ID Continent Country ID Country  ECI Rank  Year       ECI\n",
       "0           af    Africa      afago  Angola       129  2011 -1.507919\n",
       "1           af    Africa      afago  Angola       130  2009 -1.732945"
      ]
     },
     "execution_count": 3,
     "metadata": {},
     "output_type": "execute_result"
    }
   ],
   "source": [
    "data = r.json()['data']\n",
    "df_econcomplex = pd.DataFrame(data)\n",
    "df_econcomplex.head(2)"
   ]
  }
 ],
 "metadata": {
  "kernelspec": {
   "display_name": "Python 3",
   "language": "python",
   "name": "python3"
  },
  "language_info": {
   "codemirror_mode": {
    "name": "ipython",
    "version": 3
   },
   "file_extension": ".py",
   "mimetype": "text/x-python",
   "name": "python",
   "nbconvert_exporter": "python",
   "pygments_lexer": "ipython3",
   "version": "3.8.5"
  }
 },
 "nbformat": 4,
 "nbformat_minor": 5
}
