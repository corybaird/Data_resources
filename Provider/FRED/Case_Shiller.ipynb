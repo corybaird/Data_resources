{
 "cells": [
  {
   "cell_type": "markdown",
   "id": "designing-speech",
   "metadata": {},
   "source": [
    "# FRED data"
   ]
  },
  {
   "cell_type": "markdown",
   "id": "honey-doubt",
   "metadata": {},
   "source": [
    "## A.1 Libraries"
   ]
  },
  {
   "cell_type": "code",
   "execution_count": 1,
   "id": "reserved-stable",
   "metadata": {},
   "outputs": [],
   "source": [
    "from fredapi import Fred\n",
    "import pandas as pd\n",
    "import os\n",
    "import matplotlib.pyplot as plt\n",
    "import numpy as np\n",
    "import datetime as dt\n",
    "idx = pd.IndexSlice"
   ]
  },
  {
   "cell_type": "markdown",
   "id": "atlantic-merchant",
   "metadata": {},
   "source": [
    "## A.2 API Key"
   ]
  },
  {
   "cell_type": "code",
   "execution_count": 2,
   "id": "dominant-galaxy",
   "metadata": {},
   "outputs": [],
   "source": [
    "api_file = open('api_key.txt')\n",
    "api_code = \"\".join(api_file.readlines())\n",
    "fred = Fred(api_key=api_code)"
   ]
  },
  {
   "cell_type": "markdown",
   "id": "bronze-jurisdiction",
   "metadata": {},
   "source": [
    "# 1. Home prices\n",
    "\n",
    "## 1.1 S&P Case-Shiller U.S. National Home Price\n",
    "\n",
    "- Index Jan 2000=100,\n",
    "- Not Seasonally Adjusted "
   ]
  },
  {
   "cell_type": "code",
   "execution_count": 5,
   "id": "mounted-mixture",
   "metadata": {},
   "outputs": [
    {
     "data": {
      "text/plain": [
       "1987-01-01    63.732\n",
       "1987-02-01    64.132\n",
       "1987-03-01    64.468\n",
       "dtype: float64"
      ]
     },
     "execution_count": 5,
     "metadata": {},
     "output_type": "execute_result"
    }
   ],
   "source": [
    "df_cs = fred.get_series('CSUSHPINSA')\n",
    "df_cs.dropna(inplace=True)\n",
    "df_cs.head(3)"
   ]
  },
  {
   "cell_type": "markdown",
   "id": "applicable-conviction",
   "metadata": {},
   "source": [
    "## 1.2 CA\n",
    "### 1.2.1 S&P/Case-Shiller CA-Los Angeles Home Price Index\n"
   ]
  },
  {
   "cell_type": "code",
   "execution_count": 7,
   "id": "characteristic-innocent",
   "metadata": {},
   "outputs": [
    {
     "data": {
      "text/plain": [
       "1987-01-01    59.426224\n",
       "1987-02-01    59.894861\n",
       "1987-03-01    60.401073\n",
       "dtype: float64"
      ]
     },
     "execution_count": 7,
     "metadata": {},
     "output_type": "execute_result"
    }
   ],
   "source": [
    "df_cs_la = fred.get_series('LXXRSA')\n",
    "df_cs_la.dropna(inplace=True)\n",
    "df_cs_la.head(3)"
   ]
  },
  {
   "cell_type": "markdown",
   "id": "charming-story",
   "metadata": {},
   "source": [
    "### 1.2.2 S&P/Case-Shiller CA-San Francisco Home Price Index\n"
   ]
  },
  {
   "cell_type": "code",
   "execution_count": 6,
   "id": "found-investor",
   "metadata": {},
   "outputs": [
    {
     "data": {
      "text/plain": [
       "1987-01-01    46.955792\n",
       "1987-02-01    47.302675\n",
       "1987-03-01    47.840213\n",
       "dtype: float64"
      ]
     },
     "execution_count": 6,
     "metadata": {},
     "output_type": "execute_result"
    }
   ],
   "source": [
    "df_cs_sf = fred.get_series('SFXRSA')\n",
    "df_cs_sf.dropna(inplace=True)\n",
    "df_cs_sf.head(3)"
   ]
  },
  {
   "cell_type": "code",
   "execution_count": null,
   "id": "final-popularity",
   "metadata": {},
   "outputs": [],
   "source": []
  }
 ],
 "metadata": {
  "kernelspec": {
   "display_name": "Python 3",
   "language": "python",
   "name": "python3"
  },
  "language_info": {
   "codemirror_mode": {
    "name": "ipython",
    "version": 3
   },
   "file_extension": ".py",
   "mimetype": "text/x-python",
   "name": "python",
   "nbconvert_exporter": "python",
   "pygments_lexer": "ipython3",
   "version": "3.8.5"
  }
 },
 "nbformat": 4,
 "nbformat_minor": 5
}
