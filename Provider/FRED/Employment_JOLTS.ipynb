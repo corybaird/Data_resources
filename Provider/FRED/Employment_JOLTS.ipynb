{
 "cells": [
  {
   "cell_type": "markdown",
   "id": "designing-speech",
   "metadata": {},
   "source": [
    "# FRED data"
   ]
  },
  {
   "cell_type": "markdown",
   "id": "honey-doubt",
   "metadata": {},
   "source": [
    "## A.1 Libraries"
   ]
  },
  {
   "cell_type": "code",
   "execution_count": 1,
   "id": "reserved-stable",
   "metadata": {},
   "outputs": [],
   "source": [
    "from fredapi import Fred\n",
    "import pandas as pd\n",
    "import os\n",
    "import matplotlib.pyplot as plt\n",
    "import numpy as np\n",
    "import datetime as dt\n",
    "idx = pd.IndexSlice"
   ]
  },
  {
   "cell_type": "markdown",
   "id": "atlantic-merchant",
   "metadata": {},
   "source": [
    "## A.2 API Key"
   ]
  },
  {
   "cell_type": "code",
   "execution_count": 2,
   "id": "dominant-galaxy",
   "metadata": {},
   "outputs": [],
   "source": [
    "api_file = open('api_key.txt')\n",
    "api_code = \"\".join(api_file.readlines())\n",
    "fred = Fred(api_key=api_code)"
   ]
  },
  {
   "cell_type": "markdown",
   "id": "local-chrome",
   "metadata": {},
   "source": [
    "## A.3 Functions"
   ]
  },
  {
   "cell_type": "code",
   "execution_count": 3,
   "id": "fundamental-restoration",
   "metadata": {},
   "outputs": [],
   "source": [
    "def calc_yoy(df):\n",
    "    df = df.pct_change(12).multiply(100).dropna()\n",
    "    return df"
   ]
  },
  {
   "cell_type": "markdown",
   "id": "norwegian-compound",
   "metadata": {},
   "source": [
    "# 1. Employment"
   ]
  },
  {
   "cell_type": "markdown",
   "id": "refined-pharmacy",
   "metadata": {},
   "source": [
    "## 1.1 Total nonfarm\n",
    "### 1.1.1 National\n",
    "- Thousands of Persons,\n",
    "- Seasonally Adjusted"
   ]
  },
  {
   "cell_type": "code",
   "execution_count": 9,
   "id": "tamil-shelf",
   "metadata": {},
   "outputs": [
    {
     "data": {
      "text/plain": [
       "2021-11-01    148.652\n",
       "2021-12-01    149.162\n",
       "2022-01-01    149.629\n",
       "dtype: float64"
      ]
     },
     "execution_count": 9,
     "metadata": {},
     "output_type": "execute_result"
    }
   ],
   "source": [
    "df_tnf = fred.get_series('PAYEMS')\n",
    "df_tnf = df_tnf.divide(1000)\n",
    "df_tnf.tail(3)"
   ]
  },
  {
   "cell_type": "markdown",
   "id": "endless-pickup",
   "metadata": {},
   "source": [
    "#### 3.1.1.1 Quarterly change"
   ]
  },
  {
   "cell_type": "code",
   "execution_count": 5,
   "id": "taken-papua",
   "metadata": {},
   "outputs": [
    {
     "data": {
      "text/plain": [
       "2020-04   -20.493\n",
       "1945-09    -1.959\n",
       "2020-03    -1.498\n",
       "1949-10    -0.838\n",
       "2009-03    -0.800\n",
       "dtype: float64"
      ]
     },
     "execution_count": 5,
     "metadata": {},
     "output_type": "execute_result"
    }
   ],
   "source": [
    "def quart_raw(df, top_num):\n",
    "    df = df.diff(1).dropna()\n",
    "    df = df.sort_values(ascending=True)\n",
    "    df = df.head(top_num)\n",
    "    df.index = df.index.strftime('%Y-%m')\n",
    "    return df\n",
    "fig_tnf_bar = quart_raw(df_tnf, 5)\n",
    "fig_tnf_bar"
   ]
  },
  {
   "cell_type": "markdown",
   "id": "clear-skiing",
   "metadata": {},
   "source": [
    "#### 3.1.1.2 Compare to 2007"
   ]
  },
  {
   "cell_type": "code",
   "execution_count": 10,
   "id": "similar-float",
   "metadata": {},
   "outputs": [
    {
     "data": {
      "text/plain": [
       "<AxesSubplot:>"
      ]
     },
     "execution_count": 10,
     "metadata": {},
     "output_type": "execute_result"
    },
    {
     "data": {
      "image/png": "[encoded data removed]",
      "text/plain": [
       "<Figure size 432x288 with 1 Axes>"
      ]
     },
     "metadata": {
      "needs_background": "light"
     },
     "output_type": "display_data"
    }
   ],
   "source": [
    "def compare(df, num_periods):\n",
    "    df_2008 = df.loc['2008':].head(num_periods)\n",
    "    df_2008 = df_2008.transform(lambda x: x/x[0]).multiply(100)\n",
    "    df_2008.index = range(1, len(df_2008)+1)\n",
    "    df_2020 = df.loc['2020':].head(num_periods)\n",
    "    df_2020 = df_2020.transform(lambda x: x/x[0]).multiply(100)\n",
    "    df_2020.index = range(1, len(df_2020)+1)\n",
    "    df = pd.concat([df_2008, df_2020], axis=1).dropna()\n",
    "    df.columns = ['2008', '2020']\n",
    "    return df\n",
    "    \n",
    "compare(df_tnf, 48).plot()"
   ]
  },
  {
   "cell_type": "markdown",
   "id": "prescribed-division",
   "metadata": {},
   "source": [
    "### 1.1.2 All Employees: Total Nonfarm in California"
   ]
  },
  {
   "cell_type": "code",
   "execution_count": 11,
   "id": "champion-association",
   "metadata": {},
   "outputs": [
    {
     "data": {
      "text/plain": [
       "2021-11-01    148652.0\n",
       "2021-12-01    149162.0\n",
       "2022-01-01    149629.0\n",
       "dtype: float64"
      ]
     },
     "execution_count": 11,
     "metadata": {},
     "output_type": "execute_result"
    }
   ],
   "source": [
    "df_tnf_ca = fred.get_series('PAYEMS')\n",
    "df_tnf_ca.tail(3)"
   ]
  },
  {
   "cell_type": "markdown",
   "id": "tight-stretch",
   "metadata": {},
   "source": [
    "# 2. JOLTS"
   ]
  },
  {
   "cell_type": "markdown",
   "id": "streaming-alaska",
   "metadata": {},
   "source": [
    "## 2.1 Openings"
   ]
  },
  {
   "cell_type": "code",
   "execution_count": 12,
   "id": "composite-charleston",
   "metadata": {},
   "outputs": [
    {
     "data": {
      "text/plain": [
       "2021-11-01    10775.0\n",
       "2021-12-01    10925.0\n",
       "dtype: float64"
      ]
     },
     "execution_count": 12,
     "metadata": {},
     "output_type": "execute_result"
    }
   ],
   "source": [
    "jolts_open = fred.get_series('JTSJOL')\n",
    "jolts_open.tail(2)"
   ]
  },
  {
   "cell_type": "markdown",
   "id": "further-trash",
   "metadata": {},
   "source": [
    "## 2.2 Hires"
   ]
  },
  {
   "cell_type": "code",
   "execution_count": 13,
   "id": "extraordinary-tragedy",
   "metadata": {},
   "outputs": [
    {
     "data": {
      "text/plain": [
       "2021-11-01    6596.0\n",
       "2021-12-01    6263.0\n",
       "dtype: float64"
      ]
     },
     "execution_count": 13,
     "metadata": {},
     "output_type": "execute_result"
    }
   ],
   "source": [
    "jolts_hire = fred.get_series('JTSHIL')\n",
    "jolts_hire.tail(2)"
   ]
  }
 ],
 "metadata": {
  "kernelspec": {
   "display_name": "Python 3",
   "language": "python",
   "name": "python3"
  },
  "language_info": {
   "codemirror_mode": {
    "name": "ipython",
    "version": 3
   },
   "file_extension": ".py",
   "mimetype": "text/x-python",
   "name": "python",
   "nbconvert_exporter": "python",
   "pygments_lexer": "ipython3",
   "version": "3.8.5"
  }
 },
 "nbformat": 4,
 "nbformat_minor": 5
}
