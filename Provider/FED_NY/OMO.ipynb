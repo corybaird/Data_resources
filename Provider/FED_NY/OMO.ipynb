{
 "cells": [
  {
   "cell_type": "code",
   "execution_count": 1,
   "metadata": {},
   "outputs": [],
   "source": [
    "import pandas as pd\n",
    "import quandl\n",
    "import datetime \n",
    "from fredapi import Fred\n",
    "import numpy as np\n",
    "import requests\n",
    "import os\n",
    "from bs4 import BeautifulSoup\n",
    "import json\n",
    "import matplotlib.pyplot as plt\n"
   ]
  },
  {
   "cell_type": "markdown",
   "metadata": {},
   "source": [
    "# NYFED: Open market operations\n",
    "\n",
    "- [PDF link](https://apps.newyorkfed.org/~/media/XML/Schemas/api_spec)\n",
    "    - Below code is based on page 27"
   ]
  },
  {
   "cell_type": "markdown",
   "metadata": {},
   "source": [
    "## N.1 Test API"
   ]
  },
  {
   "cell_type": "code",
   "execution_count": 2,
   "metadata": {},
   "outputs": [],
   "source": [
    "url = 'http://markets.newyorkfed.org/api/tsy/all/results/details/search.json?startdate=01/21/2021&enddate=07/20/2021'\n",
    "\n",
    "r = requests.get(url)\n",
    "json_data = json.loads(r.text)"
   ]
  },
  {
   "cell_type": "code",
   "execution_count": 3,
   "metadata": {},
   "outputs": [],
   "source": [
    "data_dict = {}\n",
    "for row in json.loads(r.text)['treasury']['auctions']:\n",
    "    total = row['totalParAmtAccepted']\n",
    "    date = row['operationDate']\n",
    "    op_type = row['operationType']\n",
    "    maturity_start = row['maturityRangeStart']\n",
    "    maturity_end = row['maturityRangeEnd']\n",
    "        \n",
    "    data_dict[date] = np.array([total,op_type, maturity_start, maturity_end])       "
   ]
  },
  {
   "cell_type": "code",
   "execution_count": 18,
   "metadata": {},
   "outputs": [
    {
     "data": {
      "text/html": [
       "<div>\n",
       "<style scoped>\n",
       "    .dataframe tbody tr th:only-of-type {\n",
       "        vertical-align: middle;\n",
       "    }\n",
       "\n",
       "    .dataframe tbody tr th {\n",
       "        vertical-align: top;\n",
       "    }\n",
       "\n",
       "    .dataframe thead th {\n",
       "        text-align: right;\n",
       "    }\n",
       "</style>\n",
       "<table border=\"1\" class=\"dataframe\">\n",
       "  <thead>\n",
       "    <tr style=\"text-align: right;\">\n",
       "      <th></th>\n",
       "      <th>0</th>\n",
       "      <th>1</th>\n",
       "      <th>2</th>\n",
       "      <th>3</th>\n",
       "    </tr>\n",
       "  </thead>\n",
       "  <tbody>\n",
       "    <tr>\n",
       "      <th>2021-07-20</th>\n",
       "      <td>1199000000</td>\n",
       "      <td>Outright TIPS Purchase</td>\n",
       "      <td>2029-04-15</td>\n",
       "      <td>2051-02-15</td>\n",
       "    </tr>\n",
       "    <tr>\n",
       "      <th>2021-07-19</th>\n",
       "      <td>1401000000</td>\n",
       "      <td>Outright Coupon Purchase</td>\n",
       "      <td>2036-02-15</td>\n",
       "      <td>2043-11-15</td>\n",
       "    </tr>\n",
       "    <tr>\n",
       "      <th>2021-07-16</th>\n",
       "      <td>3201000000</td>\n",
       "      <td>Outright Coupon Purchase</td>\n",
       "      <td>2028-08-15</td>\n",
       "      <td>2031-05-15</td>\n",
       "    </tr>\n",
       "  </tbody>\n",
       "</table>\n",
       "</div>"
      ],
      "text/plain": [
       "                     0                         1           2           3\n",
       "2021-07-20  1199000000    Outright TIPS Purchase  2029-04-15  2051-02-15\n",
       "2021-07-19  1401000000  Outright Coupon Purchase  2036-02-15  2043-11-15\n",
       "2021-07-16  3201000000  Outright Coupon Purchase  2028-08-15  2031-05-15"
      ]
     },
     "execution_count": 18,
     "metadata": {},
     "output_type": "execute_result"
    }
   ],
   "source": [
    "df = pd.DataFrame.from_dict(data_dict, orient='index')\n",
    "df.head(3)"
   ]
  },
  {
   "cell_type": "code",
   "execution_count": 5,
   "metadata": {},
   "outputs": [
    {
     "data": {
      "text/plain": [
       "array(['Outright TIPS Purchase', 'Outright Coupon Purchase',\n",
       "       'Outright FRN Sale'], dtype=object)"
      ]
     },
     "execution_count": 5,
     "metadata": {},
     "output_type": "execute_result"
    }
   ],
   "source": [
    "df.iloc[:, 1].unique()"
   ]
  },
  {
   "cell_type": "markdown",
   "metadata": {},
   "source": [
    "## N.2 Create function"
   ]
  },
  {
   "cell_type": "code",
   "execution_count": 6,
   "metadata": {},
   "outputs": [],
   "source": [
    "def data_fedny(op, rep_type, format_file, start, end):\n",
    "    url = \"https://markets.newyorkfed.org/api/tsy/{}/results/{}/search.{}?startdate={}&enddate={}\".format(\n",
    "        op, \n",
    "        rep_type, \n",
    "        format_file,\n",
    "        start,\n",
    "        end)\n",
    "    \n",
    "    r = requests.get(url)\n",
    "    \n",
    "    #\"\"\"\n",
    "    data_dict = {}\n",
    "    for row in json.loads(r.text)['treasury']['auctions']:\n",
    "        total = row['totalParAmtAccepted']\n",
    "        date = row['operationDate']\n",
    "        op_type = row['operationType']\n",
    "        maturity_start = row['maturityRangeStart']\n",
    "        maturity_end = row['maturityRangeEnd']\n",
    "\n",
    "        data_dict[date] = np.array([total,op_type, maturity_start, maturity_end])       \n",
    "    \n",
    "    df = pd.DataFrame.from_dict(data_dict, orient='index')\n",
    "    #\"\"\"\n",
    "    \n",
    "    return df"
   ]
  },
  {
   "cell_type": "code",
   "execution_count": 19,
   "metadata": {},
   "outputs": [
    {
     "data": {
      "text/html": [
       "<div>\n",
       "<style scoped>\n",
       "    .dataframe tbody tr th:only-of-type {\n",
       "        vertical-align: middle;\n",
       "    }\n",
       "\n",
       "    .dataframe tbody tr th {\n",
       "        vertical-align: top;\n",
       "    }\n",
       "\n",
       "    .dataframe thead th {\n",
       "        text-align: right;\n",
       "    }\n",
       "</style>\n",
       "<table border=\"1\" class=\"dataframe\">\n",
       "  <thead>\n",
       "    <tr style=\"text-align: right;\">\n",
       "      <th></th>\n",
       "      <th>0</th>\n",
       "      <th>1</th>\n",
       "      <th>2</th>\n",
       "      <th>3</th>\n",
       "    </tr>\n",
       "  </thead>\n",
       "  <tbody>\n",
       "    <tr>\n",
       "      <th>2022-02-15</th>\n",
       "      <td>3201000000</td>\n",
       "      <td>Outright Coupon Purchase</td>\n",
       "      <td>2026-08-31</td>\n",
       "      <td>2029-02-15</td>\n",
       "    </tr>\n",
       "    <tr>\n",
       "      <th>2022-02-10</th>\n",
       "      <td>3201000000</td>\n",
       "      <td>Outright Coupon Purchase</td>\n",
       "      <td>2029-02-15</td>\n",
       "      <td>2031-11-15</td>\n",
       "    </tr>\n",
       "  </tbody>\n",
       "</table>\n",
       "</div>"
      ],
      "text/plain": [
       "                     0                         1           2           3\n",
       "2022-02-15  3201000000  Outright Coupon Purchase  2026-08-31  2029-02-15\n",
       "2022-02-10  3201000000  Outright Coupon Purchase  2029-02-15  2031-11-15"
      ]
     },
     "execution_count": 19,
     "metadata": {},
     "output_type": "execute_result"
    }
   ],
   "source": [
    "df = data_fedny('purchases', #all, sales, purchases\n",
    "           'summary', # summary, details\n",
    "           'json', #csv,xlsx,xml,json\n",
    "           '01/01/2020', #start\n",
    "           '02/20/2022' #end\n",
    "          )\n",
    "df.head(2)"
   ]
  },
  {
   "cell_type": "code",
   "execution_count": 20,
   "metadata": {},
   "outputs": [
    {
     "name": "stdout",
     "output_type": "stream",
     "text": [
      "<class 'pandas.core.frame.DataFrame'>\n",
      "Index: 462 entries, 2022-02-15 to 2020-01-02\n",
      "Columns: 4 entries, 0 to 3\n",
      "dtypes: object(4)\n",
      "memory usage: 18.0+ KB\n"
     ]
    }
   ],
   "source": [
    "df.info(verbose=False)"
   ]
  },
  {
   "cell_type": "markdown",
   "metadata": {},
   "source": [
    "## N.3 Clean data"
   ]
  },
  {
   "cell_type": "code",
   "execution_count": 21,
   "metadata": {},
   "outputs": [
    {
     "data": {
      "text/html": [
       "<div>\n",
       "<style scoped>\n",
       "    .dataframe tbody tr th:only-of-type {\n",
       "        vertical-align: middle;\n",
       "    }\n",
       "\n",
       "    .dataframe tbody tr th {\n",
       "        vertical-align: top;\n",
       "    }\n",
       "\n",
       "    .dataframe thead th {\n",
       "        text-align: right;\n",
       "    }\n",
       "</style>\n",
       "<table border=\"1\" class=\"dataframe\">\n",
       "  <thead>\n",
       "    <tr style=\"text-align: right;\">\n",
       "      <th></th>\n",
       "      <th>total_purchases</th>\n",
       "      <th>type</th>\n",
       "      <th>maturity_shortest</th>\n",
       "      <th>maturity_longest</th>\n",
       "    </tr>\n",
       "  </thead>\n",
       "  <tbody>\n",
       "    <tr>\n",
       "      <th>2022-02-15</th>\n",
       "      <td>3201000000</td>\n",
       "      <td>Outright Coupon Purchase</td>\n",
       "      <td>2026-08-31</td>\n",
       "      <td>2029-02-15</td>\n",
       "    </tr>\n",
       "    <tr>\n",
       "      <th>2022-02-10</th>\n",
       "      <td>3201000000</td>\n",
       "      <td>Outright Coupon Purchase</td>\n",
       "      <td>2029-02-15</td>\n",
       "      <td>2031-11-15</td>\n",
       "    </tr>\n",
       "  </tbody>\n",
       "</table>\n",
       "</div>"
      ],
      "text/plain": [
       "           total_purchases                      type maturity_shortest  \\\n",
       "2022-02-15      3201000000  Outright Coupon Purchase        2026-08-31   \n",
       "2022-02-10      3201000000  Outright Coupon Purchase        2029-02-15   \n",
       "\n",
       "           maturity_longest  \n",
       "2022-02-15       2029-02-15  \n",
       "2022-02-10       2031-11-15  "
      ]
     },
     "execution_count": 21,
     "metadata": {},
     "output_type": "execute_result"
    }
   ],
   "source": [
    "df.columns = ['total_purchases', 'type', 'maturity_shortest','maturity_longest']\n",
    "df.index = pd.to_datetime(df.index)\n",
    "df.head(2)"
   ]
  },
  {
   "cell_type": "code",
   "execution_count": 22,
   "metadata": {},
   "outputs": [
    {
     "data": {
      "text/plain": [
       "array(['TIPS', 'Coupons', 'FRN', ' Bills'], dtype=object)"
      ]
     },
     "execution_count": 22,
     "metadata": {},
     "output_type": "execute_result"
    }
   ],
   "source": [
    "name_old = df.type.unique().tolist()\n",
    "name_new = ['TIPS', 'Coupons', 'FRN',' Bills']\n",
    "df.type = df.type.map(dict(zip(name_old, name_new)))\n",
    "df.type.unique()"
   ]
  },
  {
   "cell_type": "code",
   "execution_count": 23,
   "metadata": {},
   "outputs": [],
   "source": [
    "df.total_purchases = df.total_purchases.apply(float)"
   ]
  },
  {
   "cell_type": "code",
   "execution_count": 24,
   "metadata": {},
   "outputs": [
    {
     "name": "stdout",
     "output_type": "stream",
     "text": [
      "<class 'pandas.core.frame.DataFrame'>\n",
      "DatetimeIndex: 462 entries, 2022-02-15 to 2020-01-02\n",
      "Data columns (total 4 columns):\n",
      " #   Column             Non-Null Count  Dtype  \n",
      "---  ------             --------------  -----  \n",
      " 0   total_purchases    462 non-null    float64\n",
      " 1   type               462 non-null    object \n",
      " 2   maturity_shortest  462 non-null    object \n",
      " 3   maturity_longest   462 non-null    object \n",
      "dtypes: float64(1), object(3)\n",
      "memory usage: 18.0+ KB\n"
     ]
    }
   ],
   "source": [
    "df.info()"
   ]
  },
  {
   "cell_type": "markdown",
   "metadata": {},
   "source": [
    "## N.4 Plot"
   ]
  },
  {
   "cell_type": "code",
   "execution_count": 25,
   "metadata": {},
   "outputs": [
    {
     "data": {
      "text/html": [
       "<div>\n",
       "<style scoped>\n",
       "    .dataframe tbody tr th:only-of-type {\n",
       "        vertical-align: middle;\n",
       "    }\n",
       "\n",
       "    .dataframe tbody tr th {\n",
       "        vertical-align: top;\n",
       "    }\n",
       "\n",
       "    .dataframe thead th {\n",
       "        text-align: right;\n",
       "    }\n",
       "</style>\n",
       "<table border=\"1\" class=\"dataframe\">\n",
       "  <thead>\n",
       "    <tr style=\"text-align: right;\">\n",
       "      <th>type</th>\n",
       "      <th>Bills</th>\n",
       "      <th>Coupons</th>\n",
       "      <th>FRN</th>\n",
       "      <th>TIPS</th>\n",
       "    </tr>\n",
       "    <tr>\n",
       "      <th>index</th>\n",
       "      <th></th>\n",
       "      <th></th>\n",
       "      <th></th>\n",
       "      <th></th>\n",
       "    </tr>\n",
       "  </thead>\n",
       "  <tbody>\n",
       "    <tr>\n",
       "      <th>2020-01-02</th>\n",
       "      <td>NaN</td>\n",
       "      <td>NaN</td>\n",
       "      <td>NaN</td>\n",
       "      <td>2.399</td>\n",
       "    </tr>\n",
       "    <tr>\n",
       "      <th>2020-01-03</th>\n",
       "      <td>7.501</td>\n",
       "      <td>NaN</td>\n",
       "      <td>NaN</td>\n",
       "      <td>NaN</td>\n",
       "    </tr>\n",
       "  </tbody>\n",
       "</table>\n",
       "</div>"
      ],
      "text/plain": [
       "type         Bills  Coupons  FRN   TIPS\n",
       "index                                  \n",
       "2020-01-02     NaN      NaN  NaN  2.399\n",
       "2020-01-03   7.501      NaN  NaN    NaN"
      ]
     },
     "execution_count": 25,
     "metadata": {},
     "output_type": "execute_result"
    }
   ],
   "source": [
    "df_data = df[['total_purchases','type']].reset_index().pivot_table(\n",
    "    index='index',columns='type')\n",
    "df_data.columns = df_data.columns.droplevel(0)\n",
    "df_data = df_data.divide(1000000000).astype(float)\n",
    "df_data.head(2)"
   ]
  },
  {
   "cell_type": "code",
   "execution_count": 26,
   "metadata": {},
   "outputs": [
    {
     "data": {
      "image/png": "[encoded data removed]",
      "text/plain": [
       "<Figure size 432x288 with 1 Axes>"
      ]
     },
     "metadata": {
      "needs_background": "light"
     },
     "output_type": "display_data"
    }
   ],
   "source": [
    "df_monthly = df_data.resample('M').sum()\n",
    "ax = df_monthly.plot(kind='bar', stacked=True)\n",
    "ticks = [x.strftime('%Y-%m-%d') for x in df_monthly.index]\n",
    "ax.set_xticklabels(ticks, rotation=45);"
   ]
  },
  {
   "cell_type": "code",
   "execution_count": 27,
   "metadata": {},
   "outputs": [
    {
     "data": {
      "text/plain": [
       "Text(0.5, 1.0, '')"
      ]
     },
     "execution_count": 27,
     "metadata": {},
     "output_type": "execute_result"
    },
    {
     "data": {
      "image/png": "[encoded data removed]",
      "text/plain": [
       "<Figure size 432x288 with 1 Axes>"
      ]
     },
     "metadata": {
      "needs_background": "light"
     },
     "output_type": "display_data"
    }
   ],
   "source": [
    "ax = df_monthly.TIPS.plot(kind='bar', stacked=True)\n",
    "ticks = [x.strftime('%Y-%m-%d') for x in df_monthly.index]\n",
    "ax.set_xticklabels(ticks, rotation=45)\n",
    "plt.title('')"
   ]
  },
  {
   "cell_type": "code",
   "execution_count": null,
   "metadata": {},
   "outputs": [],
   "source": []
  }
 ],
 "metadata": {
  "kernelspec": {
   "display_name": "Python 3",
   "language": "python",
   "name": "python3"
  },
  "language_info": {
   "codemirror_mode": {
    "name": "ipython",
    "version": 3
   },
   "file_extension": ".py",
   "mimetype": "text/x-python",
   "name": "python",
   "nbconvert_exporter": "python",
   "pygments_lexer": "ipython3",
   "version": "3.8.5"
  }
 },
 "nbformat": 4,
 "nbformat_minor": 4
}
