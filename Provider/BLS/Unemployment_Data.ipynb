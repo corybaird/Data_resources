{
 "cells": [
  {
   "cell_type": "code",
   "execution_count": 1,
   "id": "decreased-outreach",
   "metadata": {},
   "outputs": [],
   "source": [
    "import pandas as pd\n",
    "import requests\n",
    "import json\n",
    "from fredapi import Fred\n",
    "import numpy as np\n",
    "import requests\n",
    "import os\n",
    "from tqdm import tqdm\n",
    "\n",
    "from bs4 import BeautifulSoup\n",
    "import json\n",
    "import matplotlib.pyplot as plt\n",
    "import quandl\n",
    "import re\n",
    "import seaborn as sns"
   ]
  },
  {
   "cell_type": "markdown",
   "id": "occupied-darwin",
   "metadata": {},
   "source": [
    "# BLS Data\n",
    "\n",
    "## 1. LOCAL AREA UNEMPLOYMENT STATISTICS \n",
    "- [Link](https://download.bls.gov/pub/time.series/la/)"
   ]
  },
  {
   "cell_type": "code",
   "execution_count": 2,
   "id": "vocational-navigation",
   "metadata": {},
   "outputs": [],
   "source": [
    "BLS_url = 'https://download.bls.gov/pub/time.series/la/'\n",
    "files = 'la.data.0.CurrentU15-19'"
   ]
  },
  {
   "cell_type": "code",
   "execution_count": 3,
   "id": "seven-acquisition",
   "metadata": {},
   "outputs": [
    {
     "data": {
      "text/plain": [
       "<Response [200]>"
      ]
     },
     "execution_count": 3,
     "metadata": {},
     "output_type": "execute_result"
    }
   ],
   "source": [
    "r = requests.get(BLS_url+files)\n",
    "r"
   ]
  },
  {
   "cell_type": "code",
   "execution_count": 4,
   "id": "indirect-plate",
   "metadata": {},
   "outputs": [],
   "source": [
    "area_data = [row.split('\\t') for row in r.text.split('\\n')]\n",
    "area_header = area_data[0]\n",
    "area_body = area_data[1:]\n",
    "\n",
    "areas_ls = []\n",
    "for row in area_body:\n",
    "    a_dict= {}\n",
    "    for col_num, val in enumerate(row):\n",
    "        a_dict[area_header[col_num]] = val\n",
    "    areas_ls.append(a_dict)\n",
    "    \n",
    "df_area = pd.DataFrame(areas_ls).dropna()"
   ]
  },
  {
   "cell_type": "code",
   "execution_count": 6,
   "id": "exempt-netherlands",
   "metadata": {},
   "outputs": [
    {
     "data": {
      "text/html": [
       "<div>\n",
       "<style scoped>\n",
       "    .dataframe tbody tr th:only-of-type {\n",
       "        vertical-align: middle;\n",
       "    }\n",
       "\n",
       "    .dataframe tbody tr th {\n",
       "        vertical-align: top;\n",
       "    }\n",
       "\n",
       "    .dataframe thead th {\n",
       "        text-align: right;\n",
       "    }\n",
       "</style>\n",
       "<table border=\"1\" class=\"dataframe\">\n",
       "  <thead>\n",
       "    <tr style=\"text-align: right;\">\n",
       "      <th></th>\n",
       "      <th>series_id</th>\n",
       "      <th>year</th>\n",
       "      <th>period</th>\n",
       "      <th>value</th>\n",
       "      <th>footnote_codes\\r</th>\n",
       "    </tr>\n",
       "  </thead>\n",
       "  <tbody>\n",
       "    <tr>\n",
       "      <th>0</th>\n",
       "      <td>LAUBS060000000000003</td>\n",
       "      <td>2015</td>\n",
       "      <td>M01</td>\n",
       "      <td>7.0</td>\n",
       "      <td>\\r</td>\n",
       "    </tr>\n",
       "    <tr>\n",
       "      <th>1</th>\n",
       "      <td>LAUBS060000000000003</td>\n",
       "      <td>2015</td>\n",
       "      <td>M02</td>\n",
       "      <td>6.7</td>\n",
       "      <td>\\r</td>\n",
       "    </tr>\n",
       "    <tr>\n",
       "      <th>2</th>\n",
       "      <td>LAUBS060000000000003</td>\n",
       "      <td>2015</td>\n",
       "      <td>M03</td>\n",
       "      <td>6.6</td>\n",
       "      <td>\\r</td>\n",
       "    </tr>\n",
       "  </tbody>\n",
       "</table>\n",
       "</div>"
      ],
      "text/plain": [
       "   series_id                       year period         value footnote_codes\\r\n",
       "0  LAUBS060000000000003            2015    M01           7.0               \\r\n",
       "1  LAUBS060000000000003            2015    M02           6.7               \\r\n",
       "2  LAUBS060000000000003            2015    M03           6.6               \\r"
      ]
     },
     "execution_count": 6,
     "metadata": {},
     "output_type": "execute_result"
    }
   ],
   "source": [
    "df_area.head(3)"
   ]
  },
  {
   "cell_type": "code",
   "execution_count": 7,
   "id": "renewable-realtor",
   "metadata": {},
   "outputs": [
    {
     "name": "stdout",
     "output_type": "stream",
     "text": [
      "<class 'pandas.core.frame.DataFrame'>\n",
      "Int64Index: 2163707 entries, 0 to 2163706\n",
      "Data columns (total 5 columns):\n",
      " #   Column                          Dtype \n",
      "---  ------                          ----- \n",
      " 0   series_id                       object\n",
      " 1   year                            object\n",
      " 2   period                          object\n",
      " 3          value                    object\n",
      " 4   footnote_codes\r",
      "                 object\n",
      "dtypes: object(5)\n",
      "memory usage: 99.0+ MB\n"
     ]
    }
   ],
   "source": [
    "df_area.info()"
   ]
  },
  {
   "cell_type": "markdown",
   "id": "friendly-straight",
   "metadata": {},
   "source": [
    "## 1.2 Time series\n",
    "- https://download.bls.gov/pub/time.series/la/"
   ]
  },
  {
   "cell_type": "code",
   "execution_count": 8,
   "id": "threaded-magic",
   "metadata": {},
   "outputs": [
    {
     "data": {
      "text/plain": [
       "<Response [200]>"
      ]
     },
     "execution_count": 8,
     "metadata": {},
     "output_type": "execute_result"
    }
   ],
   "source": [
    "url = 'https://download.bls.gov/pub/time.series/la/la.data.2.AllStatesU'\n",
    "r = requests.get(url)\n",
    "r"
   ]
  },
  {
   "cell_type": "code",
   "execution_count": 9,
   "id": "extended-constitution",
   "metadata": {},
   "outputs": [],
   "source": [
    "area_data = [row.split('\\t') for row in r.text.split('\\n')]\n",
    "area_header = area_data[0]\n",
    "area_body = area_data[1:]"
   ]
  },
  {
   "cell_type": "code",
   "execution_count": 10,
   "id": "prepared-specification",
   "metadata": {},
   "outputs": [],
   "source": [
    "areas_ls = []\n",
    "for row in area_body:\n",
    "    a_dict= {}\n",
    "    for col_num, val in enumerate(row):\n",
    "        a_dict[area_header[col_num]] = val\n",
    "    areas_ls.append(a_dict)\n",
    "    \n",
    "df_area = pd.DataFrame(areas_ls).dropna()"
   ]
  },
  {
   "cell_type": "code",
   "execution_count": 11,
   "id": "focused-vessel",
   "metadata": {},
   "outputs": [
    {
     "data": {
      "text/html": [
       "<div>\n",
       "<style scoped>\n",
       "    .dataframe tbody tr th:only-of-type {\n",
       "        vertical-align: middle;\n",
       "    }\n",
       "\n",
       "    .dataframe tbody tr th {\n",
       "        vertical-align: top;\n",
       "    }\n",
       "\n",
       "    .dataframe thead th {\n",
       "        text-align: right;\n",
       "    }\n",
       "</style>\n",
       "<table border=\"1\" class=\"dataframe\">\n",
       "  <thead>\n",
       "    <tr style=\"text-align: right;\">\n",
       "      <th></th>\n",
       "      <th>series_id</th>\n",
       "      <th>year</th>\n",
       "      <th>period</th>\n",
       "      <th>value</th>\n",
       "      <th>footnote_codes\\r</th>\n",
       "    </tr>\n",
       "  </thead>\n",
       "  <tbody>\n",
       "    <tr>\n",
       "      <th>0</th>\n",
       "      <td>LAUST010000000000003</td>\n",
       "      <td>1976</td>\n",
       "      <td>M01</td>\n",
       "      <td>7.5</td>\n",
       "      <td>\\r</td>\n",
       "    </tr>\n",
       "    <tr>\n",
       "      <th>1</th>\n",
       "      <td>LAUST010000000000003</td>\n",
       "      <td>1976</td>\n",
       "      <td>M02</td>\n",
       "      <td>7.7</td>\n",
       "      <td>\\r</td>\n",
       "    </tr>\n",
       "    <tr>\n",
       "      <th>2</th>\n",
       "      <td>LAUST010000000000003</td>\n",
       "      <td>1976</td>\n",
       "      <td>M03</td>\n",
       "      <td>6.3</td>\n",
       "      <td>\\r</td>\n",
       "    </tr>\n",
       "  </tbody>\n",
       "</table>\n",
       "</div>"
      ],
      "text/plain": [
       "   series_id                       year period         value footnote_codes\\r\n",
       "0  LAUST010000000000003            1976    M01           7.5               \\r\n",
       "1  LAUST010000000000003            1976    M02           7.7               \\r\n",
       "2  LAUST010000000000003            1976    M03           6.3               \\r"
      ]
     },
     "execution_count": 11,
     "metadata": {},
     "output_type": "execute_result"
    }
   ],
   "source": [
    "df_area.head(3)"
   ]
  },
  {
   "cell_type": "code",
   "execution_count": 12,
   "id": "little-switch",
   "metadata": {},
   "outputs": [
    {
     "data": {
      "text/html": [
       "<div>\n",
       "<style scoped>\n",
       "    .dataframe tbody tr th:only-of-type {\n",
       "        vertical-align: middle;\n",
       "    }\n",
       "\n",
       "    .dataframe tbody tr th {\n",
       "        vertical-align: top;\n",
       "    }\n",
       "\n",
       "    .dataframe thead th {\n",
       "        text-align: right;\n",
       "    }\n",
       "</style>\n",
       "<table border=\"1\" class=\"dataframe\">\n",
       "  <thead>\n",
       "    <tr style=\"text-align: right;\">\n",
       "      <th></th>\n",
       "      <th>series_id</th>\n",
       "      <th>year</th>\n",
       "      <th>period</th>\n",
       "      <th>value</th>\n",
       "      <th>footnote_codes</th>\n",
       "    </tr>\n",
       "  </thead>\n",
       "  <tbody>\n",
       "    <tr>\n",
       "      <th>0</th>\n",
       "      <td>LAUST010000000000003</td>\n",
       "      <td>1976</td>\n",
       "      <td>M01</td>\n",
       "      <td>7.5</td>\n",
       "      <td>\\r</td>\n",
       "    </tr>\n",
       "    <tr>\n",
       "      <th>1</th>\n",
       "      <td>LAUST010000000000003</td>\n",
       "      <td>1976</td>\n",
       "      <td>M02</td>\n",
       "      <td>7.7</td>\n",
       "      <td>\\r</td>\n",
       "    </tr>\n",
       "  </tbody>\n",
       "</table>\n",
       "</div>"
      ],
      "text/plain": [
       "                        series_id  year period         value footnote_codes\n",
       "0  LAUST010000000000003            1976    M01           7.5             \\r\n",
       "1  LAUST010000000000003            1976    M02           7.7             \\r"
      ]
     },
     "execution_count": 12,
     "metadata": {},
     "output_type": "execute_result"
    }
   ],
   "source": [
    "df_area.columns = [x.strip() for x in df_area.columns]\n",
    "df_area.head(2)"
   ]
  },
  {
   "cell_type": "code",
   "execution_count": 13,
   "id": "minute-kuwait",
   "metadata": {},
   "outputs": [],
   "source": [
    "df_area.series_id = [x.strip() for x in df_area.series_id]\n",
    "df_area.value = [x.strip() for x in df_area.value]"
   ]
  },
  {
   "cell_type": "code",
   "execution_count": 14,
   "id": "patient-turner",
   "metadata": {},
   "outputs": [],
   "source": [
    "url = 'https://bitbucket-students.deakin.edu.au/users/sunnyse/repos/companyandngo/raw/rcode/Statewise_Data.csv?at=f3a66771a58783e61a4465533e0cdb41d295d6f6'\n",
    "\n",
    "id_df = pd.read_csv(url, encoding='iso-8859-1' #'utf-8'\n",
    "                   )\n",
    "series_map = id_df.iloc[:, [1,3]].set_index('seriesID').to_dict()['State_Name']"
   ]
  },
  {
   "cell_type": "code",
   "execution_count": 15,
   "id": "sharp-hundred",
   "metadata": {},
   "outputs": [
    {
     "name": "stdout",
     "output_type": "stream",
     "text": [
      "LAUST010000000000003 Alabama\n"
     ]
    }
   ],
   "source": [
    "for key, value in series_map.items():\n",
    "    print(key,value)\n",
    "    break"
   ]
  },
  {
   "cell_type": "code",
   "execution_count": 16,
   "id": "greater-swing",
   "metadata": {},
   "outputs": [
    {
     "data": {
      "text/html": [
       "<div>\n",
       "<style scoped>\n",
       "    .dataframe tbody tr th:only-of-type {\n",
       "        vertical-align: middle;\n",
       "    }\n",
       "\n",
       "    .dataframe tbody tr th {\n",
       "        vertical-align: top;\n",
       "    }\n",
       "\n",
       "    .dataframe thead th {\n",
       "        text-align: right;\n",
       "    }\n",
       "</style>\n",
       "<table border=\"1\" class=\"dataframe\">\n",
       "  <thead>\n",
       "    <tr style=\"text-align: right;\">\n",
       "      <th></th>\n",
       "      <th>code</th>\n",
       "      <th>state</th>\n",
       "    </tr>\n",
       "  </thead>\n",
       "  <tbody>\n",
       "    <tr>\n",
       "      <th>0</th>\n",
       "      <td>LAUST010000000000003</td>\n",
       "      <td>Alabama</td>\n",
       "    </tr>\n",
       "    <tr>\n",
       "      <th>1</th>\n",
       "      <td>LAUST020000000000003</td>\n",
       "      <td>Alaska</td>\n",
       "    </tr>\n",
       "  </tbody>\n",
       "</table>\n",
       "</div>"
      ],
      "text/plain": [
       "                   code    state\n",
       "0  LAUST010000000000003  Alabama\n",
       "1  LAUST020000000000003   Alaska"
      ]
     },
     "execution_count": 16,
     "metadata": {},
     "output_type": "execute_result"
    }
   ],
   "source": [
    "url = 'https://raw.githubusercontent.com/fernrees/everify_diffusion/cdecd83eda4c0bcdf152cca620a980fe6daa29a9/data/originals/bls_data/bls_codes.csv'\n",
    "id_df = pd.read_csv(url)\n",
    "id_df.head(2)"
   ]
  },
  {
   "cell_type": "code",
   "execution_count": 17,
   "id": "welsh-edward",
   "metadata": {},
   "outputs": [],
   "source": [
    "series_map = id_df.set_index('code').to_dict()['state']"
   ]
  },
  {
   "cell_type": "code",
   "execution_count": 18,
   "id": "confident-navigation",
   "metadata": {},
   "outputs": [
    {
     "data": {
      "text/html": [
       "<div>\n",
       "<style scoped>\n",
       "    .dataframe tbody tr th:only-of-type {\n",
       "        vertical-align: middle;\n",
       "    }\n",
       "\n",
       "    .dataframe tbody tr th {\n",
       "        vertical-align: top;\n",
       "    }\n",
       "\n",
       "    .dataframe thead th {\n",
       "        text-align: right;\n",
       "    }\n",
       "</style>\n",
       "<table border=\"1\" class=\"dataframe\">\n",
       "  <thead>\n",
       "    <tr style=\"text-align: right;\">\n",
       "      <th></th>\n",
       "      <th>series_id</th>\n",
       "      <th>year</th>\n",
       "      <th>period</th>\n",
       "      <th>value</th>\n",
       "      <th>footnote_codes</th>\n",
       "    </tr>\n",
       "  </thead>\n",
       "  <tbody>\n",
       "    <tr>\n",
       "      <th>0</th>\n",
       "      <td>Alabama</td>\n",
       "      <td>1976</td>\n",
       "      <td>M01</td>\n",
       "      <td>7.5</td>\n",
       "      <td>\\r</td>\n",
       "    </tr>\n",
       "    <tr>\n",
       "      <th>1</th>\n",
       "      <td>Alabama</td>\n",
       "      <td>1976</td>\n",
       "      <td>M02</td>\n",
       "      <td>7.7</td>\n",
       "      <td>\\r</td>\n",
       "    </tr>\n",
       "  </tbody>\n",
       "</table>\n",
       "</div>"
      ],
      "text/plain": [
       "  series_id  year period value footnote_codes\n",
       "0   Alabama  1976    M01   7.5             \\r\n",
       "1   Alabama  1976    M02   7.7             \\r"
      ]
     },
     "execution_count": 18,
     "metadata": {},
     "output_type": "execute_result"
    }
   ],
   "source": [
    "df_area.series_id = df_area.series_id.replace(series_map).dropna()\n",
    "df_area.head(2)"
   ]
  },
  {
   "cell_type": "code",
   "execution_count": 19,
   "id": "light-exploration",
   "metadata": {},
   "outputs": [
    {
     "data": {
      "text/html": [
       "<div>\n",
       "<style scoped>\n",
       "    .dataframe tbody tr th:only-of-type {\n",
       "        vertical-align: middle;\n",
       "    }\n",
       "\n",
       "    .dataframe tbody tr th {\n",
       "        vertical-align: top;\n",
       "    }\n",
       "\n",
       "    .dataframe thead th {\n",
       "        text-align: right;\n",
       "    }\n",
       "</style>\n",
       "<table border=\"1\" class=\"dataframe\">\n",
       "  <thead>\n",
       "    <tr style=\"text-align: right;\">\n",
       "      <th></th>\n",
       "      <th>series_id</th>\n",
       "      <th>year</th>\n",
       "      <th>period</th>\n",
       "      <th>value</th>\n",
       "      <th>footnote_codes</th>\n",
       "    </tr>\n",
       "  </thead>\n",
       "  <tbody>\n",
       "    <tr>\n",
       "      <th>0</th>\n",
       "      <td>Alabama</td>\n",
       "      <td>1976</td>\n",
       "      <td>M01</td>\n",
       "      <td>7.5</td>\n",
       "      <td>\\r</td>\n",
       "    </tr>\n",
       "    <tr>\n",
       "      <th>1</th>\n",
       "      <td>Alabama</td>\n",
       "      <td>1976</td>\n",
       "      <td>M02</td>\n",
       "      <td>7.7</td>\n",
       "      <td>\\r</td>\n",
       "    </tr>\n",
       "  </tbody>\n",
       "</table>\n",
       "</div>"
      ],
      "text/plain": [
       "  series_id  year period value footnote_codes\n",
       "0   Alabama  1976    M01   7.5             \\r\n",
       "1   Alabama  1976    M02   7.7             \\r"
      ]
     },
     "execution_count": 19,
     "metadata": {},
     "output_type": "execute_result"
    }
   ],
   "source": [
    "state_list = id_df.state.to_list()\n",
    "mask = df_area.series_id.isin(state_list)\n",
    "df_area = df_area.loc[mask]\n",
    "df_area.head(2)"
   ]
  },
  {
   "cell_type": "code",
   "execution_count": 20,
   "id": "portable-sucking",
   "metadata": {},
   "outputs": [
    {
     "data": {
      "text/html": [
       "<div>\n",
       "<style scoped>\n",
       "    .dataframe tbody tr th:only-of-type {\n",
       "        vertical-align: middle;\n",
       "    }\n",
       "\n",
       "    .dataframe tbody tr th {\n",
       "        vertical-align: top;\n",
       "    }\n",
       "\n",
       "    .dataframe thead th {\n",
       "        text-align: right;\n",
       "    }\n",
       "</style>\n",
       "<table border=\"1\" class=\"dataframe\">\n",
       "  <thead>\n",
       "    <tr style=\"text-align: right;\">\n",
       "      <th></th>\n",
       "      <th>series_id</th>\n",
       "      <th>year</th>\n",
       "      <th>period</th>\n",
       "      <th>value</th>\n",
       "      <th>footnote_codes</th>\n",
       "    </tr>\n",
       "  </thead>\n",
       "  <tbody>\n",
       "    <tr>\n",
       "      <th>0</th>\n",
       "      <td>Alabama</td>\n",
       "      <td>1976</td>\n",
       "      <td>M01</td>\n",
       "      <td>7.5</td>\n",
       "      <td>\\r</td>\n",
       "    </tr>\n",
       "    <tr>\n",
       "      <th>1</th>\n",
       "      <td>Alabama</td>\n",
       "      <td>1976</td>\n",
       "      <td>M02</td>\n",
       "      <td>7.7</td>\n",
       "      <td>\\r</td>\n",
       "    </tr>\n",
       "  </tbody>\n",
       "</table>\n",
       "</div>"
      ],
      "text/plain": [
       "  series_id  year period  value footnote_codes\n",
       "0   Alabama  1976    M01    7.5             \\r\n",
       "1   Alabama  1976    M02    7.7             \\r"
      ]
     },
     "execution_count": 20,
     "metadata": {},
     "output_type": "execute_result"
    }
   ],
   "source": [
    "df_area.value = df_area.value.astype(float)\n",
    "df_area.head(2)"
   ]
  },
  {
   "cell_type": "code",
   "execution_count": null,
   "id": "recent-wheat",
   "metadata": {},
   "outputs": [],
   "source": []
  }
 ],
 "metadata": {
  "kernelspec": {
   "display_name": "Python 3",
   "language": "python",
   "name": "python3"
  },
  "language_info": {
   "codemirror_mode": {
    "name": "ipython",
    "version": 3
   },
   "file_extension": ".py",
   "mimetype": "text/x-python",
   "name": "python",
   "nbconvert_exporter": "python",
   "pygments_lexer": "ipython3",
   "version": "3.8.5"
  }
 },
 "nbformat": 4,
 "nbformat_minor": 5
}
