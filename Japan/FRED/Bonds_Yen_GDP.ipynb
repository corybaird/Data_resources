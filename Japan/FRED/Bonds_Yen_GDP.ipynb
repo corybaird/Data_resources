{
 "cells": [
  {
   "cell_type": "markdown",
   "id": "expected-evolution",
   "metadata": {},
   "source": [
    "## A.1 Import libraries"
   ]
  },
  {
   "cell_type": "code",
   "execution_count": 1,
   "id": "played-selling",
   "metadata": {},
   "outputs": [],
   "source": [
    "import pandas as pd\n",
    "import requests\n",
    "import numpy as np\n",
    "idx = pd.IndexSlice\n",
    "import matplotlib.pyplot as plt\n",
    "import quandl\n",
    "import datetime\n",
    "from fredapi import Fred"
   ]
  },
  {
   "cell_type": "markdown",
   "id": "great-circle",
   "metadata": {},
   "source": [
    "## A.2 Import api keys from txt file\n"
   ]
  },
  {
   "cell_type": "code",
   "execution_count": 13,
   "id": "surprised-livestock",
   "metadata": {},
   "outputs": [],
   "source": [
    "keys = open('keys.txt').readlines()\n",
    "keys_quandl = keys[0].rstrip()\n",
    "keys_fred = keys[1].rstrip()"
   ]
  },
  {
   "cell_type": "markdown",
   "id": "critical-enlargement",
   "metadata": {},
   "source": [
    "## A.3 Pass keys to use api\n",
    "- Note you can simply write in the keys_fred and keys_quandl as a string which you can access after you register for an api on the fred and quandl website"
   ]
  },
  {
   "cell_type": "code",
   "execution_count": 14,
   "id": "still-atlanta",
   "metadata": {},
   "outputs": [],
   "source": [
    "fred = Fred(api_key=keys_fred)\n",
    "quandl.ApiConfig.api_key = keys_quandl"
   ]
  },
  {
   "cell_type": "markdown",
   "id": "published-fitness",
   "metadata": {},
   "source": [
    "# 1. Yen"
   ]
  },
  {
   "cell_type": "markdown",
   "id": "starting-session",
   "metadata": {},
   "source": [
    "## 1.1 Nominal"
   ]
  },
  {
   "cell_type": "code",
   "execution_count": 15,
   "id": "requested-helping",
   "metadata": {},
   "outputs": [
    {
     "data": {
      "text/html": [
       "<div>\n",
       "<style scoped>\n",
       "    .dataframe tbody tr th:only-of-type {\n",
       "        vertical-align: middle;\n",
       "    }\n",
       "\n",
       "    .dataframe tbody tr th {\n",
       "        vertical-align: top;\n",
       "    }\n",
       "\n",
       "    .dataframe thead th {\n",
       "        text-align: right;\n",
       "    }\n",
       "</style>\n",
       "<table border=\"1\" class=\"dataframe\">\n",
       "  <thead>\n",
       "    <tr style=\"text-align: right;\">\n",
       "      <th></th>\n",
       "      <th>Value</th>\n",
       "    </tr>\n",
       "    <tr>\n",
       "      <th>Date</th>\n",
       "      <th></th>\n",
       "    </tr>\n",
       "  </thead>\n",
       "  <tbody>\n",
       "    <tr>\n",
       "      <th>2021-10</th>\n",
       "      <td>114.04</td>\n",
       "    </tr>\n",
       "    <tr>\n",
       "      <th>2021-11</th>\n",
       "      <td>113.51</td>\n",
       "    </tr>\n",
       "    <tr>\n",
       "      <th>2021-12</th>\n",
       "      <td>113.90</td>\n",
       "    </tr>\n",
       "  </tbody>\n",
       "</table>\n",
       "</div>"
      ],
      "text/plain": [
       "          Value\n",
       "Date           \n",
       "2021-10  114.04\n",
       "2021-11  113.51\n",
       "2021-12  113.90"
      ]
     },
     "execution_count": 15,
     "metadata": {},
     "output_type": "execute_result"
    }
   ],
   "source": [
    "df_yen = quandl.get('BOE/XUDLJYD')\n",
    "df_yen.name = 'Dollar/Yen'\n",
    "df_yen= df_yen.resample('M').last()\n",
    "df_yen.index = pd.PeriodIndex(df_yen.index, freq='M')\n",
    "df_yen.tail(3)"
   ]
  },
  {
   "cell_type": "markdown",
   "id": "formed-excerpt",
   "metadata": {},
   "source": [
    "## 1.2 Real"
   ]
  },
  {
   "cell_type": "code",
   "execution_count": 16,
   "id": "apparent-effectiveness",
   "metadata": {},
   "outputs": [
    {
     "data": {
      "text/plain": [
       "2021-08    71.08\n",
       "2021-09    70.86\n",
       "2021-10    68.71\n",
       "Freq: M, dtype: float64"
      ]
     },
     "execution_count": 16,
     "metadata": {},
     "output_type": "execute_result"
    }
   ],
   "source": [
    "df_yen_real = fred.get_series('RBJPBIS')\n",
    "df_yen_real.index = pd.PeriodIndex(df_yen_real.index, freq='M')\n",
    "df_yen_real.tail(3)"
   ]
  },
  {
   "cell_type": "markdown",
   "id": "induced-boards",
   "metadata": {},
   "source": [
    "## 1.3 Graph"
   ]
  },
  {
   "cell_type": "code",
   "execution_count": 17,
   "id": "primary-vertical",
   "metadata": {},
   "outputs": [
    {
     "data": {
      "text/html": [
       "<div>\n",
       "<style scoped>\n",
       "    .dataframe tbody tr th:only-of-type {\n",
       "        vertical-align: middle;\n",
       "    }\n",
       "\n",
       "    .dataframe tbody tr th {\n",
       "        vertical-align: top;\n",
       "    }\n",
       "\n",
       "    .dataframe thead th {\n",
       "        text-align: right;\n",
       "    }\n",
       "</style>\n",
       "<table border=\"1\" class=\"dataframe\">\n",
       "  <thead>\n",
       "    <tr style=\"text-align: right;\">\n",
       "      <th></th>\n",
       "      <th>Dollar/Yen</th>\n",
       "      <th>Yen(REER)</th>\n",
       "    </tr>\n",
       "  </thead>\n",
       "  <tbody>\n",
       "    <tr>\n",
       "      <th>Jan-94</th>\n",
       "      <td>108.95</td>\n",
       "      <td>127.55</td>\n",
       "    </tr>\n",
       "    <tr>\n",
       "      <th>Feb-94</th>\n",
       "      <td>104.15</td>\n",
       "      <td>132.69</td>\n",
       "    </tr>\n",
       "    <tr>\n",
       "      <th>Mar-94</th>\n",
       "      <td>102.80</td>\n",
       "      <td>133.95</td>\n",
       "    </tr>\n",
       "  </tbody>\n",
       "</table>\n",
       "</div>"
      ],
      "text/plain": [
       "        Dollar/Yen  Yen(REER)\n",
       "Jan-94      108.95     127.55\n",
       "Feb-94      104.15     132.69\n",
       "Mar-94      102.80     133.95"
      ]
     },
     "execution_count": 17,
     "metadata": {},
     "output_type": "execute_result"
    }
   ],
   "source": [
    "df_yen_final = pd.concat([df_yen, \n",
    "           df_yen_real],axis=1)\n",
    "\n",
    "df_yen_final.columns = ['Dollar/Yen', 'Yen(REER)']\n",
    "df_yen_final.index = df_yen_final.index.strftime('%b-%y')\n",
    "df_yen_final.dropna(inplace=True)\n",
    "df_yen_final.head(3)"
   ]
  },
  {
   "cell_type": "code",
   "execution_count": 18,
   "id": "engaged-arrangement",
   "metadata": {},
   "outputs": [
    {
     "data": {
      "text/plain": [
       "<AxesSubplot:>"
      ]
     },
     "execution_count": 18,
     "metadata": {},
     "output_type": "execute_result"
    },
    {
     "data": {
      "image/png": "[encoded data removed]",
      "text/plain": [
       "<Figure size 432x288 with 1 Axes>"
      ]
     },
     "metadata": {
      "needs_background": "light"
     },
     "output_type": "display_data"
    }
   ],
   "source": [
    "df_yen_final.plot()"
   ]
  },
  {
   "cell_type": "markdown",
   "id": "accomplished-reduction",
   "metadata": {},
   "source": [
    "# 2. GDP"
   ]
  },
  {
   "cell_type": "markdown",
   "id": "conceptual-teacher",
   "metadata": {},
   "source": [
    "## 2.1 US"
   ]
  },
  {
   "cell_type": "code",
   "execution_count": 19,
   "id": "talented-newton",
   "metadata": {},
   "outputs": [
    {
     "data": {
      "text/plain": [
       "2021-04-01    19368.310\n",
       "2021-07-01    19469.398\n",
       "dtype: float64"
      ]
     },
     "execution_count": 19,
     "metadata": {},
     "output_type": "execute_result"
    }
   ],
   "source": [
    "gdp_us = fred.get_series('GDPC1')\n",
    "gdp_us.tail(2)"
   ]
  },
  {
   "cell_type": "markdown",
   "id": "marine-license",
   "metadata": {},
   "source": [
    "## 2.2 Japan"
   ]
  },
  {
   "cell_type": "code",
   "execution_count": 20,
   "id": "surprising-seafood",
   "metadata": {},
   "outputs": [
    {
     "data": {
      "text/plain": [
       "2021-04-01    537631.0\n",
       "2021-07-01    532777.9\n",
       "dtype: float64"
      ]
     },
     "execution_count": 20,
     "metadata": {},
     "output_type": "execute_result"
    }
   ],
   "source": [
    "gdp_jp = fred.get_series('JPNRGDPEXP')\n",
    "gdp_jp.tail(2)"
   ]
  },
  {
   "cell_type": "markdown",
   "id": "major-baker",
   "metadata": {},
   "source": [
    "## 2.3 Plot"
   ]
  },
  {
   "cell_type": "code",
   "execution_count": 21,
   "id": "proud-arrow",
   "metadata": {},
   "outputs": [
    {
     "data": {
      "text/plain": [
       "<AxesSubplot:>"
      ]
     },
     "execution_count": 21,
     "metadata": {},
     "output_type": "execute_result"
    },
    {
     "data": {
      "image/png": "[encoded data removed]",
      "text/plain": [
       "<Figure size 432x288 with 1 Axes>"
      ]
     },
     "metadata": {
      "needs_background": "light"
     },
     "output_type": "display_data"
    }
   ],
   "source": [
    "gdp_change = pd.concat([\n",
    "    gdp_us.apply(lambda x: x/gdp_us['2020-01-01']).multiply(100),\n",
    "    gdp_jp.apply(lambda x: x/gdp_jp['2020-01-01']).multiply(100)], axis=1)\n",
    "\n",
    "gdp_change.columns = ['US','Japan']\n",
    "gdp_change['2019':].plot()"
   ]
  },
  {
   "cell_type": "markdown",
   "id": "mediterranean-johnson",
   "metadata": {},
   "source": [
    "# 3. Bonds-Real yield"
   ]
  },
  {
   "cell_type": "markdown",
   "id": "concerned-coast",
   "metadata": {},
   "source": [
    "## 3.1 Nominal yields"
   ]
  },
  {
   "cell_type": "code",
   "execution_count": 22,
   "id": "direct-welsh",
   "metadata": {},
   "outputs": [
    {
     "data": {
      "text/plain": [
       "2021-06-01    0.050\n",
       "2021-07-01    0.015\n",
       "2021-08-01    0.020\n",
       "2021-09-01    0.065\n",
       "2021-10-01    0.095\n",
       "dtype: float64"
      ]
     },
     "execution_count": 22,
     "metadata": {},
     "output_type": "execute_result"
    }
   ],
   "source": [
    "df_jgb = fred.get_series('IRLTLT01JPM156N')\n",
    "df_jgb.tail(5)"
   ]
  },
  {
   "cell_type": "code",
   "execution_count": 23,
   "id": "original-patio",
   "metadata": {},
   "outputs": [
    {
     "data": {
      "text/plain": [
       "2021-06-01    1.52\n",
       "2021-07-01    1.32\n",
       "2021-08-01    1.28\n",
       "2021-09-01    1.37\n",
       "2021-10-01    1.58\n",
       "dtype: float64"
      ]
     },
     "execution_count": 23,
     "metadata": {},
     "output_type": "execute_result"
    }
   ],
   "source": [
    "df_ust = fred.get_series('IRLTLT01USM156N')\n",
    "df_ust.tail(5)"
   ]
  },
  {
   "cell_type": "code",
   "execution_count": 24,
   "id": "bacterial-upgrade",
   "metadata": {},
   "outputs": [
    {
     "data": {
      "text/plain": [
       "<AxesSubplot:>"
      ]
     },
     "execution_count": 24,
     "metadata": {},
     "output_type": "execute_result"
    },
    {
     "data": {
      "image/png": "[encoded data removed]",
      "text/plain": [
       "<Figure size 432x288 with 1 Axes>"
      ]
     },
     "metadata": {
      "needs_background": "light"
     },
     "output_type": "display_data"
    }
   ],
   "source": [
    "df_diff = df_ust - df_jgb\n",
    "df_diff.dropna(inplace=True)\n",
    "df_diff.index = pd.PeriodIndex(df_diff.index, freq='M')\n",
    "df_diff.plot()"
   ]
  },
  {
   "cell_type": "markdown",
   "id": "recovered-program",
   "metadata": {},
   "source": [
    "## 3.2 Real yields\n",
    "\n",
    "### 3.2.1 CPI"
   ]
  },
  {
   "cell_type": "code",
   "execution_count": 25,
   "id": "dressed-clothing",
   "metadata": {},
   "outputs": [
    {
     "data": {
      "text/plain": [
       "1960-01-01    3.239289\n",
       "1960-02-01    3.777545\n",
       "dtype: float64"
      ]
     },
     "execution_count": 25,
     "metadata": {},
     "output_type": "execute_result"
    }
   ],
   "source": [
    "df_cpi_jp = fred.get_series('CPALTT01JPM659N')\n",
    "df_cpi_jp.dropna(inplace=True)\n",
    "df_cpi_jp.head(2)"
   ]
  },
  {
   "cell_type": "code",
   "execution_count": 26,
   "id": "colored-vitamin",
   "metadata": {},
   "outputs": [
    {
     "data": {
      "text/plain": [
       "2021-08-01    5.251272\n",
       "2021-09-01    5.390349\n",
       "dtype: float64"
      ]
     },
     "execution_count": 26,
     "metadata": {},
     "output_type": "execute_result"
    }
   ],
   "source": [
    "df_cpi_us = fred.get_series('CPALTT01USM659N')\n",
    "df_cpi_us.dropna(inplace=True)\n",
    "df_cpi_us.tail(2)"
   ]
  },
  {
   "cell_type": "markdown",
   "id": "creative-hartford",
   "metadata": {},
   "source": [
    "### 3.2.2 Calculate real yield: Subtract 3.2.1 from 3.1 "
   ]
  },
  {
   "cell_type": "code",
   "execution_count": 27,
   "id": "sacred-intelligence",
   "metadata": {},
   "outputs": [],
   "source": [
    "#df_jgb_real = df_jgb.subtract(df_cpi.Japan).dropna()\n",
    "df_jgb_real = df_jgb.subtract(df_cpi_jp).dropna()\n",
    "df_ust_real = df_ust.subtract(df_cpi_us).dropna()"
   ]
  },
  {
   "cell_type": "code",
   "execution_count": 28,
   "id": "digital-turkey",
   "metadata": {},
   "outputs": [
    {
     "data": {
      "text/plain": [
       "<matplotlib.legend.Legend at 0x7fb1200856a0>"
      ]
     },
     "execution_count": 28,
     "metadata": {},
     "output_type": "execute_result"
    },
    {
     "data": {
      "image/png": "[encoded data removed]",
      "text/plain": [
       "<Figure size 432x288 with 1 Axes>"
      ]
     },
     "metadata": {
      "needs_background": "light"
     },
     "output_type": "display_data"
    }
   ],
   "source": [
    "ax = df_jgb_real['2010':].plot(label = 'JGB 10-yr, real')\n",
    "df_ust_real['2010':].plot(label = 'UST 10-yr, real')\n",
    "plt.legend()"
   ]
  },
  {
   "cell_type": "code",
   "execution_count": null,
   "id": "documented-privilege",
   "metadata": {},
   "outputs": [],
   "source": []
  }
 ],
 "metadata": {
  "kernelspec": {
   "display_name": "Python 3",
   "language": "python",
   "name": "python3"
  },
  "language_info": {
   "codemirror_mode": {
    "name": "ipython",
    "version": 3
   },
   "file_extension": ".py",
   "mimetype": "text/x-python",
   "name": "python",
   "nbconvert_exporter": "python",
   "pygments_lexer": "ipython3",
   "version": "3.8.5"
  }
 },
 "nbformat": 4,
 "nbformat_minor": 5
}
