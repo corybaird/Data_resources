{
 "cells": [
  {
   "cell_type": "code",
   "execution_count": 1,
   "id": "substantial-oasis",
   "metadata": {},
   "outputs": [],
   "source": [
    "import pandas as pd\n",
    "import requests\n",
    "import numpy as np\n",
    "import json\n",
    "idx = pd.IndexSlice"
   ]
  },
  {
   "cell_type": "code",
   "execution_count": 2,
   "id": "curious-there",
   "metadata": {},
   "outputs": [],
   "source": [
    "appid = open('key_estat.txt').readlines()[0]"
   ]
  },
  {
   "cell_type": "markdown",
   "id": "exotic-incidence",
   "metadata": {},
   "source": [
    "# 1. Download data"
   ]
  },
  {
   "cell_type": "code",
   "execution_count": 3,
   "id": "bridal-laptop",
   "metadata": {},
   "outputs": [],
   "source": [
    "def download_series(series_id):\n",
    "    url = f'http://api.e-stat.go.jp/rest/3.0/app/json/getStatsData?appId={appid}&lang=E&statsDataId={series_id}&metaGetFlg=Y&cntGetFlg=N&explanationGetFlg=Y&annotationGetFlg=Y&sectionHeaderFlg=1&replaceSpChars=0'\n",
    "    r = requests.get(url)\n",
    "    json_data = json.loads(r.text)\n",
    "    return json_data"
   ]
  },
  {
   "cell_type": "code",
   "execution_count": 4,
   "id": "single-cruise",
   "metadata": {},
   "outputs": [],
   "source": [
    "res = download_series('0003427113')"
   ]
  },
  {
   "cell_type": "markdown",
   "id": "tamil-nurse",
   "metadata": {},
   "source": [
    "# 2. Convert json to pandas"
   ]
  },
  {
   "cell_type": "code",
   "execution_count": 5,
   "id": "electoral-slide",
   "metadata": {},
   "outputs": [],
   "source": [
    "def convert_pandas(json_data):\n",
    "    data_dict = []\n",
    "    for data in res['GET_STATS_DATA']['STATISTICAL_DATA']['DATA_INF']['VALUE']:\n",
    "   \n",
    "        data_dict.append([data['@area'], data['@time'], data['@cat01'], data['$']])\n",
    "    \n",
    "    df =pd.DataFrame(data_dict)\n",
    "    \n",
    "    df.columns = ['region','date','category','value']\n",
    "    df.date = [x[:4] + '-' + x[-2:] + '-01'  for x in df.date]\n",
    "    \n",
    "    mask = []\n",
    "    for x in df.date:\n",
    "        if '-00-' in x:\n",
    "            mask.append(False)\n",
    "        else:\n",
    "            mask.append(True)\n",
    "    \n",
    "    df = df.loc[mask,:]\n",
    "    df.date = pd.to_datetime(df.date)\n",
    "    df.value = df.value.astype(float)\n",
    "    df.set_index(['region','date'], inplace=True)\n",
    "    \n",
    "    \n",
    "    return df"
   ]
  },
  {
   "cell_type": "code",
   "execution_count": 6,
   "id": "indonesian-announcement",
   "metadata": {},
   "outputs": [
    {
     "data": {
      "text/html": [
       "<div>\n",
       "<style scoped>\n",
       "    .dataframe tbody tr th:only-of-type {\n",
       "        vertical-align: middle;\n",
       "    }\n",
       "\n",
       "    .dataframe tbody tr th {\n",
       "        vertical-align: top;\n",
       "    }\n",
       "\n",
       "    .dataframe thead th {\n",
       "        text-align: right;\n",
       "    }\n",
       "</style>\n",
       "<table border=\"1\" class=\"dataframe\">\n",
       "  <thead>\n",
       "    <tr style=\"text-align: right;\">\n",
       "      <th></th>\n",
       "      <th></th>\n",
       "      <th>category</th>\n",
       "      <th>value</th>\n",
       "    </tr>\n",
       "    <tr>\n",
       "      <th>region</th>\n",
       "      <th>date</th>\n",
       "      <th></th>\n",
       "      <th></th>\n",
       "    </tr>\n",
       "  </thead>\n",
       "  <tbody>\n",
       "    <tr>\n",
       "      <th rowspan=\"2\" valign=\"top\">13A01</th>\n",
       "      <th>2021-11-01</th>\n",
       "      <td>0001</td>\n",
       "      <td>100.0</td>\n",
       "    </tr>\n",
       "    <tr>\n",
       "      <th>2021-10-01</th>\n",
       "      <td>0001</td>\n",
       "      <td>99.9</td>\n",
       "    </tr>\n",
       "  </tbody>\n",
       "</table>\n",
       "</div>"
      ],
      "text/plain": [
       "                  category  value\n",
       "region date                      \n",
       "13A01  2021-11-01     0001  100.0\n",
       "       2021-10-01     0001   99.9"
      ]
     },
     "execution_count": 6,
     "metadata": {},
     "output_type": "execute_result"
    }
   ],
   "source": [
    "df = convert_pandas(res)\n",
    "df.head(2)"
   ]
  },
  {
   "cell_type": "markdown",
   "id": "realistic-pierce",
   "metadata": {},
   "source": [
    "# 3. Show Nationwide CPI only"
   ]
  },
  {
   "cell_type": "markdown",
   "id": "auburn-royalty",
   "metadata": {},
   "source": [
    "## 3.1 Convert area code to name"
   ]
  },
  {
   "cell_type": "code",
   "execution_count": 7,
   "id": "funky-tulsa",
   "metadata": {},
   "outputs": [
    {
     "data": {
      "text/plain": [
       "'All Japan'"
      ]
     },
     "execution_count": 7,
     "metadata": {},
     "output_type": "execute_result"
    }
   ],
   "source": [
    "areas = {}\n",
    "for item in res['GET_STATS_DATA']['STATISTICAL_DATA']['CLASS_INF']['CLASS_OBJ']:\n",
    "    if item['@id']=='area':\n",
    "        for code in item['CLASS']:\n",
    "            areas.update({code['@code'] : code['@name']})\n",
    "areas['00000']"
   ]
  },
  {
   "cell_type": "code",
   "execution_count": 8,
   "id": "gorgeous-leave",
   "metadata": {},
   "outputs": [
    {
     "data": {
      "text/plain": [
       "'All items'"
      ]
     },
     "execution_count": 8,
     "metadata": {},
     "output_type": "execute_result"
    }
   ],
   "source": [
    "cats ={}\n",
    "for item in res['GET_STATS_DATA']['STATISTICAL_DATA']['CLASS_INF']['CLASS_OBJ']:\n",
    "    if item['@id']=='cat01':\n",
    "        for code in item['CLASS']:\n",
    "            cats.update({code['@code'] : code['@name']})\n",
    "cats['0001']"
   ]
  },
  {
   "cell_type": "markdown",
   "id": "bulgarian-yacht",
   "metadata": {},
   "source": [
    "## 3.2 Map new data\n",
    "### 3.2.1 Overwrite multicolumn index"
   ]
  },
  {
   "cell_type": "code",
   "execution_count": 9,
   "id": "swiss-valley",
   "metadata": {},
   "outputs": [
    {
     "data": {
      "text/plain": [
       "Index(['Ku-area of Tokyo', 'Ku-area of Tokyo', 'Ku-area of Tokyo'], dtype='object', name='region')"
      ]
     },
     "execution_count": 9,
     "metadata": {},
     "output_type": "execute_result"
    }
   ],
   "source": [
    "new_index = df.index.get_level_values(0).map(areas)\n",
    "new_index[:3]"
   ]
  },
  {
   "cell_type": "code",
   "execution_count": 10,
   "id": "infectious-danger",
   "metadata": {},
   "outputs": [],
   "source": [
    "def edit_multicol(df, level, new_name):\n",
    "    \n",
    "    if level == 0:\n",
    "        df.index = pd.MultiIndex.from_arrays([\n",
    "            new_name,\n",
    "            df.index.get_level_values(1)\n",
    "        ])\n",
    "    else:\n",
    "         df.index = pd.MultiIndex.from_arrays([\n",
    "            df.index.get_level_values(0),\n",
    "            new_name,\n",
    "        ])\n",
    "    \n",
    "    return df"
   ]
  },
  {
   "cell_type": "code",
   "execution_count": 11,
   "id": "internal-boost",
   "metadata": {},
   "outputs": [
    {
     "data": {
      "text/html": [
       "<div>\n",
       "<style scoped>\n",
       "    .dataframe tbody tr th:only-of-type {\n",
       "        vertical-align: middle;\n",
       "    }\n",
       "\n",
       "    .dataframe tbody tr th {\n",
       "        vertical-align: top;\n",
       "    }\n",
       "\n",
       "    .dataframe thead th {\n",
       "        text-align: right;\n",
       "    }\n",
       "</style>\n",
       "<table border=\"1\" class=\"dataframe\">\n",
       "  <thead>\n",
       "    <tr style=\"text-align: right;\">\n",
       "      <th></th>\n",
       "      <th></th>\n",
       "      <th>category</th>\n",
       "      <th>value</th>\n",
       "    </tr>\n",
       "    <tr>\n",
       "      <th>region</th>\n",
       "      <th>date</th>\n",
       "      <th></th>\n",
       "      <th></th>\n",
       "    </tr>\n",
       "  </thead>\n",
       "  <tbody>\n",
       "    <tr>\n",
       "      <th rowspan=\"3\" valign=\"top\">Ku-area of Tokyo</th>\n",
       "      <th>2021-11-01</th>\n",
       "      <td>0001</td>\n",
       "      <td>100.0</td>\n",
       "    </tr>\n",
       "    <tr>\n",
       "      <th>2021-10-01</th>\n",
       "      <td>0001</td>\n",
       "      <td>99.9</td>\n",
       "    </tr>\n",
       "    <tr>\n",
       "      <th>2021-09-01</th>\n",
       "      <td>0001</td>\n",
       "      <td>100.1</td>\n",
       "    </tr>\n",
       "  </tbody>\n",
       "</table>\n",
       "</div>"
      ],
      "text/plain": [
       "                            category  value\n",
       "region           date                      \n",
       "Ku-area of Tokyo 2021-11-01     0001  100.0\n",
       "                 2021-10-01     0001   99.9\n",
       "                 2021-09-01     0001  100.1"
      ]
     },
     "execution_count": 11,
     "metadata": {},
     "output_type": "execute_result"
    }
   ],
   "source": [
    "df = edit_multicol(df, 0, new_index)\n",
    "df.head(3)"
   ]
  },
  {
   "cell_type": "markdown",
   "id": "otherwise-wisconsin",
   "metadata": {},
   "source": [
    "### 3.2.2 Map categories"
   ]
  },
  {
   "cell_type": "code",
   "execution_count": 12,
   "id": "proved-pendant",
   "metadata": {},
   "outputs": [
    {
     "data": {
      "text/html": [
       "<div>\n",
       "<style scoped>\n",
       "    .dataframe tbody tr th:only-of-type {\n",
       "        vertical-align: middle;\n",
       "    }\n",
       "\n",
       "    .dataframe tbody tr th {\n",
       "        vertical-align: top;\n",
       "    }\n",
       "\n",
       "    .dataframe thead th {\n",
       "        text-align: right;\n",
       "    }\n",
       "</style>\n",
       "<table border=\"1\" class=\"dataframe\">\n",
       "  <thead>\n",
       "    <tr style=\"text-align: right;\">\n",
       "      <th></th>\n",
       "      <th></th>\n",
       "      <th>category</th>\n",
       "      <th>value</th>\n",
       "    </tr>\n",
       "    <tr>\n",
       "      <th>region</th>\n",
       "      <th>date</th>\n",
       "      <th></th>\n",
       "      <th></th>\n",
       "    </tr>\n",
       "  </thead>\n",
       "  <tbody>\n",
       "    <tr>\n",
       "      <th rowspan=\"2\" valign=\"top\">Ku-area of Tokyo</th>\n",
       "      <th>2021-11-01</th>\n",
       "      <td>All items</td>\n",
       "      <td>100.0</td>\n",
       "    </tr>\n",
       "    <tr>\n",
       "      <th>2021-10-01</th>\n",
       "      <td>All items</td>\n",
       "      <td>99.9</td>\n",
       "    </tr>\n",
       "  </tbody>\n",
       "</table>\n",
       "</div>"
      ],
      "text/plain": [
       "                              category  value\n",
       "region           date                        \n",
       "Ku-area of Tokyo 2021-11-01  All items  100.0\n",
       "                 2021-10-01  All items   99.9"
      ]
     },
     "execution_count": 12,
     "metadata": {},
     "output_type": "execute_result"
    }
   ],
   "source": [
    "df.category = df.category.map(cats)\n",
    "df.head(2)"
   ]
  },
  {
   "cell_type": "markdown",
   "id": "surrounded-worcester",
   "metadata": {},
   "source": [
    "## 3.3 Slice"
   ]
  },
  {
   "cell_type": "markdown",
   "id": "hispanic-andorra",
   "metadata": {},
   "source": [
    "### 3.3.1 All items"
   ]
  },
  {
   "cell_type": "code",
   "execution_count": 13,
   "id": "blessed-premium",
   "metadata": {},
   "outputs": [
    {
     "data": {
      "text/html": [
       "<div>\n",
       "<style scoped>\n",
       "    .dataframe tbody tr th:only-of-type {\n",
       "        vertical-align: middle;\n",
       "    }\n",
       "\n",
       "    .dataframe tbody tr th {\n",
       "        vertical-align: top;\n",
       "    }\n",
       "\n",
       "    .dataframe thead th {\n",
       "        text-align: right;\n",
       "    }\n",
       "</style>\n",
       "<table border=\"1\" class=\"dataframe\">\n",
       "  <thead>\n",
       "    <tr style=\"text-align: right;\">\n",
       "      <th></th>\n",
       "      <th></th>\n",
       "      <th>category</th>\n",
       "      <th>value</th>\n",
       "    </tr>\n",
       "    <tr>\n",
       "      <th>region</th>\n",
       "      <th>date</th>\n",
       "      <th></th>\n",
       "      <th></th>\n",
       "    </tr>\n",
       "  </thead>\n",
       "  <tbody>\n",
       "    <tr>\n",
       "      <th rowspan=\"2\" valign=\"top\">Ku-area of Tokyo</th>\n",
       "      <th>2021-11-01</th>\n",
       "      <td>All items</td>\n",
       "      <td>100.0</td>\n",
       "    </tr>\n",
       "    <tr>\n",
       "      <th>2021-10-01</th>\n",
       "      <td>All items</td>\n",
       "      <td>99.9</td>\n",
       "    </tr>\n",
       "  </tbody>\n",
       "</table>\n",
       "</div>"
      ],
      "text/plain": [
       "                              category  value\n",
       "region           date                        \n",
       "Ku-area of Tokyo 2021-11-01  All items  100.0\n",
       "                 2021-10-01  All items   99.9"
      ]
     },
     "execution_count": 13,
     "metadata": {},
     "output_type": "execute_result"
    }
   ],
   "source": [
    "# Row slice\n",
    "mask_row = df.category == 'All items'\n",
    "df_all = df.loc[mask_row.values,:]\n",
    "df_all.head(2)"
   ]
  },
  {
   "cell_type": "markdown",
   "id": "million-research",
   "metadata": {},
   "source": [
    "### 3.3.2 All Japan"
   ]
  },
  {
   "cell_type": "code",
   "execution_count": 14,
   "id": "combined-exhibition",
   "metadata": {},
   "outputs": [
    {
     "data": {
      "text/plain": [
       "Index(['Ku-area of Tokyo', 'All Japan', 'Major cities'], dtype='object', name='region')"
      ]
     },
     "execution_count": 14,
     "metadata": {},
     "output_type": "execute_result"
    }
   ],
   "source": [
    "df.index.get_level_values(0).unique()[:3]"
   ]
  },
  {
   "cell_type": "code",
   "execution_count": 15,
   "id": "czech-celtic",
   "metadata": {},
   "outputs": [
    {
     "name": "stderr",
     "output_type": "stream",
     "text": [
      "/Users/corybaird/opt/miniconda3/lib/python3.8/site-packages/pandas/core/frame.py:5579: SettingWithCopyWarning: \n",
      "A value is trying to be set on a copy of a slice from a DataFrame\n",
      "\n",
      "See the caveats in the documentation: https://pandas.pydata.org/pandas-docs/stable/user_guide/indexing.html#returning-a-view-versus-a-copy\n",
      "  return super().sort_index(\n"
     ]
    },
    {
     "data": {
      "text/html": [
       "<div>\n",
       "<style scoped>\n",
       "    .dataframe tbody tr th:only-of-type {\n",
       "        vertical-align: middle;\n",
       "    }\n",
       "\n",
       "    .dataframe tbody tr th {\n",
       "        vertical-align: top;\n",
       "    }\n",
       "\n",
       "    .dataframe thead th {\n",
       "        text-align: right;\n",
       "    }\n",
       "</style>\n",
       "<table border=\"1\" class=\"dataframe\">\n",
       "  <thead>\n",
       "    <tr style=\"text-align: right;\">\n",
       "      <th></th>\n",
       "      <th>category</th>\n",
       "      <th>value</th>\n",
       "    </tr>\n",
       "    <tr>\n",
       "      <th>date</th>\n",
       "      <th></th>\n",
       "      <th></th>\n",
       "    </tr>\n",
       "  </thead>\n",
       "  <tbody>\n",
       "    <tr>\n",
       "      <th>1970-01-01</th>\n",
       "      <td>All items</td>\n",
       "      <td>30.3</td>\n",
       "    </tr>\n",
       "    <tr>\n",
       "      <th>1970-02-01</th>\n",
       "      <td>All items</td>\n",
       "      <td>30.3</td>\n",
       "    </tr>\n",
       "  </tbody>\n",
       "</table>\n",
       "</div>"
      ],
      "text/plain": [
       "             category  value\n",
       "date                        \n",
       "1970-01-01  All items   30.3\n",
       "1970-02-01  All items   30.3"
      ]
     },
     "execution_count": 15,
     "metadata": {},
     "output_type": "execute_result"
    }
   ],
   "source": [
    "df_nationwide = df_all.loc[idx['All Japan',:], :]\n",
    "df_nationwide.index = df_nationwide.index.droplevel(0)\n",
    "df_nationwide.sort_index(inplace=True)\n",
    "df_nationwide.head(2)"
   ]
  },
  {
   "cell_type": "markdown",
   "id": "active-deputy",
   "metadata": {},
   "source": [
    "#### 3.2.2.1 Convert to y-o-y changes"
   ]
  },
  {
   "cell_type": "code",
   "execution_count": 16,
   "id": "modern-prescription",
   "metadata": {},
   "outputs": [
    {
     "data": {
      "image/png": "[encoded data removed]",
      "text/plain": [
       "<Figure size 432x288 with 1 Axes>"
      ]
     },
     "metadata": {
      "needs_background": "light"
     },
     "output_type": "display_data"
    }
   ],
   "source": [
    "df_nationwide.value.pct_change(12).multiply(100).plot();"
   ]
  },
  {
   "cell_type": "code",
   "execution_count": null,
   "id": "extreme-highland",
   "metadata": {},
   "outputs": [],
   "source": []
  }
 ],
 "metadata": {
  "kernelspec": {
   "display_name": "Python 3",
   "language": "python",
   "name": "python3"
  },
  "language_info": {
   "codemirror_mode": {
    "name": "ipython",
    "version": 3
   },
   "file_extension": ".py",
   "mimetype": "text/x-python",
   "name": "python",
   "nbconvert_exporter": "python",
   "pygments_lexer": "ipython3",
   "version": "3.8.5"
  }
 },
 "nbformat": 4,
 "nbformat_minor": 5
}
